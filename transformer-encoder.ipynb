{
 "cells": [
  {
   "cell_type": "code",
   "execution_count": 1,
   "id": "b22393f6",
   "metadata": {
    "_cell_guid": "b1076dfc-b9ad-4769-8c92-a6c4dae69d19",
    "_uuid": "8f2839f25d086af736a60e9eeb907d3b93b6e0e5",
    "execution": {
     "iopub.execute_input": "2023-12-20T19:19:15.386662Z",
     "iopub.status.busy": "2023-12-20T19:19:15.385859Z",
     "iopub.status.idle": "2023-12-20T19:19:16.355675Z",
     "shell.execute_reply": "2023-12-20T19:19:16.354385Z"
    },
    "papermill": {
     "duration": 0.98105,
     "end_time": "2023-12-20T19:19:16.359678",
     "exception": false,
     "start_time": "2023-12-20T19:19:15.378628",
     "status": "completed"
    },
    "tags": []
   },
   "outputs": [],
   "source": [
    "# This Python 3 environment comes with many helpful analytics libraries installed\n",
    "# It is defined by the kaggle/python Docker image: https://github.com/kaggle/docker-python\n",
    "# For example, here's several helpful packages to load\n",
    "\n",
    "import numpy as np # linear algebra\n",
    "import pandas as pd # data processing, CSV file I/O (e.g. pd.read_csv)\n",
    "   \n",
    "# Input data files are available in the read-only \"../input/\" directory\n",
    "# For example, running this (by clicking run or pressing Shift+Enter) will list all files under the input directory"
   ]
  },
  {
   "cell_type": "code",
   "execution_count": 2,
   "id": "958f30df",
   "metadata": {
    "_cell_guid": "b1076dfc-b9ad-4769-8c92-a6c4dae69d19",
    "_uuid": "8f2839f25d086af736a60e9eeb907d3b93b6e0e5",
    "execution": {
     "iopub.execute_input": "2023-12-20T19:19:16.374665Z",
     "iopub.status.busy": "2023-12-20T19:19:16.373072Z",
     "iopub.status.idle": "2023-12-20T19:19:16.386096Z",
     "shell.execute_reply": "2023-12-20T19:19:16.384614Z"
    },
    "papermill": {
     "duration": 0.02246,
     "end_time": "2023-12-20T19:19:16.389440",
     "exception": false,
     "start_time": "2023-12-20T19:19:16.366980",
     "status": "completed"
    },
    "tags": []
   },
   "outputs": [
    {
     "name": "stdout",
     "output_type": "stream",
     "text": [
      "/kaggle/input/testset/trimmed_001.mp4\n",
      "/kaggle/input/testset/lsa-padded_matrix_file.csv\n",
      "/kaggle/input/testset/001.mp4\n",
      "/kaggle/input/testset/lsa-train-matrix_file.csv\n",
      "/kaggle/input/testset/matrix_file.csv\n",
      "/kaggle/input/testset/lsa-test-matrix_file.csv\n"
     ]
    }
   ],
   "source": [
    "import os\n",
    "for dirname, _, filenames in os.walk('/kaggle/input/testset'):\n",
    "    for filename in filenames:\n",
    "        print(os.path.join(dirname, filename))\n"
   ]
  },
  {
   "cell_type": "code",
   "execution_count": 3,
   "id": "72cd8539",
   "metadata": {
    "execution": {
     "iopub.execute_input": "2023-12-20T19:19:16.400709Z",
     "iopub.status.busy": "2023-12-20T19:19:16.400323Z",
     "iopub.status.idle": "2023-12-20T19:19:21.895159Z",
     "shell.execute_reply": "2023-12-20T19:19:21.893724Z"
    },
    "papermill": {
     "duration": 5.504278,
     "end_time": "2023-12-20T19:19:21.898088",
     "exception": false,
     "start_time": "2023-12-20T19:19:16.393810",
     "status": "completed"
    },
    "tags": []
   },
   "outputs": [],
   "source": [
    "import torch\n",
    "import torch.nn as nn\n",
    "import torch.optim as optim\n",
    "from torch.utils.data import Dataset, DataLoader\n",
    "from sklearn.model_selection import train_test_split\n",
    "import numpy as np\n",
    "import csv\n",
    "import ast\n",
    "import torch.nn.functional as F\n",
    "import matplotlib.pyplot as plt\n",
    "import plotly.graph_objs as go\n",
    "from plotly.subplots import make_subplots\n",
    "from sklearn.manifold import TSNE\n",
    "from mpl_toolkits.mplot3d import Axes3D\n",
    "from sklearn.preprocessing import LabelEncoder"
   ]
  },
  {
   "cell_type": "code",
   "execution_count": 4,
   "id": "11517821",
   "metadata": {
    "execution": {
     "iopub.execute_input": "2023-12-20T19:19:21.909117Z",
     "iopub.status.busy": "2023-12-20T19:19:21.908535Z",
     "iopub.status.idle": "2023-12-20T19:19:21.914777Z",
     "shell.execute_reply": "2023-12-20T19:19:21.913629Z"
    },
    "papermill": {
     "duration": 0.01458,
     "end_time": "2023-12-20T19:19:21.917205",
     "exception": false,
     "start_time": "2023-12-20T19:19:21.902625",
     "status": "completed"
    },
    "tags": []
   },
   "outputs": [],
   "source": [
    "#comment this when using full dataset\n",
    "\n",
    "#Get all skeleton locations into a single cell\n",
    "\n",
    "import csv\n",
    "\n",
    "# # Specify the input and output file paths\n",
    "# input_path = '/kaggle/input/testset/lsa-padded_matrix_file.csv'\n",
    "# output_path = '/kaggle/working/selected_classes_padded_matrix.csv'\n",
    "\n",
    "# selected_classes = [1,2,3,4,30,31,33,34,35,50]\n",
    "\n",
    "\n",
    "# # Open the input CSV file and the output CSV file\n",
    "# with open(input_path, 'r') as input_file, open(output_path, 'w', newline='') as output_file:\n",
    "\n",
    "#     # Create a CSV reader object and a CSV writer object\n",
    "#     reader = csv.reader(input_file)\n",
    "#     writer = csv.writer(output_file)\n",
    "\n",
    "#     # Iterate over each row in the input CSV file\n",
    "#     for row in reader:\n",
    "\n",
    "#         clss = row[-1]\n",
    "        \n",
    "#         if (int(clss) in selected_classes):\n",
    "            \n",
    "#             row = row[:-1] + [selected_classes.index(int(clss))] \n",
    "            \n",
    "#             writer.writerow(row)"
   ]
  },
  {
   "cell_type": "code",
   "execution_count": 5,
   "id": "426d6f7b",
   "metadata": {
    "execution": {
     "iopub.execute_input": "2023-12-20T19:19:21.928050Z",
     "iopub.status.busy": "2023-12-20T19:19:21.927643Z",
     "iopub.status.idle": "2023-12-20T19:23:08.267795Z",
     "shell.execute_reply": "2023-12-20T19:23:08.266585Z"
    },
    "papermill": {
     "duration": 226.348881,
     "end_time": "2023-12-20T19:23:08.270684",
     "exception": false,
     "start_time": "2023-12-20T19:19:21.921803",
     "status": "completed"
    },
    "tags": []
   },
   "outputs": [],
   "source": [
    "# Code for loading the data (unchanged)\n",
    "# input_file = \"/kaggle/working/selected_classes_padded_matrix.csv\"\n",
    "input_file = \"/kaggle/input/testset/lsa-padded_matrix_file.csv\"\n",
    "\n",
    "\n",
    "values = []\n",
    "matrix_labels = []\n",
    "num_rows = 0\n",
    "\n",
    "with open(input_file, \"r\") as f_input:\n",
    "    reader = csv.reader(f_input)\n",
    "    for row in reader:\n",
    "        row_values = []\n",
    "        for i in range(len(row) - 1):\n",
    "            column_value = ast.literal_eval(row[i])\n",
    "            row_values.append(column_value)\n",
    "        values.append(torch.tensor(row_values))\n",
    "        matrix_labels.append(ast.literal_eval(row[-1]))\n",
    "        num_rows += 1"
   ]
  },
  {
   "cell_type": "code",
   "execution_count": 6,
   "id": "5a690aaf",
   "metadata": {
    "execution": {
     "iopub.execute_input": "2023-12-20T19:23:08.282000Z",
     "iopub.status.busy": "2023-12-20T19:23:08.281220Z",
     "iopub.status.idle": "2023-12-20T19:23:08.292483Z",
     "shell.execute_reply": "2023-12-20T19:23:08.291439Z"
    },
    "papermill": {
     "duration": 0.01956,
     "end_time": "2023-12-20T19:23:08.295003",
     "exception": false,
     "start_time": "2023-12-20T19:23:08.275443",
     "status": "completed"
    },
    "tags": []
   },
   "outputs": [],
   "source": [
    "def sample_triplets(embeddings, labels, margin):\n",
    "    anchor_indices = torch.arange(len(embeddings))\n",
    "    positive_indices = torch.empty(len(embeddings), dtype=torch.long)\n",
    "    negative_indices = torch.empty(len(embeddings), dtype=torch.long)\n",
    "\n",
    "    for i, label in enumerate(labels):\n",
    "        # Sample positive instances\n",
    "        positive_candidates = (labels == label).nonzero(as_tuple=False).view(-1)\n",
    "        positive_candidates = positive_candidates[positive_candidates != i]\n",
    "\n",
    "        if len(positive_candidates) > 0:\n",
    "            positive_indices[i] = positive_candidates[torch.randint(0, len(positive_candidates), (1,))]\n",
    "        else:\n",
    "            positive_indices[i] = i\n",
    "\n",
    "        # Sample negative instances\n",
    "        negative_candidates = (labels != label).nonzero(as_tuple=False).view(-1)\n",
    "        anchor_embedding = embeddings[i]\n",
    "        negative_embeddings = embeddings[negative_candidates]\n",
    "        pos_distance = torch.norm(anchor_embedding - embeddings[positive_indices[i]])\n",
    "\n",
    "        neg_distances = torch.norm(anchor_embedding.unsqueeze(0) - negative_embeddings, dim=1)\n",
    "        semi_hard_negatives = (neg_distances > (pos_distance - margin)) & (neg_distances < (pos_distance + margin))\n",
    "\n",
    "        if torch.any(semi_hard_negatives):\n",
    "            negative_indices[i] = negative_candidates[semi_hard_negatives][torch.randint(0, semi_hard_negatives.sum(), (1,))]\n",
    "        else:\n",
    "            negative_indices[i] = negative_candidates[neg_distances.argmin()]\n",
    "\n",
    "    anchor = embeddings[anchor_indices]\n",
    "    positive = embeddings[positive_indices]\n",
    "    negative = embeddings[negative_indices]\n",
    "    return anchor, positive, negative"
   ]
  },
  {
   "cell_type": "code",
   "execution_count": 7,
   "id": "7fe8ed57",
   "metadata": {
    "execution": {
     "iopub.execute_input": "2023-12-20T19:23:08.307306Z",
     "iopub.status.busy": "2023-12-20T19:23:08.306763Z",
     "iopub.status.idle": "2023-12-20T19:23:08.313432Z",
     "shell.execute_reply": "2023-12-20T19:23:08.312238Z"
    },
    "papermill": {
     "duration": 0.016268,
     "end_time": "2023-12-20T19:23:08.315779",
     "exception": false,
     "start_time": "2023-12-20T19:23:08.299511",
     "status": "completed"
    },
    "tags": []
   },
   "outputs": [],
   "source": [
    "# Triplet loss function\n",
    "class TripletLoss(nn.Module):\n",
    "    def __init__(self, margin=2.0):\n",
    "        super(TripletLoss, self).__init__()\n",
    "        self.margin = margin\n",
    "\n",
    "    def forward(self, anchor, positive, negative):\n",
    "        pos_distance = F.pairwise_distance(anchor,positive)\n",
    "        neg_distance = F.pairwise_distance(anchor, negative)\n",
    "        loss = F.relu(pos_distance - neg_distance + self.margin)\n",
    "        return loss.mean()"
   ]
  },
  {
   "cell_type": "code",
   "execution_count": 8,
   "id": "d4ea4cc3",
   "metadata": {
    "execution": {
     "iopub.execute_input": "2023-12-20T19:23:08.326928Z",
     "iopub.status.busy": "2023-12-20T19:23:08.326542Z",
     "iopub.status.idle": "2023-12-20T19:23:08.333544Z",
     "shell.execute_reply": "2023-12-20T19:23:08.332233Z"
    },
    "papermill": {
     "duration": 0.015255,
     "end_time": "2023-12-20T19:23:08.335984",
     "exception": false,
     "start_time": "2023-12-20T19:23:08.320729",
     "status": "completed"
    },
    "tags": []
   },
   "outputs": [],
   "source": [
    "# Define the dataset class\n",
    "class SkeletonDataset(Dataset):\n",
    "    def __init__(self, data, labels):\n",
    "        self.data = data\n",
    "        self.labels = labels\n",
    "\n",
    "    def __len__(self):\n",
    "        return len(self.data)\n",
    "\n",
    "    def __getitem__(self, idx):\n",
    "        return self.data[idx], self.labels[idx]"
   ]
  },
  {
   "cell_type": "code",
   "execution_count": 9,
   "id": "2eae630a",
   "metadata": {
    "execution": {
     "iopub.execute_input": "2023-12-20T19:23:08.346661Z",
     "iopub.status.busy": "2023-12-20T19:23:08.346252Z",
     "iopub.status.idle": "2023-12-20T19:23:08.356398Z",
     "shell.execute_reply": "2023-12-20T19:23:08.355232Z"
    },
    "papermill": {
     "duration": 0.018403,
     "end_time": "2023-12-20T19:23:08.358752",
     "exception": false,
     "start_time": "2023-12-20T19:23:08.340349",
     "status": "completed"
    },
    "tags": []
   },
   "outputs": [],
   "source": [
    "class TransformerEncoder(nn.Module):\n",
    "    def __init__(self, n_features, d_model=32, nhead=16, num_layers=1,n_classes=64):\n",
    "        super(TransformerEncoder, self).__init__()\n",
    "        self.embedding = nn.Linear(n_features, d_model)\n",
    "        self.positional_encoding = self.generate_positional_encoding(d_model)\n",
    "        self.transformer_encoder = nn.TransformerEncoder(\n",
    "            nn.TransformerEncoderLayer(d_model, nhead), num_layers\n",
    "        )\n",
    "        self.classification_head = nn.Linear(d_model, n_classes)\n",
    "\n",
    "    def generate_positional_encoding(self, d_model, max_len=243):\n",
    "        pe = torch.zeros(max_len, d_model)\n",
    "        position = torch.arange(0, max_len, dtype=torch.float).unsqueeze(1)\n",
    "        div_term = torch.exp(\n",
    "            torch.arange(0, d_model, 2).float() * (-torch.log(torch.tensor(10000.0)) / d_model)\n",
    "        )\n",
    "        pe[:, 0::2] = torch.sin(position * div_term)\n",
    "        pe[:, 1::2] = torch.cos(position * div_term)\n",
    "        return pe.unsqueeze(0)\n",
    "\n",
    "    def forward(self, x):\n",
    "        x = self.embedding(x)\n",
    "        x = x + self.positional_encoding[:, : x.size(1)]\n",
    "        x = self.transformer_encoder(x)\n",
    "        x = x.mean(dim=1)\n",
    "        class_logits = self.classification_head(x)\n",
    "        return x, class_logits"
   ]
  },
  {
   "cell_type": "code",
   "execution_count": 10,
   "id": "b1c612f2",
   "metadata": {
    "execution": {
     "iopub.execute_input": "2023-12-20T19:23:08.368994Z",
     "iopub.status.busy": "2023-12-20T19:23:08.368576Z",
     "iopub.status.idle": "2023-12-20T19:51:26.918368Z",
     "shell.execute_reply": "2023-12-20T19:51:26.917333Z"
    },
    "papermill": {
     "duration": 1698.558406,
     "end_time": "2023-12-20T19:51:26.921477",
     "exception": false,
     "start_time": "2023-12-20T19:23:08.363071",
     "status": "completed"
    },
    "tags": []
   },
   "outputs": [
    {
     "name": "stdout",
     "output_type": "stream",
     "text": [
      "Epoch 1/70, Train Loss: 1.9378, Triplet Loss: 1.0305, Cross Entropy Loss: 4.0547, Validation Loss: 1.8150\n",
      "Epoch 2/70, Train Loss: 1.6970, Triplet Loss: 0.8074, Cross Entropy Loss: 3.7729, Validation Loss: 1.5962\n",
      "Epoch 3/70, Train Loss: 1.5305, Triplet Loss: 0.7026, Cross Entropy Loss: 3.4625, Validation Loss: 1.4051\n",
      "Epoch 4/70, Train Loss: 1.3842, Triplet Loss: 0.6123, Cross Entropy Loss: 3.1852, Validation Loss: 1.2626\n",
      "Epoch 5/70, Train Loss: 1.2727, Triplet Loss: 0.5692, Cross Entropy Loss: 2.9140, Validation Loss: 1.1579\n",
      "Epoch 6/70, Train Loss: 1.1493, Triplet Loss: 0.4879, Cross Entropy Loss: 2.6926, Validation Loss: 1.0539\n",
      "Epoch 7/70, Train Loss: 1.0528, Triplet Loss: 0.4364, Cross Entropy Loss: 2.4912, Validation Loss: 1.0307\n",
      "Epoch 8/70, Train Loss: 1.0299, Triplet Loss: 0.4566, Cross Entropy Loss: 2.3674, Validation Loss: 0.9741\n",
      "Epoch 9/70, Train Loss: 0.9587, Triplet Loss: 0.4327, Cross Entropy Loss: 2.1860, Validation Loss: 0.9385\n",
      "Epoch 10/70, Train Loss: 0.9142, Triplet Loss: 0.4289, Cross Entropy Loss: 2.0466, Validation Loss: 0.8784\n",
      "Epoch 11/70, Train Loss: 0.8648, Triplet Loss: 0.4239, Cross Entropy Loss: 1.8935, Validation Loss: 0.7932\n",
      "Epoch 12/70, Train Loss: 0.8507, Triplet Loss: 0.4464, Cross Entropy Loss: 1.7942, Validation Loss: 0.7628\n",
      "Epoch 13/70, Train Loss: 0.7824, Triplet Loss: 0.3864, Cross Entropy Loss: 1.7065, Validation Loss: 0.7578\n",
      "Epoch 14/70, Train Loss: 0.7274, Triplet Loss: 0.3701, Cross Entropy Loss: 1.5611, Validation Loss: 0.6860\n",
      "Epoch 15/70, Train Loss: 0.6838, Triplet Loss: 0.3569, Cross Entropy Loss: 1.4466, Validation Loss: 0.6353\n",
      "Epoch 16/70, Train Loss: 0.6574, Triplet Loss: 0.3416, Cross Entropy Loss: 1.3943, Validation Loss: 0.6568\n",
      "Epoch 17/70, Train Loss: 0.6428, Triplet Loss: 0.3790, Cross Entropy Loss: 1.2584, Validation Loss: 0.5786\n",
      "Epoch 18/70, Train Loss: 0.5566, Triplet Loss: 0.3016, Cross Entropy Loss: 1.1517, Validation Loss: 0.5448\n",
      "Epoch 19/70, Train Loss: 0.5398, Triplet Loss: 0.3081, Cross Entropy Loss: 1.0803, Validation Loss: 0.5115\n",
      "Epoch 20/70, Train Loss: 0.5412, Triplet Loss: 0.3235, Cross Entropy Loss: 1.0491, Validation Loss: 0.5142\n",
      "Epoch 21/70, Train Loss: 0.4903, Triplet Loss: 0.2918, Cross Entropy Loss: 0.9534, Validation Loss: 0.5063\n",
      "Epoch 22/70, Train Loss: 0.4966, Triplet Loss: 0.3181, Cross Entropy Loss: 0.9132, Validation Loss: 0.4805\n",
      "Epoch 23/70, Train Loss: 0.4454, Triplet Loss: 0.2818, Cross Entropy Loss: 0.8270, Validation Loss: 0.4540\n",
      "Epoch 24/70, Train Loss: 0.4248, Triplet Loss: 0.2677, Cross Entropy Loss: 0.7913, Validation Loss: 0.4230\n",
      "Epoch 25/70, Train Loss: 0.4232, Triplet Loss: 0.2779, Cross Entropy Loss: 0.7623, Validation Loss: 0.4214\n",
      "Epoch 26/70, Train Loss: 0.4184, Triplet Loss: 0.2761, Cross Entropy Loss: 0.7506, Validation Loss: 0.4204\n",
      "Epoch 27/70, Train Loss: 0.4042, Triplet Loss: 0.2692, Cross Entropy Loss: 0.7193, Validation Loss: 0.4045\n",
      "Epoch 28/70, Train Loss: 0.3947, Triplet Loss: 0.2760, Cross Entropy Loss: 0.6717, Validation Loss: 0.4053\n",
      "Epoch 29/70, Train Loss: 0.3702, Triplet Loss: 0.2516, Cross Entropy Loss: 0.6469, Validation Loss: 0.3548\n",
      "Epoch 30/70, Train Loss: 0.3714, Triplet Loss: 0.2562, Cross Entropy Loss: 0.6401, Validation Loss: 0.3445\n",
      "Epoch 31/70, Train Loss: 0.3636, Triplet Loss: 0.2649, Cross Entropy Loss: 0.5938, Validation Loss: 0.3395\n",
      "Epoch 32/70, Train Loss: 0.3565, Triplet Loss: 0.2652, Cross Entropy Loss: 0.5694, Validation Loss: 0.3501\n",
      "Epoch 33/70, Train Loss: 0.3518, Triplet Loss: 0.2675, Cross Entropy Loss: 0.5486, Validation Loss: 0.3290\n",
      "Epoch 34/70, Train Loss: 0.2924, Triplet Loss: 0.2007, Cross Entropy Loss: 0.5062, Validation Loss: 0.3181\n",
      "Epoch 35/70, Train Loss: 0.3046, Triplet Loss: 0.2292, Cross Entropy Loss: 0.4803, Validation Loss: 0.3287\n",
      "Epoch 36/70, Train Loss: 0.2926, Triplet Loss: 0.2185, Cross Entropy Loss: 0.4656, Validation Loss: 0.3103\n",
      "Epoch 37/70, Train Loss: 0.2961, Triplet Loss: 0.2291, Cross Entropy Loss: 0.4524, Validation Loss: 0.3020\n",
      "Epoch 38/70, Train Loss: 0.2728, Triplet Loss: 0.2145, Cross Entropy Loss: 0.4088, Validation Loss: 0.2580\n",
      "Epoch 39/70, Train Loss: 0.2846, Triplet Loss: 0.2232, Cross Entropy Loss: 0.4279, Validation Loss: 0.2667\n",
      "Epoch 40/70, Train Loss: 0.2726, Triplet Loss: 0.2257, Cross Entropy Loss: 0.3820, Validation Loss: 0.2975\n",
      "Epoch 41/70, Train Loss: 0.2612, Triplet Loss: 0.2206, Cross Entropy Loss: 0.3560, Validation Loss: 0.2980\n",
      "Epoch 42/70, Train Loss: 0.2641, Triplet Loss: 0.2211, Cross Entropy Loss: 0.3645, Validation Loss: 0.2683\n",
      "Epoch 43/70, Train Loss: 0.2249, Triplet Loss: 0.1770, Cross Entropy Loss: 0.3366, Validation Loss: 0.2616\n",
      "Epoch 44/70, Train Loss: 0.2196, Triplet Loss: 0.1797, Cross Entropy Loss: 0.3129, Validation Loss: 0.2763\n",
      "Epoch 45/70, Train Loss: 0.2381, Triplet Loss: 0.1981, Cross Entropy Loss: 0.3314, Validation Loss: 0.2383\n",
      "Epoch 46/70, Train Loss: 0.2296, Triplet Loss: 0.1906, Cross Entropy Loss: 0.3207, Validation Loss: 0.2418\n",
      "Epoch 47/70, Train Loss: 0.1918, Triplet Loss: 0.1578, Cross Entropy Loss: 0.2714, Validation Loss: 0.2950\n",
      "Epoch 48/70, Train Loss: 0.2148, Triplet Loss: 0.1849, Cross Entropy Loss: 0.2846, Validation Loss: 0.2340\n",
      "Epoch 49/70, Train Loss: 0.2085, Triplet Loss: 0.1813, Cross Entropy Loss: 0.2722, Validation Loss: 0.2483\n",
      "Epoch 50/70, Train Loss: 0.1883, Triplet Loss: 0.1616, Cross Entropy Loss: 0.2507, Validation Loss: 0.2574\n",
      "Epoch 51/70, Train Loss: 0.1751, Triplet Loss: 0.1482, Cross Entropy Loss: 0.2379, Validation Loss: 0.2154\n",
      "Epoch 52/70, Train Loss: 0.2078, Triplet Loss: 0.1818, Cross Entropy Loss: 0.2685, Validation Loss: 0.2309\n",
      "Epoch 53/70, Train Loss: 0.1965, Triplet Loss: 0.1725, Cross Entropy Loss: 0.2527, Validation Loss: 0.2004\n",
      "Epoch 54/70, Train Loss: 0.1907, Triplet Loss: 0.1764, Cross Entropy Loss: 0.2240, Validation Loss: 0.2086\n",
      "Epoch 55/70, Train Loss: 0.1687, Triplet Loss: 0.1476, Cross Entropy Loss: 0.2180, Validation Loss: 0.1960\n",
      "Epoch 56/70, Train Loss: 0.1692, Triplet Loss: 0.1532, Cross Entropy Loss: 0.2067, Validation Loss: 0.2039\n",
      "Epoch 57/70, Train Loss: 0.1585, Triplet Loss: 0.1407, Cross Entropy Loss: 0.2000, Validation Loss: 0.2183\n",
      "Epoch 58/70, Train Loss: 0.1472, Triplet Loss: 0.1392, Cross Entropy Loss: 0.1658, Validation Loss: 0.1964\n",
      "Epoch 59/70, Train Loss: 0.1507, Triplet Loss: 0.1403, Cross Entropy Loss: 0.1751, Validation Loss: 0.1770\n",
      "Epoch 60/70, Train Loss: 0.1753, Triplet Loss: 0.1699, Cross Entropy Loss: 0.1881, Validation Loss: 0.1986\n",
      "Epoch 61/70, Train Loss: 0.1459, Triplet Loss: 0.1337, Cross Entropy Loss: 0.1744, Validation Loss: 0.1859\n",
      "Epoch 62/70, Train Loss: 0.1478, Triplet Loss: 0.1437, Cross Entropy Loss: 0.1576, Validation Loss: 0.1711\n",
      "Epoch 63/70, Train Loss: 0.1479, Triplet Loss: 0.1336, Cross Entropy Loss: 0.1814, Validation Loss: 0.1855\n",
      "Epoch 64/70, Train Loss: 0.1569, Triplet Loss: 0.1522, Cross Entropy Loss: 0.1680, Validation Loss: 0.1551\n",
      "Epoch 65/70, Train Loss: 0.1295, Triplet Loss: 0.1163, Cross Entropy Loss: 0.1602, Validation Loss: 0.1963\n",
      "Epoch 66/70, Train Loss: 0.1485, Triplet Loss: 0.1390, Cross Entropy Loss: 0.1706, Validation Loss: 0.1541\n",
      "Epoch 67/70, Train Loss: 0.1489, Triplet Loss: 0.1486, Cross Entropy Loss: 0.1495, Validation Loss: 0.2011\n",
      "Epoch 68/70, Train Loss: 0.1347, Triplet Loss: 0.1269, Cross Entropy Loss: 0.1528, Validation Loss: 0.1857\n",
      "Epoch 69/70, Train Loss: 0.1311, Triplet Loss: 0.1215, Cross Entropy Loss: 0.1535, Validation Loss: 0.1677\n",
      "Epoch 70/70, Train Loss: 0.1331, Triplet Loss: 0.1303, Cross Entropy Loss: 0.1396, Validation Loss: 0.1846\n"
     ]
    },
    {
     "data": {
      "image/png": "[encoded data removed]",
      "text/plain": [
       "<Figure size 640x480 with 1 Axes>"
      ]
     },
     "metadata": {},
     "output_type": "display_data"
    }
   ],
   "source": [
    "# Split the dataset into train, validation, and test sets\n",
    "train_data, test_data, train_labels, test_labels = train_test_split(\n",
    "    torch.stack(values), torch.tensor(matrix_labels), test_size=0.4, random_state=42, stratify=torch.tensor(matrix_labels)\n",
    ")\n",
    "\n",
    "validation_data, test_data, validation_labels, test_labels = train_test_split(\n",
    "    test_data, test_labels, test_size=0.5, random_state=42, stratify=test_labels\n",
    ")\n",
    "\n",
    "# Create train, validation, and test datasets\n",
    "train_dataset = SkeletonDataset(train_data, train_labels)\n",
    "validation_dataset = SkeletonDataset(validation_data, validation_labels)\n",
    "test_dataset = SkeletonDataset(test_data, test_labels)\n",
    "\n",
    "# Create data loaders for train, validation, and test sets\n",
    "train_loader = DataLoader(train_dataset, batch_size=32, shuffle=True)\n",
    "validation_loader = DataLoader(validation_dataset, batch_size=32, shuffle=False)\n",
    "test_loader = DataLoader(test_dataset, batch_size=32, shuffle=False)\n",
    "\n",
    "model = TransformerEncoder(114)\n",
    "triplet_loss_criterion = TripletLoss()\n",
    "cross_entropy_criterion = nn.CrossEntropyLoss()\n",
    "optimizer = optim.Adam(model.parameters(), lr=0.002)\n",
    "\n",
    "train_losses = []\n",
    "validation_losses = []\n",
    "train_triplet_losses = []\n",
    "train_cross_entropy_losses = []\n",
    "\n",
    "alpha = 0.7  # weight for the triplet loss\n",
    "\n",
    "num_epochs = 70   ##===========================================EPOCHS\n",
    "for epoch in range(num_epochs):\n",
    "    model.train()\n",
    "    epoch_train_loss = 0\n",
    "    epoch_triplet_loss = 0\n",
    "    epoch_cross_entropy_loss = 0\n",
    "    for batch_idx, (data, labels) in enumerate(train_loader):\n",
    "        optimizer.zero_grad()\n",
    "        embeddings, class_logits = model(data)\n",
    "        anchor, positive, negative = sample_triplets(embeddings, labels, margin=2.0)\n",
    "        triplet_loss = triplet_loss_criterion(anchor, positive, negative)\n",
    "        cross_entropy_loss = cross_entropy_criterion(class_logits, labels)\n",
    "        loss = alpha * triplet_loss + (1 - alpha) * cross_entropy_loss\n",
    "        loss.backward()\n",
    "        optimizer.step()\n",
    "        epoch_train_loss += loss.item()\n",
    "        epoch_triplet_loss += triplet_loss.item()\n",
    "        epoch_cross_entropy_loss += cross_entropy_loss.item()\n",
    "\n",
    "    epoch_train_loss /= len(train_loader)\n",
    "    epoch_triplet_loss /= len(train_loader)\n",
    "    epoch_cross_entropy_loss /= len(train_loader)\n",
    "    train_losses.append(epoch_train_loss)\n",
    "    train_triplet_losses.append(epoch_triplet_loss)\n",
    "    train_cross_entropy_losses.append(epoch_cross_entropy_loss)\n",
    "\n",
    "    # Calculate validation loss\n",
    "    model.eval()\n",
    "    epoch_validation_loss = 0\n",
    "    with torch.no_grad():\n",
    "        for batch_idx, (data, labels) in enumerate(validation_loader):\n",
    "            embeddings, class_logits = model(data)\n",
    "            anchor, positive, negative = sample_triplets(embeddings, labels, margin=2.0)\n",
    "            triplet_loss = triplet_loss_criterion(anchor, positive, negative)\n",
    "            cross_entropy_loss = cross_entropy_criterion(class_logits, labels)\n",
    "            loss = alpha * triplet_loss + (1 - alpha) * cross_entropy_loss\n",
    "            epoch_validation_loss += loss.item()\n",
    "\n",
    "    epoch_validation_loss /= len(validation_loader)\n",
    "    validation_losses.append(epoch_validation_loss)\n",
    "\n",
    "    print(f\"Epoch {epoch + 1}/{num_epochs}, Train Loss: {epoch_train_loss:.4f}, Triplet Loss: {epoch_triplet_loss:.4f}, Cross Entropy Loss: {epoch_cross_entropy_loss:.4f}, Validation Loss: {epoch_validation_loss:.4f}\")\n",
    "\n",
    "    # Save the model\n",
    "    torch.save(model.state_dict(), f\"model_epoch_{epoch + 1}.pt\")\n",
    "\n",
    "\n",
    "# Plot training and validation losses\n",
    "plt.plot(train_losses, label=\"Training Loss\")\n",
    "plt.plot(validation_losses, label=\"Validation Loss\")\n",
    "plt.xlabel(\"Epoch\")\n",
    "plt.ylabel(\"Loss\")\n",
    "plt.legend()\n",
    "plt.show()"
   ]
  },
  {
   "cell_type": "markdown",
   "id": "eaf3fc2c",
   "metadata": {
    "papermill": {
     "duration": 0.009136,
     "end_time": "2023-12-20T19:51:26.939902",
     "exception": false,
     "start_time": "2023-12-20T19:51:26.930766",
     "status": "completed"
    },
    "tags": []
   },
   "source": [
    "# evaluation"
   ]
  },
  {
   "cell_type": "code",
   "execution_count": 11,
   "id": "3701e08f",
   "metadata": {
    "execution": {
     "iopub.execute_input": "2023-12-20T19:51:26.960652Z",
     "iopub.status.busy": "2023-12-20T19:51:26.960237Z",
     "iopub.status.idle": "2023-12-20T19:51:35.846021Z",
     "shell.execute_reply": "2023-12-20T19:51:35.845071Z"
    },
    "papermill": {
     "duration": 8.899371,
     "end_time": "2023-12-20T19:51:35.848359",
     "exception": false,
     "start_time": "2023-12-20T19:51:26.948988",
     "status": "completed"
    },
    "tags": []
   },
   "outputs": [],
   "source": [
    "# Extract embeddings for the test set\n",
    "model.eval()\n",
    "test_embeddings = []\n",
    "test_labels_list = []\n",
    "\n",
    "with torch.no_grad():\n",
    "    for data, labels in train_loader:\n",
    "        embeddings,_ = model(data)\n",
    "        test_embeddings.append(embeddings)\n",
    "        test_labels_list.append(labels)\n",
    "        \n",
    "with torch.no_grad():\n",
    "    for data, labels in test_loader:\n",
    "        embeddings,_ = model(data)\n",
    "        test_embeddings.append(embeddings)\n",
    "        test_labels_list.append(labels)\n",
    "        \n",
    "with torch.no_grad():\n",
    "    for data, labels in validation_loader:\n",
    "        embeddings,_ = model(data)\n",
    "        test_embeddings.append(embeddings)\n",
    "        test_labels_list.append(labels)\n",
    "\n",
    "test_embeddings = torch.cat(test_embeddings).cpu().numpy()\n",
    "test_labels_list = torch.cat(test_labels_list).cpu().numpy()"
   ]
  },
  {
   "cell_type": "code",
   "execution_count": 12,
   "id": "db5d94cd",
   "metadata": {
    "execution": {
     "iopub.execute_input": "2023-12-20T19:51:35.869425Z",
     "iopub.status.busy": "2023-12-20T19:51:35.868977Z",
     "iopub.status.idle": "2023-12-20T19:51:52.735926Z",
     "shell.execute_reply": "2023-12-20T19:51:52.735097Z"
    },
    "papermill": {
     "duration": 16.88075,
     "end_time": "2023-12-20T19:51:52.738668",
     "exception": false,
     "start_time": "2023-12-20T19:51:35.857918",
     "status": "completed"
    },
    "tags": []
   },
   "outputs": [
    {
     "data": {
      "text/html": [
       "        <script type=\"text/javascript\">\n",
       "        window.PlotlyConfig = {MathJaxConfig: 'local'};\n",
       "        if (window.MathJax && window.MathJax.Hub && window.MathJax.Hub.Config) {window.MathJax.Hub.Config({SVG: {font: \"STIX-Web\"}});}\n",
       "        if (typeof require !== 'undefined') {\n",
       "        require.undef(\"plotly\");\n",
       "        requirejs.config({\n",
       "            paths: {\n",
       "                'plotly': ['https://cdn.plot.ly/plotly-2.25.2.min']\n",
       "            }\n",
       "        });\n",
       "        require(['plotly'], function(Plotly) {\n",
       "            window._Plotly = Plotly;\n",
       "        });\n",
       "        }\n",
       "        </script>\n",
       "        "
      ]
     },
     "metadata": {},
     "output_type": "display_data"
    },
    {
     "data": {
      "text/html": [
       "<div>                            <div id=\"e0c28cb7-5193-423a-bbfc-09e83949db4d\" class=\"plotly-graph-div\" style=\"height:600px; width:800px;\"></div>            <script type=\"text/javascript\">                require([\"plotly\"], function(Plotly) {                    window.PLOTLYENV=window.PLOTLYENV || {};                                    if (document.getElementById(\"e0c28cb7-5193-423a-bbfc-09e83949db4d\")) {                    Plotly.newPlot(                        \"e0c28cb7-5193-423a-bbfc-09e83949db4d\",                        [{\"marker\":{\"color\":\"#636EFA\",\"size\":3},\"mode\":\"markers\",\"name\":\"0\",\"x\":[6.4787164,9.406427,5.691687,3.1779013,7.5262976,7.525527,5.9475503,7.854395,4.0409565,4.873649,5.1080422,6.4693747,6.2568154,8.141459,3.2492456,4.3738217,4.1616163,7.041551,3.9659653,-1.2980491,7.534235,4.1630955,7.758528,7.066812,3.8427324,12.416085,9.387376,7.2993116,3.7021651,5.0177236,5.86207,7.3049846,6.998332,4.3506236,7.1029854,5.575615,7.784972,7.3802786,5.8025494,8.023054,4.7718973,5.996841,3.6581476,6.68219,7.6549296,4.381072,4.2521987,7.390862,7.775505,6.605617],\"y\":[36.744827,34.454117,36.38584,34.534573,35.250572,33.660732,34.44301,34.77706,32.611782,35.343647,35.397297,33.532734,36.565517,32.235542,34.55287,35.23228,34.474094,33.064865,35.343857,22.461483,35.381298,32.882427,33.605343,33.92581,34.410755,34.090145,34.451965,29.093454,34.76476,35.31263,36.6377,29.074728,36.54494,35.22593,33.959965,35.873096,35.249336,33.74907,36.63133,32.30981,34.326366,33.201412,35.23916,33.64098,36.266815,35.26734,35.71895,35.28272,34.827892,36.62607],\"type\":\"scatter\"},{\"marker\":{\"color\":\"#EF553B\",\"size\":3},\"mode\":\"markers\",\"name\":\"1\",\"x\":[37.229984,38.46148,39.10406,37.67626,40.55373,38.657307,39.602673,39.385376,39.38333,39.482243,40.893497,39.04736,38.44643,39.54155,38.9101,37.593304,40.499702,39.988247,39.315315,38.656704,39.64818,39.435944,38.066746,39.745434,36.732986,40.947968,39.51468,41.06747,37.722515,41.01305,39.534565,41.287663,38.18535,37.687336,38.246998,38.95389,36.701073,39.13257,40.7706,39.30308,39.39609,41.051655,38.1297,39.527637,36.695633,40.634674,39.214073,40.901417,37.758984,40.82786],\"y\":[47.33337,48.164284,50.300625,47.95626,46.027897,47.22164,50.03008,47.213135,46.268974,49.275623,46.985714,46.368164,49.331684,49.443146,50.463055,48.343487,48.763012,48.710247,48.654922,48.394653,48.343918,47.136894,49.231808,50.069077,48.654305,49.055794,48.20663,48.71787,47.88805,47.886585,47.36241,47.65721,50.123894,49.604134,49.059006,49.387238,48.662403,47.314594,46.942665,48.707054,48.158203,48.878223,48.77942,46.62312,48.572865,45.67385,48.465076,47.527733,46.76731,45.270557],\"type\":\"scatter\"},{\"marker\":{\"color\":\"#00CC96\",\"size\":3},\"mode\":\"markers\",\"name\":\"2\",\"x\":[44.347786,45.23542,45.46847,42.304256,42.818447,42.21888,42.78702,42.462452,44.366154,43.864044,44.03733,43.19386,44.47908,44.484623,44.31401,44.57376,43.477177,46.401672,42.734776,42.54022,42.335247,45.275078,45.971344,45.938347,44.54656,45.18293,46.261497,45.595074,44.649006,42.81581,43.190254,42.789467,42.34168,44.315575,44.328293,45.36615,44.99828,42.535988,45.513893,42.572186,43.918953,44.012608,42.831604,46.707363,43.05192,44.400047,46.582893,45.484535,46.702095,44.463554],\"y\":[41.596107,40.154358,42.65463,40.73266,41.983006,42.62083,42.122738,41.533916,39.73814,42.002537,39.473053,41.348755,39.353447,39.799164,38.780895,39.378223,40.962364,40.469036,40.460037,40.80907,42.36759,41.47879,39.43533,39.297626,40.734825,42.93904,40.123005,42.142414,41.04679,40.2744,39.380116,40.40746,42.418705,39.12548,39.915764,39.92107,38.73758,41.94598,42.20773,41.56525,39.810196,42.478554,40.44836,40.792496,41.517616,40.598366,40.574516,42.565033,40.680485,40.93324],\"type\":\"scatter\"},{\"marker\":{\"color\":\"#AB63FA\",\"size\":3},\"mode\":\"markers\",\"name\":\"3\",\"x\":[34.71409,34.65732,33.962852,34.81181,34.706375,33.06438,33.003464,36.13612,35.860584,35.284554,36.391468,36.097908,32.314217,32.21584,32.000957,35.19519,34.93175,32.78598,34.248928,35.023647,35.894253,35.517014,32.630234,32.62494,36.119556,34.272293,36.464687,35.75421,31.585484,32.969566,35.14103,32.34498,34.292645,34.058678,32.869194,34.62584,36.05735,35.193123,34.151768,34.1808,35.733368,36.781788,31.77548,32.710354,36.60184,33.033184,33.553757,33.441986,32.52304,33.096493],\"y\":[-41.98326,-42.091118,-44.844177,-41.97024,-42.25471,-43.86545,-44.045464,-43.048435,-41.9457,-41.295933,-43.35144,-43.04144,-42.184414,-43.97314,-43.24494,-41.87266,-43.850285,-42.96988,-41.660725,-43.87986,-41.824463,-42.484585,-42.842644,-43.044193,-42.327805,-40.3346,-41.664005,-42.735878,-42.780796,-42.030064,-44.030796,-42.18949,-41.85252,-41.311584,-43.451015,-41.579983,-42.63673,-44.079025,-41.085896,-41.424908,-41.782364,-43.275433,-43.823524,-43.435898,-42.906483,-44.252686,-43.812218,-42.958355,-43.471256,-44.2205],\"type\":\"scatter\"},{\"marker\":{\"color\":\"#FFA15A\",\"size\":3},\"mode\":\"markers\",\"name\":\"4\",\"x\":[2.8486722,-1.3885367,-0.39172727,-5.6044893,-4.728379,-2.4405808,0.8118454,-2.138955,-4.8270526,-3.0751173,2.0456798,-1.6328192,-4.840798,-4.586417,3.419163,1.4353459,-1.2236981,-4.874563,-2.5910306,-1.6475234,-1.5159516,0.7817221,-2.0533316,-2.8763583,-0.015737556,1.879209,-0.07133333,-4.551144,-4.898443,-2.3231053,1.794236,-4.63066,0.3369333,-1.8353937,3.011668,-1.5459417,-1.2286259,-1.9966592,-1.3553848,3.6863916,-2.958808,3.771221,-2.8155694,-2.6844156,2.4216504,-4.804682,3.7436256,0.7211044,0.4525064,-2.637738],\"y\":[53.734806,55.065254,56.15566,55.050686,54.858692,54.06527,56.49501,54.09749,54.898697,52.71054,53.52716,53.086105,54.75305,53.872845,53.801636,55.566395,53.220207,54.780823,53.860992,54.4944,52.92967,51.71674,53.308723,52.482086,52.471767,51.804005,52.412636,53.767788,54.78772,51.990837,53.40187,53.869473,55.67528,52.964474,52.528416,52.865788,54.67058,51.708767,54.74159,50.920376,52.756924,50.993713,52.434044,56.56037,53.61808,54.651077,50.970272,51.677624,55.896893,56.53385],\"type\":\"scatter\"},{\"marker\":{\"color\":\"#19D3F3\",\"size\":3},\"mode\":\"markers\",\"name\":\"5\",\"x\":[42.23946,41.15526,42.091644,39.649216,40.33297,39.634087,39.05886,40.515263,41.322124,41.43401,41.352657,39.699265,40.525986,40.33908,40.331207,40.074512,41.150818,42.027218,39.76779,42.394295,40.841015,41.415985,40.33636,42.45909,40.31908,41.56944,40.465626,39.909508,39.30235,40.98908,41.341003,39.67451,39.89848,41.05394,39.922127,40.773476,40.425976,39.74452,40.350864,40.89699,32.653137,40.318554,38.918457,41.383587,39.643047,41.73851,40.90715,41.48826,38.54085,39.686054],\"y\":[-17.35293,-17.245266,-15.620493,-17.018272,-19.780416,-17.06791,-13.978872,-15.209485,-16.353449,-16.143354,-18.06043,-14.834701,-17.05814,-14.2292385,-19.57695,-14.518803,-16.569647,-15.753796,-17.589169,-15.69327,-14.125655,-15.076265,-19.667147,-16.997408,-19.660297,-17.676466,-17.051094,-17.702957,-15.971963,-15.494833,-15.31855,-16.714634,-17.970943,-17.192846,-15.859843,-17.514174,-17.56039,-15.394118,-17.307873,-16.83506,-40.629818,-14.449045,-13.665735,-16.717999,-14.683366,-15.693972,-14.718914,-17.932251,-13.298585,-16.61748],\"type\":\"scatter\"},{\"marker\":{\"color\":\"#FF6692\",\"size\":3},\"mode\":\"markers\",\"name\":\"6\",\"x\":[29.142538,30.39224,33.412033,30.297903,27.704817,29.41573,26.673239,33.113785,29.86987,29.910872,28.639355,29.914204,28.652908,29.904383,27.692904,28.245972,28.042212,30.812696,29.35185,33.32267,29.003597,29.86096,28.171762,27.449024,29.914469,30.589306,29.189745,27.919619,29.229683,30.253681,33.196896,29.544874,30.596437,29.536798,29.942717,30.875843,30.568457,33.496937,30.319448,30.565191,29.052765,27.946156,29.146248,26.5442,27.922386,30.585848,29.225353,29.25977,29.095232,29.019901],\"y\":[8.400078,9.126495,4.326046,9.154376,10.080272,10.439446,10.246704,4.821295,10.125175,12.029551,9.707524,9.558817,9.98099,12.045921,9.85086,6.9257865,5.909473,7.608406,8.650086,4.323753,10.16927,12.009543,8.997401,10.157673,11.97943,9.198636,8.261065,6.229456,9.381609,9.081235,3.9974616,11.865029,9.920447,10.373758,11.998737,9.445929,7.7108817,3.88843,7.262011,7.7335634,10.598364,6.299964,8.241553,10.2680855,6.2465067,7.716906,8.496005,10.165202,9.629855,10.04427],\"type\":\"scatter\"},{\"marker\":{\"color\":\"#B6E880\",\"size\":3},\"mode\":\"markers\",\"name\":\"7\",\"x\":[59.010807,56.731575,54.79559,57.111725,58.992344,54.842,56.334354,56.03127,56.49785,55.29932,55.37053,56.10143,54.86161,54.336464,45.486534,55.19161,44.780525,56.53532,45.54737,56.92495,55.254337,59.04132,55.07746,45.066883,56.85371,56.269802,56.162434,59.03229,54.780613,54.601376,54.636818,54.44738,55.812164,54.77204,45.389996,56.38611,54.30075,57.179974,56.734287,55.320114,56.698883,59.01187,56.867386,55.860523,42.680367,55.59753,54.637405,56.13148,55.481182,56.780975],\"y\":[-2.639438,-4.528104,-4.6330743,-5.7471824,-11.555606,-3.2473378,-2.732009,-3.782709,-5.473384,-2.9143593,-5.207493,-1.4622152,-4.7300615,-5.344,5.9264007,-4.7220325,4.7716994,-4.118911,5.8834066,-4.7675214,-5.371267,-2.4937928,-3.2397048,5.7494993,-4.9500823,-2.06094,-1.9094325,-2.4582942,-3.4843044,-4.59999,-4.5416255,-2.8668776,-2.3815084,-3.2398992,5.921555,-5.5133634,-2.9496768,-5.793094,-2.881026,-3.1954734,-2.6172066,-11.54679,-2.6360345,-1.3303756,4.009258,-5.3689065,-3.278851,-2.7719457,-5.272116,-4.6508703],\"type\":\"scatter\"},{\"marker\":{\"color\":\"#FF97FF\",\"size\":3},\"mode\":\"markers\",\"name\":\"8\",\"x\":[57.03611,57.110386,57.456562,59.271366,57.47297,57.941383,59.47851,61.27212,58.92915,57.056805,59.73919,59.61241,58.236076,58.28296,56.052017,59.761456,58.635517,59.123173,60.13688,59.467087,58.638813,57.812134,58.914074,58.893097,56.0332,57.98485,57.735188,59.45847,57.747616,56.77817,59.19164,56.5655,30.674068,59.149788,58.124477,59.40895,57.13669,58.04841,57.14434,57.653053,60.0478,58.554333,58.929512,59.030632,55.73329,55.379715,58.548706,33.188637,57.977665,56.125484],\"y\":[9.762586,11.136059,9.238206,9.91765,10.439774,8.421344,9.403954,4.1809635,11.021743,8.888516,9.091743,7.7822165,8.111516,8.28365,7.4093075,8.019553,10.161123,9.069644,10.031142,9.362382,10.486942,9.076138,9.2681055,8.583019,7.381429,10.499441,10.122812,10.035903,9.22927,6.9740343,8.802843,9.637627,1.6129307,8.807803,8.743973,7.838474,9.02318,10.000118,9.819427,7.854582,8.141508,10.516165,9.150345,11.062657,7.071039,6.926136,8.149779,-6.2377214,8.612443,7.1813507],\"type\":\"scatter\"},{\"marker\":{\"color\":\"#FECB52\",\"size\":3},\"mode\":\"markers\",\"name\":\"9\",\"x\":[65.47085,66.25448,66.168365,61.68137,66.82097,63.23296,67.14842,66.42743,65.670105,65.44923,65.34212,65.599396,62.30742,66.23242,62.895428,65.96446,65.53537,60.345985,65.16982,67.216866,63.733917,66.45648,65.772316,62.878387,64.61675,66.1636,60.30982,62.91444,66.34943,60.276325,63.45258,67.64673,34.03048,64.26397,60.18873,61.542557,67.45344,64.16808,67.27533,60.182606,66.128395,66.803604,61.28295,65.41206,66.465416,67.30378,66.07663,65.5393,67.517006,62.44908],\"y\":[3.3260267,2.0326366,2.833285,3.2790747,1.3104422,1.3952447,2.321803,2.764959,1.8516951,1.8070005,2.0430553,1.9621404,3.4550688,3.3624241,0.9329345,2.5694032,3.0310087,-0.5214261,3.7318125,1.3437045,2.9761837,2.4654305,1.4231124,0.99108946,1.0128533,3.1463053,-0.52454734,0.93578976,2.0212133,-0.5505006,3.0553102,3.4213908,2.3118205,2.6410747,-0.6399925,3.9257798,1.0413989,2.8292649,2.758305,-0.641913,2.3103988,2.459136,4.483686,3.4453897,1.2470329,3.1050644,1.1082709,2.8562803,3.2549047,3.468412],\"type\":\"scatter\"},{\"marker\":{\"color\":\"#636EFA\",\"size\":3},\"mode\":\"markers\",\"name\":\"10\",\"x\":[29.095999,26.524683,25.08283,25.872025,24.693626,26.160297,26.87385,26.114159,25.177332,26.428371,26.37249,23.17017,25.858273,32.896385,30.361057,28.778925,29.327648,24.415419,25.534063,26.249098,23.06477,25.87196,32.964928,30.053856,29.604847,26.736183,30.150206,24.876408,26.455507,29.422064,24.7608,30.032434,25.615812,28.952059,24.475304,25.781252,30.635658,26.382988,23.072039,25.258272,23.08684,29.362709,25.681087,30.003712,26.835894,26.286856,25.540115,26.552942,26.34002,30.44204],\"y\":[0.060008243,1.5584828,0.5783461,1.8591952,2.3104947,1.395547,2.1254437,2.4430501,0.70587283,0.23337455,1.7685846,0.70073164,1.0313604,-1.1728575,2.815032,0.16824025,1.7977241,2.6987143,-0.5661652,1.0802506,0.6907346,1.9052626,-1.195647,1.4132309,1.9113705,2.5855792,-23.93235,2.107705,1.2051911,1.9332613,1.2706052,-23.905855,0.27639484,0.115910366,2.5347233,1.8587095,2.0871513,2.0639727,0.6901753,0.8909767,0.7108639,1.9680349,2.459836,-23.913223,5.018825,2.0827968,-0.026485216,4.7043533,1.7182273,2.215369],\"type\":\"scatter\"},{\"marker\":{\"color\":\"#EF553B\",\"size\":3},\"mode\":\"markers\",\"name\":\"11\",\"x\":[29.40162,29.133778,30.905502,31.262255,30.057308,33.55521,28.96152,34.556984,31.09972,30.106808,32.96589,31.593435,31.519485,32.684258,33.36587,30.392962,31.346165,29.905987,31.34048,32.71457,29.512903,30.541462,30.589176,29.057352,30.713476,32.25962,30.662485,32.73743,34.375572,31.74482,33.78923,30.593119,33.146374,30.574556,29.677198,33.260994,31.518488,29.826708,33.35064,31.62372,32.982197,30.725126,31.20202,31.169933,33.008434,29.847654,31.335579,31.082348,29.751492,33.033913],\"y\":[-8.870177,-8.236975,-9.513031,-7.3774023,-11.011681,-9.338222,-8.661689,-6.9276314,-9.943397,-10.879925,-7.434918,-7.3542557,-6.1764126,-9.629981,-8.060617,-7.2173204,-7.166398,-10.852929,-10.01232,-9.487782,-8.798183,-6.8295994,-7.4954557,-8.674123,-10.198653,-7.493816,-7.5202603,-9.958826,-8.2190895,-5.6357484,-8.802081,-7.20772,-2.363179,-7.490263,-8.699961,-7.4808764,-7.0746245,-11.171119,-8.4110775,-5.891652,-9.513409,-6.773555,-9.982132,-10.129379,-7.5501456,-8.785098,-8.06642,-6.822501,-11.278354,-9.747683],\"type\":\"scatter\"},{\"marker\":{\"color\":\"#00CC96\",\"size\":3},\"mode\":\"markers\",\"name\":\"12\",\"x\":[19.738262,20.714079,21.767756,21.903149,32.564194,22.139175,20.655998,22.551378,22.734695,20.330677,32.555916,20.750414,20.000893,20.73591,22.190655,21.019335,21.463648,20.78996,22.859062,22.333073,20.93638,20.697906,21.581274,21.099407,22.022255,21.443924,22.162714,22.827295,20.985142,20.795755,22.273035,20.320402,20.513336,21.491856,20.039886,22.176577,22.258568,21.528343,-36.789852,20.97603,20.177513,22.594397,22.471983,21.345306,21.514288,22.245714,21.939102,21.972822,20.684368,22.889849],\"y\":[44.433582,45.39042,42.405586,44.771187,21.499426,43.259815,47.07999,44.261375,46.02998,46.22489,21.667864,43.94761,45.176632,45.928055,43.319347,42.732555,46.43035,44.64844,46.024582,47.196728,44.481014,47.06765,44.72044,44.049458,46.41957,43.76684,45.6353,45.96904,46.73596,43.15371,47.113144,43.483536,43.512524,45.168846,44.86645,43.459953,44.70696,43.634983,18.569666,44.836357,47.34993,44.364132,44.73897,44.852455,46.134586,44.359768,47.13739,47.181953,44.24459,46.09267],\"type\":\"scatter\"},{\"marker\":{\"color\":\"#AB63FA\",\"size\":3},\"mode\":\"markers\",\"name\":\"13\",\"x\":[37.053947,36.763203,34.842796,36.48103,37.677433,37.245045,37.02473,37.015923,39.94504,37.296364,37.373856,33.52733,37.07311,38.350212,37.453457,38.525368,37.664196,36.78649,34.988815,39.58707,36.428215,36.732117,38.152107,40.192562,39.997997,37.382946,37.764477,35.268063,33.144016,38.137634,34.87897,35.54194,38.717663,39.95326,36.113438,36.852215,36.262894,40.25604,39.73579,35.87135,39.960022,36.830715,56.091396,39.10939,35.003685,33.323402,40.11055,36.212337,36.2907,36.669422],\"y\":[0.16360566,4.2546234,-6.7972183,1.5670133,3.574298,-0.66199434,-0.40101537,-0.2546258,-1.8980838,-0.9640623,2.9162729,-1.4922463,0.1262021,-0.840356,2.9868417,-1.9294382,3.5179899,0.95196205,-6.852815,-2.2334487,1.5726323,-0.76105726,-1.8123379,-1.9201615,-1.9359826,2.9593735,-3.2993104,-0.8054991,2.6637638,-1.5200878,-6.7442975,-0.76195127,-1.4564219,-0.6158159,-1.2210915,4.2603927,-0.8635024,-2.0032759,-2.0122848,0.50791055,-0.6767206,3.973515,21.929682,-1.9500319,-2.2495186,2.8068295,-1.8782274,3.3575861,4.8134613,-0.9587971],\"type\":\"scatter\"},{\"marker\":{\"color\":\"#FFA15A\",\"size\":3},\"mode\":\"markers\",\"name\":\"14\",\"x\":[42.409775,38.589874,38.434032,40.795048,41.23645,33.440517,41.039364,38.31166,42.754826,42.56894,42.48797,43.011536,40.91563,42.88401,42.3833,41.012764,40.987522,42.495964,42.39445,38.569134,33.438766,42.303207,43.033627,42.347755,43.22264,40.71949,41.319027,41.304684,32.95879,44.789253,41.11149,43.906494,33.41859,41.401142,41.336075,42.938496,43.82482,41.579674,43.254585,38.36958,41.396618,43.851368,41.21011,42.654816,38.76445,44.310696,43.778797,42.909943,38.85098,41.363255],\"y\":[4.9822865,4.8718467,4.7238464,4.4892735,6.5049934,3.0349555,7.9139147,4.5805964,6.2102094,4.971143,7.217663,5.977477,7.487535,6.705565,5.0981693,8.261955,6.1516333,4.8176003,8.940185,4.880436,2.9967434,9.007397,6.751942,9.140954,7.5816636,6.85472,7.693504,7.284752,2.1576421,8.223113,7.082962,8.09618,2.9665465,5.2810397,8.081021,6.6712766,8.166289,7.814684,5.7812977,4.6584277,6.452002,8.096101,6.3507085,4.960037,5.0307455,8.149087,8.059247,6.1038046,5.1211295,7.526519],\"type\":\"scatter\"},{\"marker\":{\"color\":\"#19D3F3\",\"size\":3},\"mode\":\"markers\",\"name\":\"15\",\"x\":[57.614895,56.570217,59.6626,58.640923,57.06957,55.784054,56.69423,56.96295,56.84177,58.379974,57.2763,57.7156,58.693726,58.316063,58.21989,57.759907,58.346634,59.25684,58.63791,58.164913,58.100304,58.049656,56.16949,56.025005,57.03889,34.66425,60.028435,58.320194,57.9191,56.64064,57.906563,60.091522,55.919773,58.81732,55.949306,57.62923,55.783722,57.623196,57.88449,58.890713,60.022335,59.831562,58.153725,58.573563,59.379932,58.168915,57.06753,58.328312,58.66806,58.81626],\"y\":[24.535677,24.921083,23.52704,22.928288,24.569876,25.038715,24.184816,23.913435,21.889673,24.879856,22.114632,23.463879,24.062235,23.315926,21.980038,24.031013,21.592367,21.879059,24.801924,21.08044,23.993467,25.068819,23.389479,24.762545,22.032673,4.058561,22.943502,22.482548,24.277435,22.617456,23.613138,22.912476,24.991661,25.033321,23.337002,24.07487,24.97244,24.83694,24.785002,25.244213,23.083733,22.92055,20.898857,22.714226,22.276245,20.958202,24.583153,22.375635,24.329376,23.907495],\"type\":\"scatter\"},{\"marker\":{\"color\":\"#FF6692\",\"size\":3},\"mode\":\"markers\",\"name\":\"16\",\"x\":[55.34047,52.748547,52.888885,52.334667,54.676067,52.13521,52.51133,52.58623,54.444733,53.091404,53.42988,54.711437,51.02148,54.2309,50.80238,52.04373,50.658096,54.58666,52.24176,54.401688,53.245914,52.61464,52.026543,52.532856,55.02155,52.941475,52.94468,55.476433,54.76305,55.740295,51.96606,55.283855,51.70131,53.679276,52.30079,52.255726,54.184006,52.995842,52.363594,51.933083,55.612076,53.674316,53.54858,53.680805,54.772808,52.44935,54.67306,51.918568,54.405712,52.35197],\"y\":[-31.636072,-28.206549,-31.89439,-31.479948,-30.423815,-31.272657,-28.754011,-29.49604,-31.171808,-30.263905,-31.010431,-29.818401,-30.813389,-32.175385,-32.297485,-29.984375,-31.99285,-32.28273,-31.416748,-31.375586,-30.426437,-31.402063,-30.433748,-32.442528,-32.663887,-31.167929,-31.015518,-32.794514,-32.14813,-33.0975,-30.806253,-31.092754,-31.307049,-30.2516,-29.844547,-32.510834,-32.88753,-30.893785,-32.60461,-30.668142,-32.965733,-30.6395,-30.810019,-30.552628,-30.108686,-30.37891,-31.295994,-31.447264,-32.65594,-32.63259],\"type\":\"scatter\"},{\"marker\":{\"color\":\"#B6E880\",\"size\":3},\"mode\":\"markers\",\"name\":\"17\",\"x\":[6.380527,2.9736717,3.302316,3.3419473,3.9266396,3.5306892,0.55123675,-1.6516036,3.919386,-0.10948838,2.3877852,-0.02301724,2.1361558,4.8233213,1.319829,6.3102736,2.4123926,1.3462178,5.127229,3.2873964,2.2584941,2.3730285,1.522108,3.036921,2.6430385,1.894437,3.738923,5.3248143,4.248351,3.2637637,3.1663966,4.5422435,4.985279,5.5655837,1.5525892,1.9733161,2.885801,2.3832092,-1.3146757,1.7210505,-0.5296769,3.2646263,0.20054874,6.475943,-1.1883062,5.0239315,3.4817605,6.2741876,6.634384,4.008275],\"y\":[55.485485,54.721912,56.433414,56.561356,51.155125,54.75065,54.057278,51.65523,56.11255,55.586895,56.051765,54.02111,51.96495,54.55534,52.407097,55.534264,56.359245,52.680786,52.064857,55.216164,56.337482,52.51886,52.246834,55.24523,55.051666,53.974022,54.39193,54.790375,55.01712,54.60882,55.269897,54.89804,54.5975,54.83161,54.605675,56.458603,55.33378,53.935062,51.25978,54.68511,54.37185,54.280216,54.143566,55.444168,51.312218,51.888012,56.337814,55.4273,55.523964,51.1888],\"type\":\"scatter\"},{\"marker\":{\"color\":\"#FF97FF\",\"size\":3},\"mode\":\"markers\",\"name\":\"18\",\"x\":[11.524621,9.7459,12.163969,12.687049,13.040911,11.883164,12.572392,12.302886,11.937414,12.4566,12.298678,12.737414,12.737591,11.431601,11.476904,13.61868,12.476942,10.534778,13.015511,10.662638,13.01055,13.331532,12.599954,12.764861,12.624831,14.660795,13.858933,14.450913,11.57342,13.193258,13.943204,12.601603,12.496187,12.853809,13.359542,12.345291,12.654485,9.24286,13.05751,12.123386,10.948721,11.060683,12.34278,13.163167,11.514878,13.694086,10.75777,12.13557,13.118859,10.9088545],\"y\":[30.82153,30.550247,29.78711,29.900574,27.970686,31.66168,32.527534,30.208971,31.263624,30.594458,27.377678,28.584824,32.148525,31.24208,31.395649,30.573084,30.107481,31.242744,30.788755,30.36456,30.26378,30.50768,30.437162,31.109755,33.743313,30.336308,29.994387,30.607172,30.595737,30.025326,31.728777,30.282574,30.241158,28.476967,32.2116,30.849016,33.75817,31.22197,29.144165,27.191122,31.777939,31.524883,32.877827,27.989227,31.45285,31.389265,32.003044,27.337425,27.97417,31.947811],\"type\":\"scatter\"},{\"marker\":{\"color\":\"#FECB52\",\"size\":3},\"mode\":\"markers\",\"name\":\"19\",\"x\":[29.288273,29.62507,30.216013,32.21042,30.95306,31.754164,33.083645,30.468676,29.860544,29.365707,29.413506,30.449636,30.412472,30.19431,30.191849,29.44036,29.257727,31.29825,32.44164,30.575571,32.12997,29.523945,32.193634,29.350176,32.69405,30.985506,30.981972,31.777184,32.429955,29.58477,32.047832,30.692749,29.244276,31.127226,30.035603,32.167164,29.143671,29.982191,30.554956,32.257217,30.725752,29.191086,31.978607,30.273033,30.697634,28.81502,30.373833,29.768261,31.888678,30.231627],\"y\":[25.654528,24.285622,24.4516,22.922674,23.074324,23.241402,23.696903,26.092464,26.35332,22.843653,22.579489,26.516405,24.615223,24.297224,24.684362,26.445396,24.01996,26.167597,24.423672,26.606588,22.212343,25.51218,22.424818,22.640608,24.340649,21.464499,21.4455,23.244576,26.008137,25.29975,25.149416,25.567312,25.332565,25.83328,24.381516,23.056665,24.709482,24.80206,26.080227,24.89929,26.402927,25.663578,23.24028,24.52462,25.829165,4.641831,23.969248,25.119795,23.08232,23.977108],\"type\":\"scatter\"},{\"marker\":{\"color\":\"#636EFA\",\"size\":3},\"mode\":\"markers\",\"name\":\"20\",\"x\":[15.800857,13.174345,17.226307,16.389801,13.598325,14.987012,15.587473,16.43461,14.975856,14.211152,14.529242,13.75881,13.466777,16.180233,13.723382,12.391447,14.078332,17.232996,13.711332,15.569363,16.925879,13.417436,13.7387,13.259169,14.78521,16.534256,16.390766,14.881526,13.027435,15.02853,15.615647,14.462626,13.681284,14.892169,13.643456,15.426848,16.813303,16.433062,14.699316,13.853528,14.435563,14.986791,15.082777,15.786359,14.514411,13.195322,13.566872,16.205349,15.657518,13.715295],\"y\":[61.315376,60.849663,61.41352,60.009132,58.030796,58.799427,60.52432,60.01601,61.298664,59.977448,59.121567,60.19464,59.589275,59.806805,61.9176,58.72366,59.473057,60.282726,57.774086,61.851845,60.963062,59.580116,60.441742,61.45229,58.591854,61.358665,61.16246,58.821583,59.34874,58.757076,60.88572,60.026527,56.812477,58.937607,56.92386,59.439938,59.349834,61.28634,60.954853,60.61812,60.675087,61.61222,60.341328,60.91917,60.20205,61.618877,59.994827,60.21335,61.25615,57.024906],\"type\":\"scatter\"},{\"marker\":{\"color\":\"#EF553B\",\"size\":3},\"mode\":\"markers\",\"name\":\"21\",\"x\":[60.87219,61.014748,62.3239,60.23187,61.500713,59.69114,62.11968,59.95169,60.744564,62.210323,62.160507,60.17368,59.67895,62.155468,61.624596,60.85698,61.692608,60.22531,61.51478,62.666073,59.987453,61.55699,59.7729,62.644684,61.279446,60.68559,60.804276,61.106113,62.472153,60.033665,59.682415,61.015408,60.71706,61.81447,62.259144,60.193672,60.04966,62.574524,59.4342,61.347248,59.836773,60.215725,61.372818,61.296257,60.89925,60.806107,61.750687,59.270397,59.903442,59.97984],\"y\":[-12.981085,-16.244965,-16.724215,-17.19187,-15.756685,-17.096106,-13.942586,-17.947676,-15.626532,-16.147251,-15.300186,-14.04503,-16.921354,-13.951347,-17.31271,-18.191875,-15.157254,-14.0504265,-15.149286,-15.191668,-13.254583,-15.890372,-12.773328,-16.668077,-15.619192,-15.8738785,-15.739725,-15.373196,-16.547531,-14.082904,-13.405864,-17.259195,-15.853334,-15.841558,-14.353358,-18.048494,-17.513344,-16.699406,-13.948458,-17.174343,-18.616241,-18.12457,-16.089365,-15.138334,-13.097513,-15.614581,-15.201408,-13.99082,-17.088444,-18.340319],\"type\":\"scatter\"},{\"marker\":{\"color\":\"#00CC96\",\"size\":3},\"mode\":\"markers\",\"name\":\"22\",\"x\":[28.784176,30.955187,31.29296,28.946995,30.633152,28.411703,27.796305,29.922672,29.188383,29.145557,29.421011,30.215952,34.27901,30.243235,30.535791,29.150482,27.947895,31.02547,30.038134,28.305342,28.622915,29.422188,29.01581,34.188904,29.251127,30.096478,34.81701,30.182772,30.629728,29.25902,34.006027,29.122095,25.845291,28.72878,34.012146,28.383993,29.216421,29.908531,32.827892,26.120235,30.443113,28.569788,29.1191,30.147835,29.352064,34.782955,29.757906,28.407488,34.087315,29.269352],\"y\":[-26.931498,-25.907562,-26.218,-26.383034,-27.26819,-27.85062,-26.501293,-26.585983,-24.738646,-24.387922,-27.75692,-27.505928,-4.579397,-26.594696,-26.156878,-24.326382,-26.077988,-26.804836,-26.688572,-27.280687,-26.792711,-27.211369,-26.943163,-4.6960626,-28.134918,-28.11386,-2.595602,-26.93246,-27.57602,-26.480953,-4.9372873,-24.37022,-25.619625,-27.071539,-4.650644,-26.791765,-28.069206,-26.46449,1.9403348,-25.70523,-26.248465,-27.926188,-26.407421,-28.306627,-28.003407,-2.7704732,-26.941488,-27.177483,-4.949936,-29.381588],\"type\":\"scatter\"},{\"marker\":{\"color\":\"#AB63FA\",\"size\":3},\"mode\":\"markers\",\"name\":\"23\",\"x\":[-38.79224,-39.26066,-40.31999,-41.735554,-39.544697,-38.621956,-38.869938,-41.255974,-38.74928,-38.89496,-40.691574,-39.487576,-39.909233,-41.118904,-36.904446,-41.57098,-39.879604,-41.407192,-40.598717,-41.47779,-40.17164,-41.20064,-39.850727,-41.465836,-37.88302,-40.9421,-41.418118,-36.656418,-39.294838,-40.397316,-39.099823,-38.476986,-41.19787,-41.24132,-40.51504,-36.687653,-38.0034,-39.878574,-38.63625,-37.88651,-41.549885,-38.95995,-37.82313,-39.24004,-40.08854,-38.681843,-38.56867,-40.025833,-39.84518,-39.106876],\"y\":[-8.551465,-7.28713,-4.5324025,-5.2676034,-8.713837,-9.118555,-9.583293,-8.111433,-9.306565,-5.0335884,-7.279165,-6.821967,-5.712569,-7.612701,-9.484128,-5.378902,-5.311185,-7.963554,-5.8364296,-5.383681,-4.555054,-7.5918465,-5.346032,-6.9287143,-9.674952,-5.374194,-7.261796,-9.726974,-6.6300945,-7.6175423,-5.483238,-9.220011,-7.970724,-5.412214,-7.7479734,-9.724322,-9.228761,-7.3677907,-8.888199,-9.321308,-5.325506,-5.2112665,-9.346472,-7.340158,-6.754361,-7.320962,-9.243018,-6.0593486,-6.786145,-5.343169],\"type\":\"scatter\"},{\"marker\":{\"color\":\"#FFA15A\",\"size\":3},\"mode\":\"markers\",\"name\":\"24\",\"x\":[-23.004295,-20.454967,-21.693348,-21.959734,-22.925505,-22.728897,-24.005999,-22.414265,-23.342007,-19.890768,-19.999685,-20.946407,-21.74521,-23.507212,-23.599194,-22.76013,-22.811934,-22.519938,-20.132881,-23.373339,-21.778408,-20.733017,-22.159218,-20.111855,-21.946201,-21.41229,-49.63446,-20.778948,-20.941486,-22.480633,-20.1496,-23.442959,-21.387722,-23.140144,-22.65629,-24.199299,-23.586847,-22.99532,-23.739319,-20.5052,-23.10642,-21.961826,-21.817936,-22.24713,-20.13028,-23.590576,-21.304155,-19.969803,-22.069576,-21.867361],\"y\":[53.272236,54.922993,54.53154,52.653866,55.077415,54.395267,53.746147,54.750782,53.01228,51.76996,56.088284,53.560024,53.920937,54.766365,52.806446,52.760693,54.329937,53.34093,53.75636,54.551147,55.440617,55.756203,52.648598,53.297062,52.750557,52.701134,-35.662685,53.30061,54.49239,53.381084,56.11476,52.813766,53.79284,54.874332,52.688347,53.373505,52.8394,52.030716,54.67069,55.12838,55.545048,54.272015,55.2692,55.806644,56.04705,53.426537,53.047882,55.731518,53.579453,53.53842],\"type\":\"scatter\"},{\"marker\":{\"color\":\"#19D3F3\",\"size\":3},\"mode\":\"markers\",\"name\":\"25\",\"x\":[-13.724964,-12.537662,-12.424811,-15.8218775,-14.47321,-13.187316,-12.861442,-14.123187,-14.260443,-15.080955,-13.197545,-16.177917,-14.658228,-14.342964,-16.17126,-15.122594,-12.725355,-13.640161,-15.2195215,-15.097284,-16.304708,-13.86892,-15.105002,-14.071971,-13.874774,-14.856734,-14.390833,-12.288019,-16.441744,-12.930603,-13.5710125,-15.49938,-13.040148,-14.872621,-15.383999,-14.496953,-14.335482,-12.681718,-16.56968,-13.070109,-12.805509,-15.043313,-13.832302,-14.520178,-15.152336,-13.190952,-13.60091,-12.737111,-15.329215,-13.759888],\"y\":[33.44982,33.146996,35.465923,35.7564,33.436516,36.013138,33.324493,35.128845,34.42384,36.108486,36.18757,34.103386,36.701077,34.7229,34.036514,35.15501,34.537746,36.477974,35.366844,33.84116,33.927116,33.304337,36.88542,35.17856,36.520935,35.761177,36.538692,35.239994,33.860622,32.711456,35.290848,35.361637,32.84639,33.96703,32.91641,33.625645,35.03955,32.033848,33.7931,32.746243,32.88849,36.324615,35.840134,36.548523,36.854904,33.839157,34.530937,34.6231,35.03807,34.869392],\"type\":\"scatter\"},{\"marker\":{\"color\":\"#FF6692\",\"size\":3},\"mode\":\"markers\",\"name\":\"26\",\"x\":[8.994793,11.670205,10.602682,10.552641,10.594305,12.253835,10.012452,11.806138,10.448152,10.942886,12.9678335,11.60228,10.089761,11.989784,11.974201,13.01958,10.540319,11.212129,12.316623,11.40189,12.8452,9.659847,11.279474,13.59784,10.719031,13.499932,10.059256,11.516578,10.656947,10.199974,11.751993,9.791669,4.5784597,10.592014,12.42729,13.551338,10.441447,13.564594,12.16169,12.295756,10.564094,11.210416,13.106643,13.680552,11.5108,12.931056,12.898663,11.808457,10.710745,11.368687],\"y\":[-33.379402,-33.30744,-33.58599,-23.955051,-32.240005,-33.91383,-34.864803,-34.25766,-35.15284,-32.652603,-35.05653,-32.448868,-35.839424,-33.601795,-33.40046,-35.268703,-36.57046,-35.386925,-37.241535,-36.2898,-33.237118,-35.928135,-36.342537,-34.840405,-37.133465,-36.248924,-34.94999,-35.00662,-36.61124,-35.346752,-33.291206,-35.79509,-17.971943,-32.221806,-33.78893,-34.998856,-35.69675,-36.088604,-37.372562,-37.067944,-37.795376,-36.415005,-35.322605,-36.111897,-33.12961,-36.996628,-34.657623,-34.963814,-36.1259,-37.822727],\"type\":\"scatter\"},{\"marker\":{\"color\":\"#B6E880\",\"size\":3},\"mode\":\"markers\",\"name\":\"27\",\"x\":[-2.5291383,-3.014881,-1.1060388,-1.022618,-2.4897268,-3.2259989,-1.8192058,-2.3675997,-4.4790907,-4.447189,-3.4410846,5.0505195,-3.210541,-1.5407271,-4.178153,-4.49862,6.978635,-4.716558,-2.8467872,-2.2609968,-2.1756313,-1.9871489,-3.7951224,-3.0918834,1.5875021,-3.408417,-3.0844605,-1.5487025,-4.4947634,-2.1448448,-4.1001105,-1.1791915,7.5684505,-3.9663875,-1.858071,-2.978322,-1.5823561,-4.0715327,1.628709,-2.9966564,-4.129977,-2.5536277,-2.4346855,-4.453968,-3.2405992,-4.3275476,-2.6173873,-2.5573552,-4.4210424,-4.493637],\"y\":[-17.805607,-14.625252,-9.043138,-17.404388,-16.797102,-15.569576,-15.488581,-15.334556,-13.880547,-14.592652,-16.893911,-14.507727,-17.714767,-15.498434,-14.860323,-17.01974,-17.814709,-16.643084,-16.83115,-17.564482,-15.427606,-17.125011,-15.664622,-16.615345,-15.0186825,-15.442394,-16.546965,-15.358787,-14.706429,-15.364306,-16.261461,-15.152525,-17.473558,-14.673663,-15.379421,-17.832174,-16.21586,-14.177317,-15.013948,-17.937498,-14.073426,-15.054037,-15.259717,-13.712722,-16.773794,-16.194132,-14.866867,-14.9981575,-14.961232,-16.28526],\"type\":\"scatter\"},{\"marker\":{\"color\":\"#FF97FF\",\"size\":3},\"mode\":\"markers\",\"name\":\"28\",\"x\":[-3.3131566,5.872886,6.076213,-4.592304,-4.5402994,5.758731,4.9911785,5.779637,-3.6670206,5.9295,5.7807727,-9.907784,-2.9355943,-5.5798774,1.1683897,-2.4689488,-5.235487,-2.8480742,-6.6770835,-4.4478893,9.362872,6.352648,-5.5048046,-6.2325335,-6.32568,-2.8543537,-4.7261043,-40.563774,-3.8902497,-2.517081,-3.3978553,-0.55601656,-11.632137,-23.718014,5.903817,-4.6743064,-23.575642,-3.1119206,-4.8815846,-4.9759636,-11.545481,-3.0630996,5.384661,-2.9554276,-3.027766,-4.9736433,5.795852,5.8573217,-3.7650812,-2.3269727],\"y\":[-3.283602,-12.865573,-16.833534,-3.3683887,-3.4262857,-16.223883,-17.118906,-19.227364,-3.1627085,-15.691939,-12.620071,-29.12208,-3.029002,-3.8130407,-8.197697,-1.4329044,-2.8151221,-2.9071343,-2.9878643,-2.9788153,-22.923996,-18.25778,-3.8298025,-3.456039,-3.0582018,-6.356459,-2.321766,3.0877304,-2.683053,-2.81232,-3.3488069,-27.026148,-31.507397,-43.50293,-16.00182,-3.5535765,-43.55314,-7.2638106,-3.2713065,-5.6522827,-31.283573,-7.0484858,-16.021473,-6.6162577,-2.72858,-5.731027,-17.105171,-19.193817,-2.6778226,-2.7464612],\"type\":\"scatter\"},{\"marker\":{\"color\":\"#FECB52\",\"size\":3},\"mode\":\"markers\",\"name\":\"29\",\"x\":[-42.25892,-45.017063,-42.918518,-43.769783,-45.109806,-41.441654,-45.117558,-43.105618,-42.95136,-43.538296,-44.10057,-42.92079,-46.87989,-43.53988,-41.34755,-44.881466,-43.45977,-45.386337,-43.41765,-45.01589,-42.281216,-43.184166,-43.22746,-46.906696,-41.30667,-41.240063,-43.54755,-43.04682,-41.38439,-42.711918,-43.195793,-46.9228,-43.127045,-42.61993,-42.704197,-45.686176,-42.347332,-44.6727,-41.17867,-47.06048,-44.822277,-43.50348,-42.144913,-46.26732,-44.831196,-42.81899,-46.475636,-44.974304,-43.137146,-44.99767],\"y\":[25.13451,24.775133,24.591215,25.119026,24.841125,22.265734,24.824638,26.080202,25.297995,26.59047,25.895075,26.629412,26.076044,21.990805,22.048933,23.222427,21.866798,24.83615,21.756641,24.57916,25.102793,25.390326,26.655363,26.04672,22.01552,22.32353,21.981632,25.500586,23.367504,25.487741,25.159498,26.017422,25.722143,25.45575,25.356695,26.589783,25.185778,23.546417,21.745375,25.93646,24.746801,21.932362,25.728292,26.666523,26.546581,24.97397,26.594004,26.624016,24.433212,24.676271],\"type\":\"scatter\"},{\"marker\":{\"color\":\"#636EFA\",\"size\":3},\"mode\":\"markers\",\"name\":\"30\",\"x\":[-19.68109,-19.134827,-20.32233,-20.03053,11.743267,-19.356613,-20.193146,-22.312845,-19.874403,-19.72511,-21.42149,-21.786566,-19.846872,-20.225897,11.698002,-19.201077,-19.063137,-20.172052,-21.866835,-21.125439,-20.294247,-19.94524,-21.147861,-21.352839,-21.76962,-21.353834,-19.421618,-22.008982,-21.001005,-21.293678,-19.574629,-19.353115,-20.311909,-19.262049,-19.750954,-19.45209,-20.852274,-21.015087,-20.002998,-19.518187,-20.452406,-19.696175,-19.815596,-21.39994,-18.930342,-21.65173,-20.91446,-21.532156,-19.519855,-20.89824],\"y\":[-48.230167,-48.21466,-45.668667,-47.92783,1.6603897,-46.08106,-45.544304,-45.12274,-48.298283,-46.4634,-44.720993,-47.695457,-48.5261,-42.991848,2.0934904,-46.519756,-48.40155,-44.90838,-47.694214,-42.948433,-47.57843,-42.74727,-44.38047,-44.40716,-43.737003,-44.815037,-45.635418,-47.888844,-42.523968,-45.619255,-43.85091,-46.96261,-42.545906,-46.60122,-43.18628,-46.01713,-46.373547,-46.9917,-45.533875,-43.316933,-43.246376,-48.1064,-45.630318,-42.702614,-44.75821,-47.81608,-43.021515,-43.332455,-42.69558,-44.08986],\"type\":\"scatter\"},{\"marker\":{\"color\":\"#EF553B\",\"size\":3},\"mode\":\"markers\",\"name\":\"31\",\"x\":[-11.44175,-13.045331,-13.2688265,-14.511219,-14.415693,-7.1808715,-15.13645,-13.705166,-12.710773,-14.464817,-13.572557,-13.241382,-14.200803,-13.483899,-12.466721,-14.087675,-13.352189,-13.233398,-16.085995,-13.313487,-15.583869,-13.347666,-12.605745,-13.490716,-13.270917,-15.04132,-14.642477,-15.724783,-14.819898,-14.689274,-13.06469,-12.451565,-14.709343,-12.727236,-11.306441,-15.476909,-15.210128,-16.347694,-15.275371,-15.118386,-12.446712,-14.590878,-14.45245,-11.078734,-13.923711,-11.461887,-14.892959,-12.850189,-14.116582,-15.928477],\"y\":[-54.79246,-52.37219,-52.685658,-52.09731,-51.832176,-38.19744,-53.584465,-53.168808,-55.99536,-54.85955,-53.984795,-55.553024,-52.285328,-51.85324,-56.18294,-54.61473,-52.101913,-52.337795,-51.73724,-52.49142,-52.086113,-52.811806,-53.864407,-54.29568,-52.63272,-52.339577,-55.388447,-52.12054,-54.594635,-51.94175,-55.75011,-53.991295,-54.959167,-56.019436,-51.908245,-52.046722,-55.615993,-51.49924,-55.66474,-53.244297,-53.62239,-55.20588,-52.45744,-51.666706,-54.651405,-52.007812,-54.85425,-55.928303,-54.97009,-51.84923],\"type\":\"scatter\"},{\"marker\":{\"color\":\"#00CC96\",\"size\":3},\"mode\":\"markers\",\"name\":\"32\",\"x\":[-54.058743,-51.644314,-54.446903,-55.398582,-54.76987,-51.07595,-50.155834,-51.01407,-55.33941,-52.32414,-51.537346,-51.585155,-54.31565,-53.97893,-49.876053,-51.47924,-54.886005,-52.908173,-52.420994,-52.71628,-53.00401,-53.50446,-51.44086,-53.77918,-53.108353,-49.76134,-53.923874,-53.018085,-53.73696,-54.425297,-52.45012,-54.27057,-50.268406,-53.48845,-53.39809,-53.877453,-54.374886,-51.62714,-53.108047,-53.19937,-51.005066,-52.03005,-54.19253,-52.723045,-53.285637,-50.770393,-49.39109,-52.717228,-53.22312,-51.576176],\"y\":[-17.692842,-16.688772,-18.786314,-18.526628,-19.164171,-17.481884,-17.448147,-18.927696,-18.34606,-18.824068,-16.00097,-15.959164,-17.970953,-17.716694,-18.1211,-16.784607,-19.07774,-19.09685,-17.833992,-18.865108,-19.167755,-19.091446,-16.043432,-18.014307,-18.296911,-18.275179,-18.881344,-16.30105,-19.299173,-17.286577,-16.37502,-16.8923,-17.030115,-19.525738,-18.018785,-19.165436,-16.999636,-15.968655,-18.105738,-16.2681,-17.512672,-16.156515,-17.693182,-18.808908,-16.321768,-17.538498,-18.33784,-17.183079,-18.968203,-15.983468],\"type\":\"scatter\"},{\"marker\":{\"color\":\"#AB63FA\",\"size\":3},\"mode\":\"markers\",\"name\":\"33\",\"x\":[-63.11742,-61.873184,-62.603558,-61.172264,-22.101555,-61.418682,-62.5446,-62.218178,-61.773193,-61.695354,-63.224457,-62.936436,-62.373318,-63.16994,-60.64103,-60.365707,-63.140846,-61.915684,-63.407635,-62.445984,-60.412285,-62.424454,-63.44872,-63.08112,-63.300877,-62.118534,-59.81157,-60.90675,-62.09058,-61.660065,-63.492397,-61.709854,-60.637657,-60.44175,-62.61947,-63.197636,-63.141685,-61.844246,-62.18882,-63.730415,-30.82881,-62.205788,-60.29209,-63.086212,-63.008663,-61.689293,-60.448334,-60.77643,-63.291115,-62.45991],\"y\":[11.3484745,10.930733,11.567282,13.116125,-41.921486,13.411299,13.387244,11.515694,12.626465,10.8946495,12.152529,13.380101,14.513345,12.714224,13.896289,12.156564,11.863336,11.702018,12.429807,14.800016,14.269063,11.215036,12.681997,15.083868,15.063372,14.510803,12.001353,13.853861,11.50515,11.345228,15.226192,12.015761,12.3824835,9.984919,11.94816,11.158605,15.048933,11.962224,14.781653,12.366821,-25.588497,13.979389,14.3706665,13.73038,11.666058,11.895872,14.066948,12.202307,14.857262,12.274261],\"type\":\"scatter\"},{\"marker\":{\"color\":\"#FFA15A\",\"size\":3},\"mode\":\"markers\",\"name\":\"34\",\"x\":[-22.348724,-20.372305,-23.202284,-21.352102,-22.170723,-22.463152,-20.80327,-21.922998,-20.38749,-20.83506,-22.388182,-21.600908,-23.370108,-22.266994,-18.845991,-19.840424,-23.157711,-21.984058,-21.174984,-22.267487,-22.049599,-21.244581,-37.123238,-21.35535,-18.481829,-21.295681,-19.898272,-36.773132,-20.913774,-38.945667,-21.394365,-21.95177,-21.890207,-23.459873,-21.221388,-20.677315,8.872377,-18.606434,-23.072504,-21.10198,-21.194752,-36.715126,-21.217806,-20.148531,-20.95598,-20.113497,-21.408394,-20.495287,-22.679802,-20.622381],\"y\":[-7.051173,-9.998402,-7.69798,-6.40732,-9.880232,-7.6163125,-7.3006263,-8.31635,-8.217353,-10.527963,-7.74856,-7.151969,-7.352481,-7.842979,-8.917313,-8.372213,-7.574784,-8.396427,-9.326258,-9.271716,-7.5378904,-7.6999717,-10.860687,-9.689723,-8.981036,-10.197757,-9.028803,-12.095524,-7.3189588,-23.659126,-6.212981,-10.291438,-7.568747,-7.410329,-10.253531,-7.3360934,-17.221937,-8.956088,-7.455695,-8.137837,-9.396141,-12.293067,-7.47288,-8.730865,-8.860696,-9.572839,-8.24196,-9.786596,-6.393938,-9.859926],\"type\":\"scatter\"},{\"marker\":{\"color\":\"#19D3F3\",\"size\":3},\"mode\":\"markers\",\"name\":\"35\",\"x\":[-18.087334,-19.934622,-20.072662,-20.55622,-21.325592,-18.716866,-18.72929,-20.077133,-20.683105,-19.966154,-18.293364,-18.402985,-18.679182,-18.82122,-18.860744,-20.385363,-21.382078,-18.055695,-19.600834,-20.197802,-20.57348,-20.010077,-21.165754,-20.924053,-18.27519,-18.122004,-20.230223,-18.899332,-18.020992,-18.307034,-20.136766,-21.429546,-19.80829,-20.813662,-20.52016,-20.43671,-18.782063,-20.386583,-18.998703,-20.375921,-21.416058,-18.06618,-18.65238,-21.075926,-18.891716,-20.977505,-20.660734,-18.904945,-20.495249,-20.658213],\"y\":[22.316677,19.17223,18.182112,21.676245,20.884895,20.127668,19.421316,20.359987,21.777098,17.577269,19.942759,18.782986,19.682287,17.538685,17.189756,19.629902,20.994764,22.365103,19.511366,16.928476,19.538694,18.260452,21.112612,20.686634,18.810694,22.379616,19.009794,21.696278,22.254637,19.89329,17.937721,19.186876,17.788456,17.695557,17.473515,21.331417,17.255798,20.665068,19.188446,17.31688,18.315321,22.18169,20.94626,18.109053,20.98026,20.840248,17.33113,20.029161,19.534159,17.676413],\"type\":\"scatter\"},{\"marker\":{\"color\":\"#FF6692\",\"size\":3},\"mode\":\"markers\",\"name\":\"36\",\"x\":[10.730974,11.683318,10.819453,10.886338,10.052536,11.943791,10.688298,11.865656,11.810382,13.86699,12.0198345,10.9432955,11.138356,11.616099,12.158291,10.129236,11.231981,13.693823,10.203695,11.645406,11.985153,11.554719,11.691259,11.76977,11.748345,11.653799,11.349384,12.872781,11.235434,11.432042,11.328608,9.94066,12.874888,13.831239,10.745698,11.889243,12.132332,10.840462,13.964676,13.807988,11.462331,10.876588,11.480014,13.690433,11.50198,10.712782,12.225797,11.06956,13.577124,13.654926],\"y\":[-42.51644,-47.839016,-48.457745,-48.3841,-47.498867,-47.544197,-42.48762,-44.145058,-45.738842,-46.137066,-47.017868,-45.497196,-47.9389,-48.172398,-45.777702,-46.514557,-46.355938,-45.985176,-46.34868,-44.363274,-45.13524,-46.352985,-45.490307,-47.908775,-45.53659,-44.817707,-48.558506,-45.19797,-44.890408,-45.048233,-44.7641,-46.352215,-46.310722,-46.217358,-42.56492,-46.993244,-43.911655,-48.338146,-46.183956,-45.998196,-45.664333,-44.83006,-46.462254,-45.687717,-46.696377,-42.457134,-46.870476,-47.82397,-44.17732,-44.494892],\"type\":\"scatter\"},{\"marker\":{\"color\":\"#B6E880\",\"size\":3},\"mode\":\"markers\",\"name\":\"37\",\"x\":[7.8755736,6.462654,7.0312915,8.791345,7.274118,10.016225,8.884416,10.543906,6.1649303,7.557556,11.001606,8.731426,8.561874,9.987872,5.828454,7.244809,9.092253,9.061588,9.926616,6.531959,10.194342,7.260521,6.1481905,8.980311,6.1347194,8.468979,7.5167093,9.947305,9.652448,8.744609,6.2370844,9.786163,6.866672,9.017918,8.987587,7.3076687,8.77001,7.5306444,7.3683195,5.985101,7.2425065,6.46447,9.630474,6.277129,6.6756935,8.221055,8.0351515,8.627592,8.440202,7.3039074],\"y\":[16.397705,14.080296,14.037012,15.297715,12.2871475,14.302812,14.453986,14.996614,15.619054,14.657897,15.033923,14.50488,15.277208,14.258886,15.773123,14.466225,13.39908,13.378183,14.996794,15.68179,14.160923,13.715452,15.869291,11.970387,14.761734,15.1562,16.357447,15.031971,14.897199,14.11634,15.924273,14.861318,15.134773,12.158413,13.169381,13.505728,13.521841,14.629975,14.344316,15.756382,13.262679,16.2463,14.758094,14.680153,16.125925,13.869133,14.100807,13.188018,16.146856,12.26876],\"type\":\"scatter\"},{\"marker\":{\"color\":\"#FF97FF\",\"size\":3},\"mode\":\"markers\",\"name\":\"38\",\"x\":[-25.511152,-27.752104,-26.554607,-27.802996,-25.42539,-26.274876,-26.923578,-25.43479,-27.726713,-27.760347,-26.579233,-25.322197,-26.483776,-28.627861,-27.462109,-25.179716,-26.403831,-26.349844,-28.031303,-26.135065,-27.204473,-26.698517,-26.078783,-26.009295,-27.16178,-26.37243,-26.93154,-28.307392,-25.123884,-26.456789,-25.012041,-28.374304,-2.42811,-26.372883,-28.1362,-26.192932,-27.910671,-24.697903,-26.797104,-26.482615,-26.340715,-27.955687,-28.023315,-28.309717,-26.404066,-28.297602,-28.539604,-28.262825,-25.497684,-25.65955],\"y\":[3.8877506,3.570828,5.613832,1.9019516,3.3625398,4.214478,5.1349115,3.1448991,5.0105314,4.986954,2.932005,3.3124762,5.854743,3.9232924,3.9445345,4.244558,5.741952,5.569767,3.6483338,1.7561263,4.1266637,5.004152,3.384454,1.498047,4.2536626,1.6569991,5.103522,2.686296,4.167315,4.8579535,3.5244067,5.735461,-1.3965254,2.8431327,1.3650277,3.0449345,5.0253077,3.366237,4.62143,3.2156105,6.136498,2.0638778,1.9132358,3.790556,1.6729288,5.593369,2.6640496,3.5634077,3.7805362,4.4019675],\"type\":\"scatter\"},{\"marker\":{\"color\":\"#FECB52\",\"size\":3},\"mode\":\"markers\",\"name\":\"39\",\"x\":[6.431045,5.3022738,-2.3841968,6.079105,-1.4390339,-2.189823,0.6790351,-0.6713306,6.2006135,6.725278,6.8655868,0.54931694,-0.32646525,7.835821,4.808709,6.33857,0.41967335,8.136565,-0.690609,-2.8354683,0.43125808,-1.8802917,6.3723845,-0.9697783,4.661752,0.06582386,-0.6367465,-0.19469339,7.486141,4.925049,6.301387,-3.6982112,5.273244,7.9531455,-1.9005382,-2.7662394,-3.649006,-2.977015,-0.30888098,5.4196315,-1.3066334,-2.8657372,-1.1547542,-0.37953132,-0.009731086,6.7793565,7.756818,-2.9899795,-0.32749227,-1.08558],\"y\":[-16.459213,-15.330682,-7.26831,-16.27889,-7.0362415,-4.6370625,-7.664332,-4.8464594,-13.469391,-13.86666,-16.511646,-7.5376935,-6.732596,-14.408493,-13.319808,-13.085122,-7.5081224,-15.114636,-6.1971684,-4.6460686,-7.070738,-4.683258,-13.038042,-5.447415,-13.658954,-5.386746,-6.2086835,-5.3685026,-16.887943,-13.828818,-15.02474,-5.4818277,-14.2902155,-13.944571,-2.4650595,-4.176498,-5.416252,-4.573043,-4.879286,-15.290245,-5.5809736,-4.314897,-5.5339117,-5.9118752,-5.445607,-16.613195,-14.456212,-4.6879215,-5.807097,-4.4589577],\"type\":\"scatter\"},{\"marker\":{\"color\":\"#636EFA\",\"size\":3},\"mode\":\"markers\",\"name\":\"40\",\"x\":[-40.655148,-40.987423,-39.376102,-40.479263,-39.711063,-39.764816,-38.98385,-40.247852,-40.263954,-41.317955,-38.647133,-41.873745,-39.800583,-42.84106,-40.484245,-41.119785,-38.647694,-40.02068,-42.953518,-42.32279,-39.843628,-40.55702,-39.10804,-39.791725,-41.616158,-40.896935,-41.235226,-42.31101,-41.02844,-41.808754,-40.87987,-41.998024,-38.63139,-42.31882,-39.937603,-38.88792,-39.597713,-41.57243,-38.720932,-41.45785,-39.202065,-42.75188,-40.9205,-40.57606,-42.049393,-40.70411,-40.058353,-41.97641,-41.150196,-40.14583],\"y\":[46.117393,45.213146,44.411545,46.159702,44.472565,45.198566,44.2407,44.96517,43.72056,44.989395,46.407402,43.90901,42.902145,44.920986,45.919807,45.686058,45.532715,44.4881,45.21323,44.277744,46.795776,45.64809,44.386395,46.88133,44.88347,43.541454,43.93787,47.059856,47.01221,46.856167,43.596104,43.782894,46.41648,47.021103,45.298862,46.52044,44.501495,44.127342,45.9469,44.458004,44.597904,44.994064,46.532562,44.980873,43.997715,46.02021,46.521076,45.330727,43.522564,42.908485],\"type\":\"scatter\"},{\"marker\":{\"color\":\"#EF553B\",\"size\":3},\"mode\":\"markers\",\"name\":\"41\",\"x\":[-34.56718,-36.936188,-35.212917,-34.859356,-36.98057,-36.850166,-38.411533,-35.782482,-34.49032,-38.691635,-38.185364,-41.013294,-37.19921,-39.637688,-35.64828,-36.177296,-35.391556,-39.595535,-36.246777,-38.083538,-35.617374,-33.95367,-38.539223,-38.212772,-36.188103,-34.01895,-40.12844,-35.66815,-35.831013,-35.662125,-35.691734,-36.838165,-39.075096,-36.6578,-36.15052,-36.943348,-37.232555,-37.954315,-37.217007,-35.209766,-40.110817,-35.688843,-37.25831,-38.61047,-36.756794,-34.996716,-36.140102,-38.15363,-34.00117,-32.6962],\"y\":[26.9074,26.718187,29.569225,26.77187,27.589617,27.501886,28.620178,27.54959,25.210756,28.656656,26.381384,26.008305,28.33063,26.475382,26.18335,28.096678,26.914867,26.9957,29.044235,28.236626,26.36233,28.767857,28.640392,26.237816,25.703096,28.214449,26.17485,26.091614,29.228773,28.645472,23.668417,27.006489,27.095327,27.990036,25.887764,28.506573,27.825968,26.350817,27.615454,29.582026,26.279377,23.524008,29.014221,27.219107,26.851067,29.685955,27.639137,28.294096,30.10519,28.846235],\"type\":\"scatter\"},{\"marker\":{\"color\":\"#00CC96\",\"size\":3},\"mode\":\"markers\",\"name\":\"42\",\"x\":[-15.057446,-13.653796,-13.109491,-13.8749,-13.756807,-12.874867,-13.518984,-15.3669815,-14.624536,-13.701761,-14.598454,-16.372742,-14.580009,-12.340852,-12.291426,-13.974765,-14.254201,-11.836742,-13.22142,-13.06835,-12.917056,-12.568869,-12.446022,-15.894603,-13.042164,-12.267441,-12.861339,-14.472678,-12.811291,-11.878718,-16.001549,-12.176522,-12.756722,-14.317722,-16.379307,-12.225029,-15.718325,-13.215483,-12.835566,-12.863128,-12.755807,-12.941793,-13.954814,-5.166226,-15.5271435,-14.29547,-13.219483,-14.271002,-13.970186,-12.3900385],\"y\":[1.2615705,2.9645371,2.999354,3.8521261,-1.8171724,-2.2054162,3.962984,0.9097225,-0.64671093,3.3328311,3.2203026,0.28365815,-1.3624506,2.0518863,1.7352535,-0.6124318,-0.08512739,1.073782,-1.8186284,3.3004324,3.4110599,1.7108905,1.8378042,0.060963005,-2.0599802,2.0378819,3.4154274,-0.58110064,3.0320735,2.493893,0.16955444,1.9358197,-2.1769829,-2.4266248,0.2616195,1.9756407,-0.010959873,4.0871677,-2.0082085,-0.78858083,3.5659878,-2.0939615,4.24846,20.502836,1.0484143,-0.23122275,3.812057,-2.4470875,-0.11487281,1.4596249],\"type\":\"scatter\"},{\"marker\":{\"color\":\"#AB63FA\",\"size\":3},\"mode\":\"markers\",\"name\":\"43\",\"x\":[-49.309036,-33.633335,-34.660664,-34.420002,-33.96429,-33.57134,-34.02186,-34.710686,-38.06283,-35.873596,-49.444557,-34.67904,-38.41003,-36.219273,-34.41265,-36.556213,-36.165485,-34.437366,-13.075089,-49.48967,-34.307922,-36.348034,-34.449127,-36.33352,-36.03794,-13.033657,-36.003986,-36.049755,-36.27903,-36.147064,-37.429413,-12.600446,-13.161128,-49.583015,-34.264,-32.388096,-34.626453,-34.547256,-34.273926,-38.341187,-34.356915,-48.46254,-33.604298,-13.133838,-38.22878,-38.517666,-34.820515,-34.40022,-33.4547,-35.93882],\"y\":[-17.985643,-22.45711,-24.468426,-22.637396,-22.777239,-22.608887,-23.380503,-22.540583,-23.247211,-22.756538,-17.957357,-24.107166,-23.397413,-23.991545,-21.748121,-22.314995,-22.283714,-21.856428,-25.832424,-18.012516,-24.959045,-22.13171,-23.9145,-23.640219,-23.080257,-25.801466,-22.748186,-24.068974,-22.370312,-23.40088,-22.428602,-24.905306,-26.094265,-17.835066,-23.290964,-24.923912,-21.775194,-23.093933,-24.863539,-23.45895,-24.900625,-18.913633,-22.491625,-26.02383,-23.293383,-23.455791,-23.48756,-24.930428,-22.186424,-21.988565],\"type\":\"scatter\"},{\"marker\":{\"color\":\"#FFA15A\",\"size\":3},\"mode\":\"markers\",\"name\":\"44\",\"x\":[0.75214326,-0.16513519,1.4713092,-1.2940646,1.0230765,1.416645,0.69781244,0.13145372,2.4815161,1.6505798,2.783213,0.062452067,-0.18997584,-0.24415469,1.5432696,0.8356994,-0.25226963,0.7436612,-0.9116667,1.1187171,2.460653,-0.4990381,0.9173532,1.0744283,0.80814034,-1.2618337,1.146467,0.8384296,-0.68433166,0.91567546,1.3906664,0.68736124,2.3639023,1.498661,-0.4492336,2.0802217,0.8168852,2.3659043,-0.46162218,-0.32362446,0.027377577,2.3685296,2.2683716,3.0032642,1.7128309,-1.2712104,1.9590878,2.3272772,2.97057,2.721307],\"y\":[-62.37501,-61.458797,-63.213593,-62.245403,-62.379864,-62.684185,-61.912148,-59.50129,-63.21447,-62.58734,-62.831112,-59.48609,-59.87168,-62.375393,-63.51769,-63.40049,-61.28006,-63.470726,-61.514862,-60.329456,-60.513943,-61.69459,-61.75331,-63.90824,-61.475315,-62.20812,-63.34274,-60.62935,-61.387863,-62.73285,-61.59519,-64.02763,-60.60838,-61.581177,-60.365334,-63.93043,-64.286,-60.57198,-60.258987,-62.13109,-61.35894,-60.591152,-63.29519,-62.729156,-63.908092,-61.846966,-63.53089,-63.784817,-62.578133,-63.629364],\"type\":\"scatter\"},{\"marker\":{\"color\":\"#19D3F3\",\"size\":3},\"mode\":\"markers\",\"name\":\"45\",\"x\":[-28.865326,-29.658073,-26.669569,-29.824675,-29.354925,-29.287193,-28.256422,-29.13707,-30.542816,-28.736101,-29.895227,-29.044165,-32.394493,-32.366993,-31.359245,-28.342813,-28.638048,-29.070993,-33.49854,-27.386906,-28.511238,-32.29505,-28.073635,-26.767323,-29.556831,-26.890053,-33.609127,-28.920078,-28.31969,-33.429974,-29.458141,-32.276237,-29.507217,-29.270126,-33.634403,-29.13686,12.803044,-29.474684,-28.518229,-32.33914,-29.448189,-27.500385,-26.988195,-27.651783,-31.038166,-29.043869,-27.580612,12.852195,-31.845402,-33.286194],\"y\":[33.369305,30.550299,31.00779,30.905434,32.92688,33.196198,32.23276,31.226944,31.45578,32.6364,31.808659,31.498968,31.36566,31.618809,30.33334,30.421999,32.229843,33.70933,31.996721,30.933413,31.381636,31.52224,30.28331,31.51702,31.24162,31.048754,32.158123,30.989113,31.301329,31.910131,32.84237,31.550537,31.923016,33.259075,31.999678,32.054947,-25.621912,30.632586,32.469543,31.619535,32.11749,31.083801,31.107058,31.111076,28.278559,32.729412,30.786678,-25.506525,30.051168,31.017914],\"type\":\"scatter\"},{\"marker\":{\"color\":\"#FF6692\",\"size\":3},\"mode\":\"markers\",\"name\":\"46\",\"x\":[-16.065191,-12.675985,-15.253209,-15.322771,-15.270822,-15.447742,-14.481953,-13.984778,-12.274516,-14.501386,-15.065161,-14.718298,-15.092358,-16.582594,-14.812358,-12.512895,-13.965822,-15.928525,-17.012571,-15.569652,-15.267993,-15.235642,-12.772879,-14.151518,-15.305213,-13.401516,-13.827884,-15.891671,-14.286302,-14.787955,-12.421105,-14.068655,-12.395999,-12.581569,-14.428278,-12.31214,-14.088449,-14.810703,-17.036983,-16.974468,-13.780641,-15.105875,-16.161135,-12.5014305,-15.601733,-13.061032,-16.87544,-15.614919,-13.698842,-14.200352],\"y\":[59.261395,63.413143,59.28813,62.78574,59.366776,61.820522,61.59041,63.538464,63.23324,63.80642,59.318516,62.15808,62.814724,60.698177,61.47242,61.101982,63.577904,60.998955,60.601917,61.78515,59.3219,61.605343,61.626774,62.825214,63.372547,62.22719,63.76737,63.124973,63.745323,61.31184,61.464565,62.946026,63.12667,61.340065,62.054325,63.66137,62.864754,61.46988,60.334366,61.19345,61.52532,63.186832,61.0301,60.890213,62.61727,61.63572,60.54238,63.118664,63.026676,63.907227],\"type\":\"scatter\"},{\"marker\":{\"color\":\"#B6E880\",\"size\":3},\"mode\":\"markers\",\"name\":\"47\",\"x\":[-40.264263,-38.251034,-39.26682,-41.029366,-39.706078,-39.362278,-41.51423,-40.31851,-40.65372,-41.441154,-38.974083,-40.062607,-43.21721,-40.48448,-40.340714,-38.52032,-39.52029,-39.62757,-39.37671,-43.757732,-38.828655,-40.74273,-39.20956,-41.44357,-40.739033,-41.56855,-40.022423,-39.819187,-40.035576,-39.632927,-39.025257,-40.154694,-39.868515,-38.029484,-39.53488,-39.871902,-39.88618,-38.07054,-42.553867,-41.49174,-38.3028,-38.806644,-40.46857,-42.47174,-39.740555,-42.15469,-40.6609,-40.426353,-38.652763,-38.57613],\"y\":[-31.661713,-34.77223,-32.344906,-33.90004,-35.365227,-33.381683,-34.21724,-33.4639,-29.54615,-33.247032,-33.942677,-33.580414,-34.086674,-31.152098,-31.949585,-35.047398,-32.458824,-34.167015,-33.933285,-34.273483,-35.13283,-30.106094,-34.28426,-35.834213,-33.561398,-32.62687,-32.414646,-29.070154,-29.439411,-35.400238,-33.951077,-34.6959,-29.136684,-34.869576,-32.568638,-32.585747,-29.243147,-33.79361,-32.457886,-33.63258,-33.886005,-33.838306,-31.056889,-32.490826,-32.7663,-32.55554,-34.60185,-29.66651,-34.3825,-32.55067],\"type\":\"scatter\"},{\"marker\":{\"color\":\"#FF97FF\",\"size\":3},\"mode\":\"markers\",\"name\":\"48\",\"x\":[-30.481411,-32.818485,-34.038265,-29.85222,-29.795633,-30.735483,-29.96746,-35.145344,-31.253326,-29.431557,-33.03568,-33.280125,-30.438456,-29.775976,-33.90298,-34.763256,-33.68571,-31.204435,-34.232304,-31.253563,-33.49457,-34.733654,-27.081413,-31.434664,-30.83501,-33.733868,-27.114677,-27.118687,-31.78881,-30.558134,-29.117111,-30.515675,-31.520271,-30.095177,-31.54655,-33.755238,-31.391975,-29.490583,-31.665916,-33.628513,-30.459051,-31.85977,-30.58548,-29.453686,-34.409615,-34.74301,-31.494751,-30.526817,-34.84355,-30.541142],\"y\":[-32.47576,-31.194912,-32.724003,-28.887089,-28.812918,-31.914782,-30.902311,-26.198221,-28.84785,-30.781927,-30.402414,-30.934484,-29.238909,-28.777607,-30.743322,-30.123335,-32.471096,-28.483753,-32.47529,-31.956438,-31.32831,-30.084526,-29.6667,-31.843822,-30.040205,-32.288456,-29.669224,-29.643442,-29.88484,-31.569103,-30.765028,-31.553917,-29.636312,-29.0343,-32.323586,-32.009315,-29.15749,-30.79762,-31.638437,-31.822962,-32.42984,-30.042936,-30.625801,-30.859432,-30.077726,-30.220682,-29.281029,-32.619118,-30.260904,-31.576279],\"type\":\"scatter\"},{\"marker\":{\"color\":\"#FECB52\",\"size\":3},\"mode\":\"markers\",\"name\":\"49\",\"x\":[-10.027235,-7.559599,-10.549747,-9.21098,-11.53545,-12.323815,-7.449266,-8.710673,-11.0940485,-12.077209,-11.496004,-8.098549,-7.394706,8.264733,-10.795116,-10.095514,-10.541546,-6.970698,-12.251013,-9.325531,-10.613408,-9.070998,-10.219492,-12.392397,-11.155247,-10.113983,-7.231682,-10.281498,-8.96915,-11.111842,-10.322626,-12.266733,-6.8589606,-10.477886,-8.056095,8.2071,-12.258036,-12.120474,-12.278344,-12.509782,-11.039399,-9.419249,-10.782351,-7.367298,-9.265034,-7.307238,-10.459102,-12.138746,-8.950256,-8.191147],\"y\":[-31.150116,-35.754124,-35.444862,-31.24354,-35.2008,-33.984394,-35.790264,-31.149311,-35.39033,-35.050518,-31.722187,-37.110527,-34.657314,-20.00575,-32.638634,-30.60894,-35.828274,-36.60445,-33.978455,-35.481186,-34.757362,-31.162796,-36.108273,-32.595768,-34.291527,-34.453606,-37.505344,-30.550716,-31.183641,-35.284103,-33.326237,-35.09065,-35.00957,-30.190767,-37.118557,-19.924896,-32.829258,-32.820515,-33.08712,-32.861794,-35.220783,-35.41897,-32.688305,-37.300236,-35.682518,-37.294014,-35.89591,-35.10709,-31.047611,-37.003925],\"type\":\"scatter\"},{\"marker\":{\"color\":\"#636EFA\",\"size\":3},\"mode\":\"markers\",\"name\":\"50\",\"x\":[11.720583,11.260184,13.039282,10.839084,10.077257,8.980526,13.433098,12.513458,13.67052,13.660132,12.284375,11.08779,11.959907,10.058421,10.024547,10.038185,13.204157,11.152294,14.096726,10.096039,11.040135,10.992614,11.825746,11.85857,14.361191,14.174699,10.973027,14.225238,12.928817,10.02685,13.625097,11.158743,11.200807,11.801322,11.152665,11.210448,12.368104,13.547822,12.046017,11.539685,9.305342,12.833281,7.9225216,14.275135,14.022391,14.412309,12.23926,9.405888,9.199748,9.977381],\"y\":[-3.5743237,-4.32475,-0.17278993,-1.5744339,-4.25388,-3.6573293,-1.7728127,-0.74549013,-0.5196177,-0.52827805,-3.7849987,-2.3208609,-2.6022947,-2.1814082,-4.027649,-1.2239083,-0.21241492,-1.7253512,-1.1427845,-3.8288605,-1.2565835,-3.9748666,-2.4681768,-3.132782,-0.028067894,-0.60579103,-3.5987215,-1.0051155,-0.57317,-4.1202784,-0.6912512,-3.4163568,-1.0048704,-2.363151,-3.9698951,-2.1960914,-3.6784017,-1.6540921,-2.7811859,-1.088307,-4.6448708,-2.0089276,1.0241708,-1.209243,-1.2560331,0.24652663,-4.0816116,-3.4920642,-4.8471766,-2.3708224],\"type\":\"scatter\"},{\"marker\":{\"color\":\"#EF553B\",\"size\":3},\"mode\":\"markers\",\"name\":\"51\",\"x\":[-3.4251885,-4.4495797,-3.9829688,-2.7295575,-2.7009106,-1.8463829,-4.0573325,-3.4076586,-5.0996175,-3.358439,-5.1540947,-4.0476055,-3.785789,-31.386612,-2.3340704,-3.4676576,-3.878577,-4.9147205,-2.6143596,-2.5510235,-5.0511365,-4.4815097,-2.747603,-4.5333176,-3.60919,-4.280755,-2.1970658,-3.4663208,-2.485329,-3.8276167,-4.3230767,-2.8597531,-3.455432,-2.9852698,-5.4528003,-3.7969158,-5.3128643,-3.1590083,-3.387847,-3.6216097,-3.4128597,-4.8771234,-2.0828881,-5.1907425,-3.0345998,-2.3493955,-2.2992034,-3.762672,-3.2161021,-31.222359],\"y\":[25.852913,22.318348,23.70771,25.343187,25.180609,22.003218,21.553171,22.435019,23.742352,25.597685,22.210938,21.453281,24.198915,-25.56896,24.177994,21.235388,24.917347,25.404661,25.194435,25.227041,24.973143,22.355848,25.276821,25.4848,25.413523,25.639631,22.320398,21.213615,22.203419,23.839916,22.244688,24.316164,21.422865,24.9752,24.033493,24.399487,22.132463,22.714369,21.434357,25.314156,21.179218,25.428608,24.12803,22.262344,24.348837,24.148567,22.45929,25.737051,22.518274,-25.551682],\"type\":\"scatter\"},{\"marker\":{\"color\":\"#00CC96\",\"size\":3},\"mode\":\"markers\",\"name\":\"52\",\"x\":[5.0889153,6.6267986,-0.088538334,3.848057,3.940712,6.9186707,2.6244948,-4.3885903,2.6717207,3.9150922,2.6056025,6.4904203,3.348863,5.187961,6.4793153,-0.027883464,5.0578876,4.620211,2.0431504,4.0195475,-0.23509571,2.1964192,3.1854887,3.9296856,4.0963736,3.339057,5.1552424,3.975108,3.372129,2.4186845,0.91421336,3.9066646,4.8070183,3.699016,6.3862653,4.172158,4.9558134,2.2996614,1.1881741,-1.7968765,3.9230218,3.2810707,-1.716772,2.853823,1.1389738,3.5731204,1.4586053,4.8880835,-10.021203,4.5470834],\"y\":[-27.586748,-16.72114,-27.303658,-28.490519,-30.567312,-14.089118,-27.912773,-35.085083,-27.814323,-29.849718,-27.663181,-16.726736,-30.876257,-31.40295,-32.609776,-27.349344,-27.605745,-27.992863,-28.866756,-29.458931,-27.256083,-28.567764,-30.37781,-30.501554,-32.185413,-31.391657,-30.89416,-29.191124,-28.890387,-28.391987,-29.270304,-29.685772,-29.221157,-31.786041,-14.416059,-29.839828,-31.24762,-28.535234,-32.10171,-34.333652,-29.987677,-30.85298,-34.32136,-27.134062,-32.105694,-31.392807,-31.881647,-27.444435,-30.081432,-29.385809],\"type\":\"scatter\"},{\"marker\":{\"color\":\"#AB63FA\",\"size\":3},\"mode\":\"markers\",\"name\":\"53\",\"x\":[-64.13643,-66.31554,-65.210205,-67.21385,-64.44614,-66.32777,-65.693825,-65.8294,-63.85746,-65.17966,-65.794975,-65.63844,-64.14506,-66.60871,-66.39023,-65.89791,-63.510357,-67.67439,-47.217735,-65.406136,-66.6719,-63.56138,-63.712177,-67.149445,-65.2205,-63.889656,-66.69995,-65.99264,-63.889896,-67.12421,-66.61938,-65.914925,-64.541016,-48.03638,-66.71345,-66.68268,-65.678825,-67.85213,-65.92137,-66.95208,-64.627556,-66.75188,-64.851685,-64.47684,-67.48188,-67.40071,-67.07627,-64.00775,-68.088905,-67.79194],\"y\":[-3.8896637,-3.970507,-3.076503,-4.7565002,-4.171115,-4.681339,-2.100953,-5.6298065,-5.1090994,-5.3687983,-4.0046043,-2.2397351,-4.302625,-4.425532,-4.4060316,-3.962393,-3.3565695,-3.2556217,-18.106792,-5.1322074,-3.504654,-2.7699559,-4.3944845,-3.9283307,-3.5751958,-4.018356,-3.8744478,-3.208504,-3.875278,-2.773762,-6.2312336,-4.5998936,-3.8876352,-17.962128,-3.7931457,-6.363022,-2.7912664,-2.7417846,-4.2347937,-1.897765,-4.4314637,-2.4514763,-4.577307,-3.5238523,-3.4501653,-2.6245012,-4.5388756,-5.0028067,-2.8033893,-2.971366],\"type\":\"scatter\"},{\"marker\":{\"color\":\"#FFA15A\",\"size\":3},\"mode\":\"markers\",\"name\":\"54\",\"x\":[-8.147251,-13.15314,-10.538934,-10.985519,-10.050138,-8.2449465,-9.077793,-11.93139,-8.623868,-10.51087,-7.500228,-8.178662,-6.423228,-8.35241,-10.160126,-9.786708,-10.2693615,-8.551838,-7.905656,-9.934394,-6.802028,-9.665968,-7.3413653,-9.774326,-10.801779,-9.124486,-9.737201,-8.884543,-7.144774,-8.274004,-12.007795,-9.936793,-9.703503,-7.352759,-10.626441,-8.364311,-9.827109,-8.049752,-11.829933,-11.43185,-10.985993,-9.917762,-8.325186,-9.341548,-7.9454336,-13.287949,-9.123067,-11.637391,-8.836105,-7.55984],\"y\":[12.161481,12.57889,10.991252,11.36867,13.266749,10.533359,11.857313,12.857389,9.943771,11.933466,10.434512,11.109571,12.573848,9.443595,11.980695,10.261346,10.632793,11.055389,11.0304575,10.442728,11.595937,10.461086,10.280998,9.75238,10.500329,9.558947,8.919345,11.39807,11.562092,9.523196,13.590501,13.369163,8.612959,11.474294,10.972465,9.415899,8.825283,11.38898,12.975807,12.510471,11.3480015,9.650751,10.670924,12.382723,10.589588,12.589246,9.635019,8.602189,10.81051,11.753113],\"type\":\"scatter\"},{\"marker\":{\"color\":\"#19D3F3\",\"size\":3},\"mode\":\"markers\",\"name\":\"55\",\"x\":[10.034364,7.2832212,8.654533,6.670554,10.198962,7.931935,6.507957,7.3362784,8.105091,6.83098,7.79189,9.081694,9.808266,5.8764677,6.479932,8.640158,9.182548,6.590962,8.298734,8.604401,7.7115793,7.2536244,6.7553444,7.7835913,6.728206,8.739246,10.549108,7.5063405,12.085036,9.644235,11.285259,5.75182,7.3716516,7.589624,6.107015,7.814642,8.321374,8.330317,7.2417645,6.779046,12.321779,7.2584925,8.73057,8.491884,5.6873455,7.260083,8.813362,6.2468486,7.451648,7.9429603],\"y\":[1.8565383,-1.0487218,5.968026,5.9999795,1.377587,4.4842463,3.7405639,4.7167916,5.486197,4.241379,2.3777928,3.4214523,1.71593,6.0764627,3.6768208,2.8572702,1.3382494,3.8820567,5.252362,2.4577315,5.2665396,-0.4115128,4.2087502,1.7242652,6.912002,2.8651805,1.1311076,3.7819958,0.47683743,3.0960085,0.8439529,6.06143,5.7552896,3.7218363,6.2691245,6.5338736,5.813031,5.1146216,5.4287643,7.173576,0.24226989,-1.0678663,4.3903847,6.189168,6.0951962,-1.010654,4.169456,6.327485,5.7009044,1.6504624],\"type\":\"scatter\"},{\"marker\":{\"color\":\"#FF6692\",\"size\":3},\"mode\":\"markers\",\"name\":\"56\",\"x\":[-4.8914165,-5.2257814,-4.356136,10.974738,9.877742,-5.291996,-5.9122725,-3.1945033,-3.9064574,-2.8705697,-4.822534,-5.08438,-3.758566,-4.853093,-1.2857826,-10.478899,-4.366046,-9.514258,-4.2594976,-2.4807425,-4.050949,-6.456177,-4.1049905,-4.104561,-2.8881586,0.16125537,10.934232,-5.6239705,-9.492785,-3.4671774,-5.7158084,-9.444983,-5.7162437,-7.541607,0.41642433,-1.1393934,-6.135595,-9.36591,-4.184569,-11.428026,-5.5216975,10.572638,-3.8633091,-3.2170663,-9.518684,-5.0266576,-8.093816,-11.068645,-6.2358007,-5.6951804],\"y\":[-27.652388,-27.561361,-27.777922,-20.30756,-21.290783,-26.045095,-23.422237,-26.143423,-26.704264,-26.7732,-27.550737,-27.521233,-25.135458,-25.100727,-24.078257,-24.376778,-22.074034,-26.66885,-22.953913,-23.996548,-25.095854,-24.422646,-26.31749,-24.955086,-23.853073,-29.141962,-20.20477,-25.461258,-26.632643,-24.356464,-25.70201,-26.620588,-25.36171,-23.927805,-29.384127,-24.075754,-24.888224,-26.673897,-22.815447,-24.598028,-25.403267,-19.394442,-25.453245,-26.374645,-26.698946,-25.162802,-23.485472,-24.37336,-25.00229,-23.748926],\"type\":\"scatter\"},{\"marker\":{\"color\":\"#B6E880\",\"size\":3},\"mode\":\"markers\",\"name\":\"57\",\"x\":[-10.508456,-13.402685,-13.404887,-15.942681,-14.246789,-14.621502,-11.458288,-11.115397,-10.690659,-14.915177,-14.026648,-14.368851,-12.689156,-13.090316,-14.3050785,-10.664308,-9.814843,-13.230253,-12.817651,-13.205257,-11.339481,-14.969223,-14.500853,-15.058899,-11.009343,-10.718583,-11.439759,-11.330372,-11.410738,-11.322405,-11.389636,-15.117375,-13.254202,-14.288967,-11.041285,-13.157544,-13.10395,-14.410674,-13.05333,-15.14739,-11.229825,-14.271094,-10.3140745,-13.2443075,-14.907622,-9.528351,-15.169055,-15.128853,-15.867467,-12.828526],\"y\":[-20.583567,-17.07022,-15.310328,-19.51311,-17.282297,-15.720836,-22.630512,-22.570375,-21.40421,-14.351766,-15.279458,-16.475613,-24.554169,-18.025614,-16.027016,-20.15618,-21.224197,-17.871256,-18.092386,-15.862095,-22.703539,-13.914314,-14.663905,-15.27842,-20.223797,-20.565474,-20.71919,-20.91095,-21.684402,-20.819817,-22.675165,-15.312428,-15.756052,-16.447803,-19.967518,-18.026394,-16.04856,-16.66665,-18.051664,-13.512266,-20.996634,-17.465769,-20.641947,-15.923954,-15.582425,-21.365757,-13.432092,-13.566281,-19.579878,-18.082233],\"type\":\"scatter\"},{\"marker\":{\"color\":\"#FF97FF\",\"size\":3},\"mode\":\"markers\",\"name\":\"58\",\"x\":[-41.86102,-42.742603,-42.761913,-43.501278,-43.364925,-42.72807,-40.98448,-42.49335,-43.41507,-43.90067,-44.405056,-42.41817,-42.241844,-43.222076,-44.20171,-45.268154,-44.750492,-42.307255,-41.24345,-43.1478,-40.928913,-42.198902,-44.384754,-42.206066,-44.495026,-44.50395,-42.116325,-41.08304,-41.861168,-45.210842,-44.375465,-45.02749,-41.86519,-40.733654,-43.49708,-43.822124,-43.12327,-45.565605,-43.716824,-44.397728,32.81653,-45.309406,-44.72121,-45.43599,-41.759262,-41.106815,-44.650803,-41.255554,-43.82268,-42.040596],\"y\":[5.4763494,2.982298,3.8834655,3.9634228,5.02049,3.8344882,6.3523912,2.4727645,4.325578,5.6113095,3.601436,6.9427013,6.2116847,4.8738623,6.2310276,5.8221617,6.1173253,6.685799,5.135334,4.836595,4.860956,4.9472346,6.0584702,6.5676055,3.009404,3.6473916,6.5232315,4.9492865,6.54887,4.8665214,6.418996,3.4226072,5.3852553,6.5014105,4.0523815,3.5354688,4.7706275,5.5118413,5.2284594,3.3592257,1.4083743,4.8667827,6.192158,5.7130895,4.3163476,4.9537735,4.1531196,4.9012585,6.20938,5.8393903],\"type\":\"scatter\"},{\"marker\":{\"color\":\"#FECB52\",\"size\":3},\"mode\":\"markers\",\"name\":\"59\",\"x\":[4.8371315,-34.172157,-34.713604,4.886967,-36.66454,-34.795193,-37.220264,-36.597973,-33.285847,-36.851524,-32.964455,6.074556,-36.3256,5.124743,-36.93743,-35.03756,-34.954876,-37.252056,-36.580204,-34.865417,-36.239742,-35.43084,-34.412834,-36.957108,-35.3657,-33.061825,-34.282246,-33.951336,-33.21517,-34.416374,-36.246674,-37.372036,-35.83008,-32.989464,-34.441887,-32.24299,4.880863,-35.864864,-35.805744,-35.760746,-35.896786,9.405957,-34.354942,-34.549225,-34.555206,-35.847374,-35.852837,-35.71964,-36.43428,-35.773674],\"y\":[-15.811535,11.939397,11.575251,-15.981339,14.961889,11.867796,13.639036,13.789058,14.965065,14.976352,15.082286,-13.900923,13.923234,-15.9509945,13.621659,14.51573,11.852021,15.267001,13.8127365,11.467931,13.83891,13.502402,12.825965,13.57735,12.8377285,15.040091,12.27069,12.753279,14.917437,12.791202,13.724184,13.54746,16.45434,15.0767765,13.37159,15.342635,-16.003141,16.584574,14.2108965,13.994992,16.490904,-22.94584,11.857,12.270465,11.737563,16.417372,16.602093,13.915807,15.302445,11.614605],\"type\":\"scatter\"},{\"marker\":{\"color\":\"#636EFA\",\"size\":3},\"mode\":\"markers\",\"name\":\"60\",\"x\":[-4.849773,-5.0482564,-2.094536,-5.867289,-4.1638536,-2.9770546,-4.556337,-6.5351706,-6.475511,-4.32979,-6.152666,-4.8757143,-4.2449284,-4.670286,-3.161291,-3.7504883,-5.844425,-5.31235,-6.8433056,-4.9095974,-1.1986908,-1.8878503,-5.138935,-5.483931,-4.9454694,-3.6532805,-4.5713778,-4.6842904,-3.8925545,-3.5668252,-6.5455937,-3.6795206,-5.959717,-4.1971655,-4.989949,-3.6729984,-4.3517003,-3.4320323,-2.340241,-5.467582,-2.2586253,-5.8893423,-6.556415,-4.2544127,-1.7559516,-0.8221341,-4.0972943,-4.8432374,-1.8304235,-5.391649],\"y\":[-38.653786,-38.298294,-37.94508,-35.72283,-38.33414,-36.830215,-32.999874,-21.128044,-34.715088,-31.304134,-36.037933,-38.645267,-37.15414,-39.272797,-36.042774,-36.839622,-34.91201,-29.812086,-36.628536,-38.261242,-37.818207,-36.990086,-38.397274,-35.322838,-34.14814,-36.99636,-31.29608,-34.215176,-36.73642,-32.82386,-21.147375,-36.7621,-35.025723,-36.753384,-29.393232,-32.454304,-32.46398,-31.958332,-34.739605,-35.54354,-37.94528,-34.95086,-21.104376,-30.680042,-37.066532,-38.147114,-37.295296,-34.04174,-36.937084,-36.505096],\"type\":\"scatter\"},{\"marker\":{\"color\":\"#EF553B\",\"size\":3},\"mode\":\"markers\",\"name\":\"61\",\"x\":[14.023512,13.819344,12.629911,15.218375,12.713168,7.674206,12.877084,12.971224,14.933873,13.930644,15.372657,13.125638,15.466331,13.8402815,7.517457,15.496768,9.479271,13.917961,15.452381,15.025332,14.765372,13.200525,12.9812,7.6132464,15.2503195,15.375352,13.921162,15.078272,11.816918,13.226387,15.350721,12.474794,12.940657,10.134606,7.499492,8.076331,15.644599,12.986138,15.613948,13.992388,12.982689,13.008443,15.628031,15.4168825,15.450816,12.07369,9.438865,13.037836,9.531501,12.887151],\"y\":[-23.784908,-18.71728,-20.10383,-22.50038,-21.709845,-17.690048,-22.8424,-25.293373,-21.934896,-20.910084,-22.320066,-22.472721,-21.510996,-18.734526,-17.284063,-22.835035,-22.190674,-18.568115,-23.830112,-21.872646,-23.099012,-20.151125,-19.478052,-17.553307,-23.877024,-23.869448,-18.441833,-17.991024,-21.355583,-20.193533,-22.402752,-21.85053,-23.040651,-24.253325,-16.073933,-15.174041,-22.895227,-19.49128,-21.215992,-23.79512,-19.812096,-19.502287,-23.060638,-22.388338,-21.704634,-21.517284,-22.231049,-22.906275,-22.169817,-25.398212],\"type\":\"scatter\"},{\"marker\":{\"color\":\"#00CC96\",\"size\":3},\"mode\":\"markers\",\"name\":\"62\",\"x\":[-18.236279,-18.024687,-17.86562,-20.537249,-20.77586,-19.053692,-20.467823,-19.008219,6.5065765,-21.275124,-18.369034,-21.0154,-18.240723,-19.711613,-18.452076,-18.635567,-19.833769,-19.054314,-19.54485,-21.238459,-19.393993,-21.485388,-18.432245,-19.524244,-21.212822,-21.015123,-20.85914,-19.55488,-19.887281,-21.025156,-21.288158,-20.555544,-15.955769,-20.604567,-21.178705,-15.6638975,-18.832462,-19.637215,-17.884863,-19.768478,-18.222198,-19.605555,-20.198753,-18.616146,-15.698993,-18.485544,-16.88437,-19.309212,-21.259619,-18.363518],\"y\":[-23.705276,-24.200188,-22.484798,-21.335163,-23.110367,-21.350863,-21.287922,-23.337103,-15.701184,-25.841242,-21.087082,-22.988035,-23.897009,-20.713823,-21.247528,-23.536083,-21.412792,-20.486057,-21.84201,-23.073853,-21.2347,-23.33073,-23.582434,-20.310234,-22.859856,-23.151314,-23.811073,-22.674412,-19.606808,-22.83559,-25.910532,-21.322842,-26.879364,-22.560642,-24.751673,-27.593159,-23.408823,-21.546383,-21.291626,-21.581455,-23.636194,-20.60707,-22.21385,-21.216959,-27.50173,-20.939245,-21.135448,-20.749678,-25.895342,-21.172037],\"type\":\"scatter\"},{\"marker\":{\"color\":\"#AB63FA\",\"size\":3},\"mode\":\"markers\",\"name\":\"63\",\"x\":[-51.38701,-47.448273,-51.275925,-48.972485,-47.898533,-48.936592,-48.10201,-50.850025,-50.586895,-50.658,-50.683075,-50.562225,-49.80625,-50.309334,-49.655663,-50.78933,-48.462498,-49.646168,-50.696632,-48.518974,-47.655453,-49.546387,-48.89422,-51.80539,-48.14207,-51.256786,-51.406322,-49.631878,-50.128822,-51.29689,-49.93026,-51.31061,-49.06804,-50.48058,-49.849594,-49.05928,-50.67496,-50.493195,-48.057735,-50.066936,-48.346176,-50.360615,-49.804134,-49.789997,-48.465786,-51.217735,-49.43606,-47.931057,-47.856453,-50.10387],\"y\":[-40.201847,-38.871017,-40.854458,-40.80414,-39.476646,-38.9093,-37.966927,-40.538467,-40.352364,-39.385494,-40.75506,-40.581657,-39.281487,-37.642323,-39.133717,-40.877678,-39.396927,-37.82648,-37.45033,-40.74157,-41.08848,-36.418884,-40.682976,-40.01706,-38.48885,-39.721375,-39.84797,-37.958683,-39.731884,-39.676228,-39.261887,-37.602367,-38.798183,-37.48742,-39.3707,-41.141834,-40.724968,-37.425724,-40.886578,-41.719604,-40.822006,-39.13214,-39.750774,-39.00744,-37.886826,-39.812557,-37.72266,-38.11547,-38.051033,-38.99933],\"type\":\"scatter\"}],                        {\"template\":{\"data\":{\"histogram2dcontour\":[{\"type\":\"histogram2dcontour\",\"colorbar\":{\"outlinewidth\":0,\"ticks\":\"\"},\"colorscale\":[[0.0,\"#0d0887\"],[0.1111111111111111,\"#46039f\"],[0.2222222222222222,\"#7201a8\"],[0.3333333333333333,\"#9c179e\"],[0.4444444444444444,\"#bd3786\"],[0.5555555555555556,\"#d8576b\"],[0.6666666666666666,\"#ed7953\"],[0.7777777777777778,\"#fb9f3a\"],[0.8888888888888888,\"#fdca26\"],[1.0,\"#f0f921\"]]}],\"choropleth\":[{\"type\":\"choropleth\",\"colorbar\":{\"outlinewidth\":0,\"ticks\":\"\"}}],\"histogram2d\":[{\"type\":\"histogram2d\",\"colorbar\":{\"outlinewidth\":0,\"ticks\":\"\"},\"colorscale\":[[0.0,\"#0d0887\"],[0.1111111111111111,\"#46039f\"],[0.2222222222222222,\"#7201a8\"],[0.3333333333333333,\"#9c179e\"],[0.4444444444444444,\"#bd3786\"],[0.5555555555555556,\"#d8576b\"],[0.6666666666666666,\"#ed7953\"],[0.7777777777777778,\"#fb9f3a\"],[0.8888888888888888,\"#fdca26\"],[1.0,\"#f0f921\"]]}],\"heatmap\":[{\"type\":\"heatmap\",\"colorbar\":{\"outlinewidth\":0,\"ticks\":\"\"},\"colorscale\":[[0.0,\"#0d0887\"],[0.1111111111111111,\"#46039f\"],[0.2222222222222222,\"#7201a8\"],[0.3333333333333333,\"#9c179e\"],[0.4444444444444444,\"#bd3786\"],[0.5555555555555556,\"#d8576b\"],[0.6666666666666666,\"#ed7953\"],[0.7777777777777778,\"#fb9f3a\"],[0.8888888888888888,\"#fdca26\"],[1.0,\"#f0f921\"]]}],\"heatmapgl\":[{\"type\":\"heatmapgl\",\"colorbar\":{\"outlinewidth\":0,\"ticks\":\"\"},\"colorscale\":[[0.0,\"#0d0887\"],[0.1111111111111111,\"#46039f\"],[0.2222222222222222,\"#7201a8\"],[0.3333333333333333,\"#9c179e\"],[0.4444444444444444,\"#bd3786\"],[0.5555555555555556,\"#d8576b\"],[0.6666666666666666,\"#ed7953\"],[0.7777777777777778,\"#fb9f3a\"],[0.8888888888888888,\"#fdca26\"],[1.0,\"#f0f921\"]]}],\"contourcarpet\":[{\"type\":\"contourcarpet\",\"colorbar\":{\"outlinewidth\":0,\"ticks\":\"\"}}],\"contour\":[{\"type\":\"contour\",\"colorbar\":{\"outlinewidth\":0,\"ticks\":\"\"},\"colorscale\":[[0.0,\"#0d0887\"],[0.1111111111111111,\"#46039f\"],[0.2222222222222222,\"#7201a8\"],[0.3333333333333333,\"#9c179e\"],[0.4444444444444444,\"#bd3786\"],[0.5555555555555556,\"#d8576b\"],[0.6666666666666666,\"#ed7953\"],[0.7777777777777778,\"#fb9f3a\"],[0.8888888888888888,\"#fdca26\"],[1.0,\"#f0f921\"]]}],\"surface\":[{\"type\":\"surface\",\"colorbar\":{\"outlinewidth\":0,\"ticks\":\"\"},\"colorscale\":[[0.0,\"#0d0887\"],[0.1111111111111111,\"#46039f\"],[0.2222222222222222,\"#7201a8\"],[0.3333333333333333,\"#9c179e\"],[0.4444444444444444,\"#bd3786\"],[0.5555555555555556,\"#d8576b\"],[0.6666666666666666,\"#ed7953\"],[0.7777777777777778,\"#fb9f3a\"],[0.8888888888888888,\"#fdca26\"],[1.0,\"#f0f921\"]]}],\"mesh3d\":[{\"type\":\"mesh3d\",\"colorbar\":{\"outlinewidth\":0,\"ticks\":\"\"}}],\"scatter\":[{\"fillpattern\":{\"fillmode\":\"overlay\",\"size\":10,\"solidity\":0.2},\"type\":\"scatter\"}],\"parcoords\":[{\"type\":\"parcoords\",\"line\":{\"colorbar\":{\"outlinewidth\":0,\"ticks\":\"\"}}}],\"scatterpolargl\":[{\"type\":\"scatterpolargl\",\"marker\":{\"colorbar\":{\"outlinewidth\":0,\"ticks\":\"\"}}}],\"bar\":[{\"error_x\":{\"color\":\"#2a3f5f\"},\"error_y\":{\"color\":\"#2a3f5f\"},\"marker\":{\"line\":{\"color\":\"#E5ECF6\",\"width\":0.5},\"pattern\":{\"fillmode\":\"overlay\",\"size\":10,\"solidity\":0.2}},\"type\":\"bar\"}],\"scattergeo\":[{\"type\":\"scattergeo\",\"marker\":{\"colorbar\":{\"outlinewidth\":0,\"ticks\":\"\"}}}],\"scatterpolar\":[{\"type\":\"scatterpolar\",\"marker\":{\"colorbar\":{\"outlinewidth\":0,\"ticks\":\"\"}}}],\"histogram\":[{\"marker\":{\"pattern\":{\"fillmode\":\"overlay\",\"size\":10,\"solidity\":0.2}},\"type\":\"histogram\"}],\"scattergl\":[{\"type\":\"scattergl\",\"marker\":{\"colorbar\":{\"outlinewidth\":0,\"ticks\":\"\"}}}],\"scatter3d\":[{\"type\":\"scatter3d\",\"line\":{\"colorbar\":{\"outlinewidth\":0,\"ticks\":\"\"}},\"marker\":{\"colorbar\":{\"outlinewidth\":0,\"ticks\":\"\"}}}],\"scattermapbox\":[{\"type\":\"scattermapbox\",\"marker\":{\"colorbar\":{\"outlinewidth\":0,\"ticks\":\"\"}}}],\"scatterternary\":[{\"type\":\"scatterternary\",\"marker\":{\"colorbar\":{\"outlinewidth\":0,\"ticks\":\"\"}}}],\"scattercarpet\":[{\"type\":\"scattercarpet\",\"marker\":{\"colorbar\":{\"outlinewidth\":0,\"ticks\":\"\"}}}],\"carpet\":[{\"aaxis\":{\"endlinecolor\":\"#2a3f5f\",\"gridcolor\":\"white\",\"linecolor\":\"white\",\"minorgridcolor\":\"white\",\"startlinecolor\":\"#2a3f5f\"},\"baxis\":{\"endlinecolor\":\"#2a3f5f\",\"gridcolor\":\"white\",\"linecolor\":\"white\",\"minorgridcolor\":\"white\",\"startlinecolor\":\"#2a3f5f\"},\"type\":\"carpet\"}],\"table\":[{\"cells\":{\"fill\":{\"color\":\"#EBF0F8\"},\"line\":{\"color\":\"white\"}},\"header\":{\"fill\":{\"color\":\"#C8D4E3\"},\"line\":{\"color\":\"white\"}},\"type\":\"table\"}],\"barpolar\":[{\"marker\":{\"line\":{\"color\":\"#E5ECF6\",\"width\":0.5},\"pattern\":{\"fillmode\":\"overlay\",\"size\":10,\"solidity\":0.2}},\"type\":\"barpolar\"}],\"pie\":[{\"automargin\":true,\"type\":\"pie\"}]},\"layout\":{\"autotypenumbers\":\"strict\",\"colorway\":[\"#636efa\",\"#EF553B\",\"#00cc96\",\"#ab63fa\",\"#FFA15A\",\"#19d3f3\",\"#FF6692\",\"#B6E880\",\"#FF97FF\",\"#FECB52\"],\"font\":{\"color\":\"#2a3f5f\"},\"hovermode\":\"closest\",\"hoverlabel\":{\"align\":\"left\"},\"paper_bgcolor\":\"white\",\"plot_bgcolor\":\"#E5ECF6\",\"polar\":{\"bgcolor\":\"#E5ECF6\",\"angularaxis\":{\"gridcolor\":\"white\",\"linecolor\":\"white\",\"ticks\":\"\"},\"radialaxis\":{\"gridcolor\":\"white\",\"linecolor\":\"white\",\"ticks\":\"\"}},\"ternary\":{\"bgcolor\":\"#E5ECF6\",\"aaxis\":{\"gridcolor\":\"white\",\"linecolor\":\"white\",\"ticks\":\"\"},\"baxis\":{\"gridcolor\":\"white\",\"linecolor\":\"white\",\"ticks\":\"\"},\"caxis\":{\"gridcolor\":\"white\",\"linecolor\":\"white\",\"ticks\":\"\"}},\"coloraxis\":{\"colorbar\":{\"outlinewidth\":0,\"ticks\":\"\"}},\"colorscale\":{\"sequential\":[[0.0,\"#0d0887\"],[0.1111111111111111,\"#46039f\"],[0.2222222222222222,\"#7201a8\"],[0.3333333333333333,\"#9c179e\"],[0.4444444444444444,\"#bd3786\"],[0.5555555555555556,\"#d8576b\"],[0.6666666666666666,\"#ed7953\"],[0.7777777777777778,\"#fb9f3a\"],[0.8888888888888888,\"#fdca26\"],[1.0,\"#f0f921\"]],\"sequentialminus\":[[0.0,\"#0d0887\"],[0.1111111111111111,\"#46039f\"],[0.2222222222222222,\"#7201a8\"],[0.3333333333333333,\"#9c179e\"],[0.4444444444444444,\"#bd3786\"],[0.5555555555555556,\"#d8576b\"],[0.6666666666666666,\"#ed7953\"],[0.7777777777777778,\"#fb9f3a\"],[0.8888888888888888,\"#fdca26\"],[1.0,\"#f0f921\"]],\"diverging\":[[0,\"#8e0152\"],[0.1,\"#c51b7d\"],[0.2,\"#de77ae\"],[0.3,\"#f1b6da\"],[0.4,\"#fde0ef\"],[0.5,\"#f7f7f7\"],[0.6,\"#e6f5d0\"],[0.7,\"#b8e186\"],[0.8,\"#7fbc41\"],[0.9,\"#4d9221\"],[1,\"#276419\"]]},\"xaxis\":{\"gridcolor\":\"white\",\"linecolor\":\"white\",\"ticks\":\"\",\"title\":{\"standoff\":15},\"zerolinecolor\":\"white\",\"automargin\":true,\"zerolinewidth\":2},\"yaxis\":{\"gridcolor\":\"white\",\"linecolor\":\"white\",\"ticks\":\"\",\"title\":{\"standoff\":15},\"zerolinecolor\":\"white\",\"automargin\":true,\"zerolinewidth\":2},\"scene\":{\"xaxis\":{\"backgroundcolor\":\"#E5ECF6\",\"gridcolor\":\"white\",\"linecolor\":\"white\",\"showbackground\":true,\"ticks\":\"\",\"zerolinecolor\":\"white\",\"gridwidth\":2},\"yaxis\":{\"backgroundcolor\":\"#E5ECF6\",\"gridcolor\":\"white\",\"linecolor\":\"white\",\"showbackground\":true,\"ticks\":\"\",\"zerolinecolor\":\"white\",\"gridwidth\":2},\"zaxis\":{\"backgroundcolor\":\"#E5ECF6\",\"gridcolor\":\"white\",\"linecolor\":\"white\",\"showbackground\":true,\"ticks\":\"\",\"zerolinecolor\":\"white\",\"gridwidth\":2}},\"shapedefaults\":{\"line\":{\"color\":\"#2a3f5f\"}},\"annotationdefaults\":{\"arrowcolor\":\"#2a3f5f\",\"arrowhead\":0,\"arrowwidth\":1},\"geo\":{\"bgcolor\":\"white\",\"landcolor\":\"#E5ECF6\",\"subunitcolor\":\"white\",\"showland\":true,\"showlakes\":true,\"lakecolor\":\"white\"},\"title\":{\"x\":0.05},\"mapbox\":{\"style\":\"light\"}}},\"title\":{\"text\":\"Embeddings Visualizations (2D)\"},\"height\":600,\"width\":800},                        {\"responsive\": true}                    ).then(function(){\n",
       "                            \n",
       "var gd = document.getElementById('e0c28cb7-5193-423a-bbfc-09e83949db4d');\n",
       "var x = new MutationObserver(function (mutations, observer) {{\n",
       "        var display = window.getComputedStyle(gd).display;\n",
       "        if (!display || display === 'none') {{\n",
       "            console.log([gd, 'removed!']);\n",
       "            Plotly.purge(gd);\n",
       "            observer.disconnect();\n",
       "        }}\n",
       "}});\n",
       "\n",
       "// Listen for the removal of the full notebook cells\n",
       "var notebookContainer = gd.closest('#notebook-container');\n",
       "if (notebookContainer) {{\n",
       "    x.observe(notebookContainer, {childList: true});\n",
       "}}\n",
       "\n",
       "// Listen for the clearing of the current output cell\n",
       "var outputEl = gd.closest('.output');\n",
       "if (outputEl) {{\n",
       "    x.observe(outputEl, {childList: true});\n",
       "}}\n",
       "\n",
       "                        })                };                });            </script>        </div>"
      ]
     },
     "metadata": {},
     "output_type": "display_data"
    }
   ],
   "source": [
    "import plotly.express as px\n",
    "import plotly.colors as colors\n",
    "from itertools import cycle\n",
    "\n",
    "tsne = TSNE(n_components=2, random_state=42)  \n",
    "test_embeddings_2d = tsne.fit_transform(test_embeddings) \n",
    "\n",
    "le = LabelEncoder()\n",
    "test_labels_int = le.fit_transform(test_labels_list)\n",
    "\n",
    "n_classes = 64 ##==========================================CLASSES\n",
    "color_scale = cycle(colors.qualitative.Plotly)\n",
    "\n",
    "fig = go.Figure()\n",
    "for i in range(n_classes):\n",
    "    class_mask = test_labels_int == i\n",
    "    fig.add_trace(\n",
    "        go.Scatter(\n",
    "            x=test_embeddings_2d[class_mask, 0],  \n",
    "            y=test_embeddings_2d[class_mask, 1],  \n",
    "            mode=\"markers\",\n",
    "            name=str(le.inverse_transform([i])[0]),\n",
    "            marker=dict(size=3, color=next(color_scale)),\n",
    "        ),\n",
    "    )\n",
    "\n",
    "fig.update_layout(height=600, width=800, title_text=\"Embeddings Visualizations (2D)\")\n",
    "fig.show()"
   ]
  }
 ],
 "metadata": {
  "kaggle": {
   "accelerator": "none",
   "dataSources": [
    {
     "datasetId": 4116518,
     "sourceId": 7249198,
     "sourceType": "datasetVersion"
    }
   ],
   "dockerImageVersionId": 30587,
   "isGpuEnabled": false,
   "isInternetEnabled": true,
   "language": "python",
   "sourceType": "notebook"
  },
  "kernelspec": {
   "display_name": "Python 3",
   "language": "python",
   "name": "python3"
  },
  "language_info": {
   "codemirror_mode": {
    "name": "ipython",
    "version": 3
   },
   "file_extension": ".py",
   "mimetype": "text/x-python",
   "name": "python",
   "nbconvert_exporter": "python",
   "pygments_lexer": "ipython3",
   "version": "3.10.12"
  },
  "papermill": {
   "default_parameters": {},
   "duration": 1962.154243,
   "end_time": "2023-12-20T19:51:54.077434",
   "environment_variables": {},
   "exception": null,
   "input_path": "__notebook__.ipynb",
   "output_path": "__notebook__.ipynb",
   "parameters": {},
   "start_time": "2023-12-20T19:19:11.923191",
   "version": "2.4.0"
  }
 },
 "nbformat": 4,
 "nbformat_minor": 5
}
