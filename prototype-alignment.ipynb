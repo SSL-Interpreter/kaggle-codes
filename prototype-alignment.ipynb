{
 "cells": [
  {
   "cell_type": "code",
   "execution_count": null,
   "metadata": {},
   "outputs": [],
   "source": [
    "# This Python 3 environment comes with many helpful analytics libraries installed\n",
    "# It is defined by the kaggle/python Docker image: https://github.com/kaggle/docker-python\n",
    "# For example, here's several helpful packages to load\n",
    "\n",
    "import numpy as np # linear algebra\n",
    "import pandas as pd # data processing, CSV file I/O (e.g. pd.read_csv)\n",
    "import sys\n",
    "from os.path import normpath,join,dirname\n",
    "sys.path.append(normpath(join(dirname(__file__), '..')))\n",
    "from torch import nn\n",
    "import torch\n",
    "from IncrementalFewShotModel.layers import framework as framework\n",
    "# Input data files are available in the read-only \"../input/\" directory\n",
    "# For example, running this (by clicking run or pressing Shift+Enter) will list all files under the input directory"
   ]
  },
  {
   "cell_type": "code",
   "execution_count": null,
   "metadata": {},
   "outputs": [],
   "source": [
    "class ProtoNet(nn.Module):\n",
    "    def __init__(self):\n",
    "        super(ProtoNet, self).__init__()\n",
    "\n",
    "    # def prototype_generator(self, support, N, K, hidden_size):\n",
    "    #     support = support.view(-1, K, hidden_size)\n",
    "    #     prototypes = torch.mean(support, 1).view(-1, N, hidden_size)\n",
    "    #     return prototypes\n",
    "\n",
    "    def mergePrototypes(self, both_query, prototypes, totalQ, hidden_size):\n",
    "        both_query = both_query.view(-1, totalQ, hidden_size).unsqueeze(2)\n",
    "        prototypes = prototypes.unsqueeze(1)\n",
    "        dists = torch.pow(both_query - prototypes, 2).sum(-1)\n",
    "        weights = torch.softmax(-dists, -1)\n",
    "        prototypes = prototypes.expand(-1, totalQ, -1, -1)\n",
    "        weights = weights.unsqueeze(3)\n",
    "        merge_prototypes = torch.sum(prototypes * weights, 2)\n",
    "        return merge_prototypes\n",
    "\n",
    "    def merge_protoNet(self, query1, query2, prototypes1, prototypes2, totalQ, hidden_size):\n",
    "        merged_representation = []\n",
    "        for i in range(query1.size(0)):  # iterate over each frame\n",
    "            frame_query1 = query1[i].unsqueeze(0)\n",
    "            frame_query2 = query2[i].unsqueeze(0)\n",
    "            meta_merge_prototypes = self.mergePrototypes(frame_query1, prototypes1, totalQ, hidden_size)\n",
    "            base_merge_prototypes = self.mergePrototypes(frame_query2, prototypes2, totalQ, hidden_size)\n",
    "            meta_weight = torch.pow(frame_query1 - meta_merge_prototypes.view(-1, hidden_size), 2).sum(-1).unsqueeze(1)\n",
    "            base_weight = torch.pow(frame_query2 - base_merge_prototypes.view(-1, hidden_size), 2).sum(-1).unsqueeze(1)\n",
    "            merge_weight = torch.softmax(torch.cat((-base_weight, -meta_weight), 1), -1).unsqueeze(2)\n",
    "            merge_query = torch.cat((frame_query2.unsqueeze(1), frame_query1.unsqueeze(1)), 1)\n",
    "            frame_merged_representation = torch.sum(merge_query * merge_weight, 1)\n",
    "            merged_representation.append(frame_merged_representation)\n",
    "        return torch.stack(merged_representation)  # stack the list into a tensor\n"
   ]
  },
  {
   "cell_type": "code",
   "execution_count": null,
   "metadata": {},
   "outputs": [],
   "source": [
    "# Assume transformer1 and transformer2 are your transformer instances\n",
    "output_transformer1 = transformer1(input_data)\n",
    "output_transformer2 = transformer2(input_data)\n",
    "\n",
    "# Assume you have functions to generate prototypes\n",
    "prototypes1 = generate_prototypes(support_set1)\n",
    "prototypes2 = generate_prototypes(support_set2)\n",
    "\n",
    "# Assume merge_protoNet_instance is an instance of the ProtoNet class\n",
    "merged_representation = merge_protoNet_instance.merge_protoNet(output_transformer1, output_transformer2, prototypes1, prototypes2, totalQ, hidden_size)\n"
   ]
  }
 ],
 "metadata": {
  "kernelspec": {
   "display_name": "Python 3",
   "language": "python",
   "name": "python3"
  },
  "language_info": {
   "name": "python",
   "version": "3.11.5"
  }
 },
 "nbformat": 4,
 "nbformat_minor": 2
}
