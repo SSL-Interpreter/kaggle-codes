{
 "cells": [
  {
   "cell_type": "code",
   "execution_count": 1,
   "id": "afe66b2b",
   "metadata": {
    "_cell_guid": "b1076dfc-b9ad-4769-8c92-a6c4dae69d19",
    "_uuid": "8f2839f25d086af736a60e9eeb907d3b93b6e0e5",
    "execution": {
     "iopub.execute_input": "2024-01-03T09:22:38.202038Z",
     "iopub.status.busy": "2024-01-03T09:22:38.201234Z",
     "iopub.status.idle": "2024-01-03T09:22:38.628076Z",
     "shell.execute_reply": "2024-01-03T09:22:38.626936Z"
    },
    "papermill": {
     "duration": 0.437938,
     "end_time": "2024-01-03T09:22:38.631938",
     "exception": false,
     "start_time": "2024-01-03T09:22:38.194000",
     "status": "completed"
    },
    "tags": []
   },
   "outputs": [
    {
     "name": "stdout",
     "output_type": "stream",
     "text": [
      "/kaggle/input/wlasl-mediapipe-csv/wlasl-tr-matrix_file_9_new.csv\n",
      "/kaggle/input/wlasl-mediapipe-csv/wlasl-tr-output_SingleCell_file_9.csv\n",
      "/kaggle/input/wlasl-mediapipe-csv/wlasl-tr-matrix_file_11_new.csv\n",
      "/kaggle/input/wlasl-mediapipe-csv/wlasl-tr-output_SingleCell_file_11(1).csv\n",
      "/kaggle/input/wlasl-mediapipe-csv/wlasl-tr-output_SingleCell_file_8.csv\n",
      "/kaggle/input/wlasl-mediapipe-csv/wlasl-tr-output_SingleCell_file_3.csv\n",
      "/kaggle/input/wlasl-mediapipe-csv/wlasl-tr-matrix_file_10.csv\n",
      "/kaggle/input/wlasl-mediapipe-csv/wlasl-tr-matrix_file_3_new.csv\n",
      "/kaggle/input/wlasl-mediapipe-csv/wlasl-tr-matrix_file_6.csv\n",
      "/kaggle/input/wlasl-mediapipe-csv/wlasl-tr-output_SingleCell_file_1.csv\n",
      "/kaggle/input/wlasl-mediapipe-csv/wlasl-tr-output_SingleCell_file_10.csv\n",
      "/kaggle/input/wlasl-mediapipe-csv/wlasl-tr-output_SingleCell_file_7.csv\n",
      "/kaggle/input/wlasl-mediapipe-csv/wlasl-tr-matrix_file_4.csv\n",
      "/kaggle/input/wlasl-mediapipe-csv/wlasl-tr-matrix_file_12_new.csv\n",
      "/kaggle/input/wlasl-mediapipe-csv/wlasl-tr-matrix_file_3.csv\n",
      "/kaggle/input/wlasl-mediapipe-csv/wlasl-tr-matrix_file_5.csv\n",
      "/kaggle/input/wlasl-mediapipe-csv/wlasl-tr-matrix_file_10_new.csv\n",
      "/kaggle/input/wlasl-mediapipe-csv/wlasl-tr-output_SingleCell_file_6.csv\n",
      "/kaggle/input/wlasl-mediapipe-csv/wlasl-tr-output_SingleCell_file_4.csv\n",
      "/kaggle/input/wlasl-mediapipe-csv/wlasl-tr-matrix_file_11.csv\n",
      "/kaggle/input/wlasl-mediapipe-csv/wlasl-tr-matrix_file_8_new.csv\n",
      "/kaggle/input/wlasl-mediapipe-csv/wlasl-tr-output_SingleCell_file_2.csv\n",
      "/kaggle/input/wlasl-mediapipe-csv/wlasl-tr-matrix_file_6_new.csv\n",
      "/kaggle/input/wlasl-mediapipe-csv/wlasl-tr-matrix_file_2.csv\n",
      "/kaggle/input/wlasl-mediapipe-csv/wlasl-tr-matrix_file_4_new.csv\n",
      "/kaggle/input/wlasl-mediapipe-csv/wlasl-tr-matrix_file_1.csv\n",
      "/kaggle/input/wlasl-mediapipe-csv/wlasl-tr-matrix_file_12.csv\n",
      "/kaggle/input/wlasl-mediapipe-csv/wlasl-tr-matrix_file_7_new.csv\n",
      "/kaggle/input/wlasl-mediapipe-csv/wlasl-tr-matrix_file_1_new.csv\n",
      "/kaggle/input/wlasl-mediapipe-csv/wlasl-tr-matrix_file_2_new.csv\n",
      "/kaggle/input/wlasl-mediapipe-csv/wlasl-tr-output_SingleCell_file_12.csv\n",
      "/kaggle/input/wlasl-mediapipe-csv/wlasl-tr-matrix_file_9.csv\n",
      "/kaggle/input/wlasl-mediapipe-csv/wlasl-tr-matrix_file_8.csv\n",
      "/kaggle/input/wlasl-mediapipe-csv/wlasl-tr-output_SingleCell_file_5.csv\n",
      "/kaggle/input/wlasl-mediapipe-csv/wlasl-tr-matrix_file_7.csv\n",
      "/kaggle/input/wlasl-mediapipe-csv/wlasl-tr-matrix_file_5_new.csv\n"
     ]
    }
   ],
   "source": [
    "# This Python 3 environment comes with many helpful analytics libraries installed\n",
    "# It is defined by the kaggle/python Docker image: https://github.com/kaggle/docker-python\n",
    "# For example, here's several helpful packages to load\n",
    "\n",
    "import numpy as np # linear algebra\n",
    "import pandas as pd # data processing, CSV file I/O (e.g. pd.read_csv)\n",
    "\n",
    "# Input data files are available in the read-only \"../input/\" directory\n",
    "# For example, running this (by clicking run or pressing Shift+Enter) will list all files under the input directory\n",
    "\n",
    "import os\n",
    "for dirname, _, filenames in os.walk('/kaggle/input/wlasl-mediapipe-csv'):\n",
    "    for filename in filenames:\n",
    "        print(os.path.join(dirname, filename))\n",
    "\n",
    "# You can write up to 20GB to the current directory (/kaggle/working/) that gets preserved as output when you create a version using \"Save & Run All\" \n",
    "# You can also write temporary files to /kaggle/temp/, but they won't be saved outside of the current session"
   ]
  },
  {
   "cell_type": "code",
   "execution_count": 2,
   "id": "5640980c",
   "metadata": {
    "execution": {
     "iopub.execute_input": "2024-01-03T09:22:38.640659Z",
     "iopub.status.busy": "2024-01-03T09:22:38.640185Z",
     "iopub.status.idle": "2024-01-03T09:22:38.645731Z",
     "shell.execute_reply": "2024-01-03T09:22:38.644416Z"
    },
    "papermill": {
     "duration": 0.013282,
     "end_time": "2024-01-03T09:22:38.648802",
     "exception": false,
     "start_time": "2024-01-03T09:22:38.635520",
     "status": "completed"
    },
    "tags": []
   },
   "outputs": [],
   "source": [
    "# import csv\n",
    "\n",
    "# def read_csv(file_path):\n",
    "#     with open(file_path, 'r', newline='') as file:\n",
    "#         reader = csv.reader(file)\n",
    "#         return [row for row in reader]\n",
    "\n",
    "# def write_csv(file_path, data):\n",
    "#     with open(file_path, 'w', newline='') as file:\n",
    "#         writer = csv.writer(file)\n",
    "#         writer.writerows(data)\n",
    "\n",
    "# file1 = '/kaggle/input/testset/lsa-test-matrix_file.csv'\n",
    "# file2 = '/kaggle/input/testset/lsa-train-matrix_file.csv'\n",
    "\n",
    "\n",
    "\n",
    "# # Read CSV files\n",
    "# data1 = read_csv(file1)\n",
    "# data2 = read_csv(file2)\n",
    "\n",
    "\n",
    "# # Concatenate \n",
    "# result_data = data1 + data2\n",
    "\n",
    "# # Save the concatenated data to a new CSV file\n",
    "# result_file = '/kaggle/working/lsa-matrix_file.csv'\n",
    "# write_csv(result_file, result_data)\n",
    "\n",
    "\n"
   ]
  },
  {
   "cell_type": "code",
   "execution_count": 3,
   "id": "dea410ca",
   "metadata": {
    "execution": {
     "iopub.execute_input": "2024-01-03T09:22:38.657022Z",
     "iopub.status.busy": "2024-01-03T09:22:38.656540Z",
     "iopub.status.idle": "2024-01-03T09:22:38.900580Z",
     "shell.execute_reply": "2024-01-03T09:22:38.899332Z"
    },
    "papermill": {
     "duration": 0.251682,
     "end_time": "2024-01-03T09:22:38.903688",
     "exception": false,
     "start_time": "2024-01-03T09:22:38.652006",
     "status": "completed"
    },
    "tags": []
   },
   "outputs": [],
   "source": [
    "import json\n",
    "\n",
    "# Open the JSON file.\n",
    "with open('/kaggle/input/testset/WLASL_v0.3.json', 'r') as f:\n",
    "    # Load the JSON data from the file.\n",
    "    data = json.load(f)\n",
    "    \n",
    "\n",
    "    \n",
    "dic = {}\n",
    "for id in range(len(data)):\n",
    "    val = data[id]['instances']\n",
    "    \n",
    "    for instance in val:\n",
    "        video = int(instance['video_id'])\n",
    "        if id in dic:\n",
    "            dic[id].append(video)\n",
    "        else:\n",
    "            dic[id] = [video]\n",
    "\n",
    "# data[0]['instances'][0]       "
   ]
  },
  {
   "cell_type": "code",
   "execution_count": 4,
   "id": "9533a8ea",
   "metadata": {
    "execution": {
     "iopub.execute_input": "2024-01-03T09:22:38.912708Z",
     "iopub.status.busy": "2024-01-03T09:22:38.912280Z",
     "iopub.status.idle": "2024-01-03T09:22:38.920034Z",
     "shell.execute_reply": "2024-01-03T09:22:38.918877Z"
    },
    "papermill": {
     "duration": 0.015099,
     "end_time": "2024-01-03T09:22:38.922490",
     "exception": false,
     "start_time": "2024-01-03T09:22:38.907391",
     "status": "completed"
    },
    "tags": []
   },
   "outputs": [],
   "source": [
    "classes = {}\n",
    "def replace_label(lst):\n",
    "    temp = lst.copy()\n",
    "    result = []\n",
    "    for row in temp:\n",
    "        video_id = int(row[0]) + 1\n",
    "        for key, value in dic.items():\n",
    "            if video_id in value:\n",
    "                row[0] = key\n",
    "                result.append(row)\n",
    "                \n",
    "                #to check the number of classes/ samples \n",
    "                if key in classes:\n",
    "                    classes[key] += 1\n",
    "                else:\n",
    "                    classes[key] = 1\n",
    "    print('distinct classes and samples ===>>>> ', classes)\n",
    "    \n",
    "    count = 0\n",
    "    for i in classes:\n",
    "        count+=classes[i]\n",
    "    print('count =>', count)\n",
    "                    \n",
    "    return result"
   ]
  },
  {
   "cell_type": "code",
   "execution_count": 5,
   "id": "a138d5b8",
   "metadata": {
    "execution": {
     "iopub.execute_input": "2024-01-03T09:22:38.930895Z",
     "iopub.status.busy": "2024-01-03T09:22:38.930490Z",
     "iopub.status.idle": "2024-01-03T09:23:30.543244Z",
     "shell.execute_reply": "2024-01-03T09:23:30.541775Z"
    },
    "papermill": {
     "duration": 51.620523,
     "end_time": "2024-01-03T09:23:30.546471",
     "exception": false,
     "start_time": "2024-01-03T09:22:38.925948",
     "status": "completed"
    },
    "tags": []
   },
   "outputs": [
    {
     "name": "stdout",
     "output_type": "stream",
     "text": [
      "1000\n",
      "1000\n",
      "1000\n",
      "1000\n",
      "1000\n",
      "1000\n",
      "1000\n",
      "1000\n",
      "1000\n",
      "1000\n",
      "1000\n",
      "980\n",
      "distinct classes and samples ===>>>>  {927: 5, 529: 7, 232: 5, 879: 6, 1551: 6, 1617: 4, 839: 7, 407: 6, 1047: 5, 737: 7, 568: 5, 1697: 6, 432: 6, 226: 7, 981: 6, 425: 7, 253: 7, 1022: 7, 1711: 5, 265: 9, 1830: 4, 1614: 4, 428: 8, 1048: 6, 437: 7, 3: 16, 208: 6, 1519: 4, 1782: 5, 895: 7, 1009: 6, 1280: 3, 556: 7, 1285: 5, 588: 7, 760: 7, 73: 8, 658: 7, 346: 8, 849: 8, 329: 10, 94: 8, 567: 7, 1859: 5, 1341: 6, 1646: 4, 1726: 4, 1738: 5, 1615: 4, 93: 9, 1203: 3, 167: 8, 92: 8, 547: 6, 438: 7, 1053: 6, 1444: 6, 549: 6, 657: 8, 99: 11, 1191: 5, 421: 7, 1051: 6, 721: 6, 268: 7, 289: 8, 1307: 5, 141: 9, 851: 5, 551: 6, 1420: 5, 1236: 4, 1710: 5, 745: 7, 325: 7, 608: 7, 261: 7, 34: 13, 52: 11, 894: 5, 1757: 4, 1740: 4, 1178: 5, 1093: 5, 485: 7, 49: 10, 1181: 6, 744: 7, 85: 10, 1340: 5, 206: 9, 1936: 4, 217: 8, 284: 9, 37: 11, 1842: 7, 1781: 5, 1143: 6, 1560: 4, 866: 4, 1664: 4, 227: 9, 6: 5, 757: 6, 753: 7, 1704: 4, 447: 8, 213: 9, 943: 5, 1484: 5, 1513: 5, 871: 6, 233: 7, 680: 7, 392: 9, 299: 6, 168: 9, 448: 7, 1008: 6, 519: 5, 403: 6, 74: 9, 592: 8, 1262: 5, 1858: 4, 817: 7, 430: 7, 373: 8, 296: 8, 411: 7, 1276: 4, 615: 8, 1168: 4, 622: 8, 380: 9, 1852: 5, 303: 9, 565: 7, 641: 6, 247: 8, 312: 7, 315: 10, 1988: 6, 11: 9, 530: 8, 1197: 4, 1583: 5, 1790: 6, 1827: 6, 1378: 5, 1876: 5, 1891: 5, 925: 6, 1521: 5, 1920: 3, 1486: 5, 1122: 6, 21: 9, 1493: 5, 38: 10, 298: 5, 55: 8, 1416: 5, 1483: 4, 89: 8, 1681: 5, 1384: 5, 591: 6, 1599: 6, 416: 7, 700: 7, 1277: 6, 581: 7, 1923: 5, 355: 7, 280: 7, 77: 12, 667: 4, 853: 6, 32: 13, 524: 6, 1721: 6, 17: 12, 1344: 8, 308: 7, 1359: 4, 334: 7, 1188: 6, 102: 9, 1886: 5, 660: 6, 95: 9, 1478: 5, 1173: 5, 1432: 3, 1060: 6, 1468: 5, 433: 7, 778: 5, 939: 3, 441: 8, 186: 10, 292: 8, 1999: 3, 630: 5, 1767: 4, 765: 5, 1695: 4, 136: 8, 457: 7, 1668: 4, 467: 6, 841: 5, 66: 9, 759: 7, 1159: 5, 960: 6, 1590: 5, 1016: 7, 283: 7, 1849: 4, 62: 8, 962: 7, 236: 9, 903: 4, 571: 6, 256: 7, 945: 6, 1187: 5, 1071: 7, 531: 6, 669: 6, 816: 6, 1947: 6, 575: 7, 1136: 4, 1945: 6, 343: 8, 44: 12, 406: 8, 68: 12, 372: 6, 1596: 5, 1403: 6, 1198: 5, 166: 7, 69: 11, 938: 6, 420: 8, 29: 13, 803: 4, 804: 6, 98: 10, 1566: 6, 846: 6, 685: 6, 1151: 6, 0: 6, 138: 10, 1370: 5, 165: 7, 1218: 5, 57: 9, 655: 6, 1061: 5, 1328: 6, 601: 7, 1899: 4, 1784: 5, 1653: 4, 579: 6, 821: 6, 1339: 6, 61: 7, 143: 10, 1426: 4, 173: 8, 740: 6, 1934: 2, 480: 7, 1941: 5, 1669: 4, 1526: 5, 847: 6, 1145: 5, 648: 6, 364: 7, 1579: 3, 1171: 6, 463: 9, 440: 7, 625: 4, 1021: 5, 333: 7, 50: 8, 91: 7, 916: 6, 118: 9, 1835: 4, 350: 7, 1909: 3, 899: 6, 640: 5, 1074: 5, 542: 7, 337: 6, 1989: 4, 134: 9, 717: 6, 1719: 5, 890: 6, 71: 10, 180: 7, 64: 10, 815: 7, 348: 7, 1458: 5, 1610: 5, 1172: 6, 23: 10, 1286: 6, 535: 7, 313: 7, 1532: 6, 1012: 5, 972: 6, 122: 5, 599: 6, 225: 9, 170: 7, 862: 6, 831: 5, 340: 9, 1439: 3, 125: 7, 410: 7, 259: 9, 1255: 5, 132: 7, 424: 9, 649: 5, 58: 7, 654: 6, 79: 8, 144: 9, 381: 9, 1699: 5, 1951: 4, 1890: 4, 320: 8, 885: 7, 681: 6, 576: 8, 1139: 5, 1215: 4, 852: 6, 221: 8, 53: 10, 1287: 5, 999: 6, 689: 6, 802: 6, 937: 5, 1382: 4, 772: 6, 367: 8, 819: 6, 427: 5, 41: 8, 1993: 5, 1219: 5, 42: 9, 1839: 4, 1506: 7, 790: 6, 1769: 3, 806: 5, 752: 6, 492: 8, 736: 7, 1547: 6, 915: 6, 1273: 6, 494: 8, 1380: 5, 558: 5, 527: 7, 96: 9, 319: 8, 470: 9, 923: 7, 16: 10, 898: 5, 1594: 4, 1660: 5, 1408: 7, 250: 8, 1032: 4, 391: 7, 833: 7, 719: 6, 1463: 5, 580: 7, 1658: 4, 521: 7, 12: 14, 754: 6, 1488: 6, 197: 9, 82: 9, 286: 6, 541: 7, 224: 8, 718: 6, 544: 7, 478: 7, 1090: 5, 1496: 5, 633: 8, 1931: 6, 584: 7, 991: 8, 1332: 7, 1316: 4, 24: 10, 1170: 6, 1553: 6, 109: 11, 896: 7, 1542: 5, 469: 8, 1985: 4, 661: 6, 977: 6, 1217: 5, 1938: 5, 275: 6, 553: 6, 149: 8, 1042: 6, 20: 16, 354: 9, 973: 6, 554: 5, 147: 12, 1450: 5, 276: 8, 327: 7, 1527: 4, 1722: 6, 1567: 6, 974: 5, 200: 8, 1294: 4, 1238: 6, 1618: 5, 1659: 4, 1119: 5, 645: 6, 267: 11, 1536: 4, 546: 7, 404: 7, 1073: 6, 1027: 5, 1766: 2, 1953: 4, 1657: 5, 1266: 6, 1037: 6, 1655: 6, 400: 7, 722: 7, 1716: 5, 1424: 5, 1925: 5, 51: 13, 637: 7, 1433: 5, 1552: 4, 31: 11, 1880: 4, 1398: 4, 1057: 3, 1915: 5, 328: 8, 1422: 4, 796: 7, 1491: 5, 1730: 3, 67: 9, 314: 7, 5: 15, 1343: 6, 1635: 4, 1900: 4, 311: 7, 306: 7, 632: 7, 906: 5, 1429: 5, 294: 7, 394: 8, 1751: 4, 1946: 4, 1963: 5, 1812: 3, 1224: 5, 230: 9, 1905: 6, 1454: 4, 561: 7, 25: 11, 1967: 6, 254: 7, 8: 13, 1302: 6, 901: 6, 153: 11, 475: 8, 1505: 5, 177: 9, 1471: 4, 1867: 5, 1562: 4, 1780: 4, 1636: 5, 36: 11, 1158: 5, 1942: 4, 1369: 4, 9: 14, 935: 5, 356: 9, 634: 7, 782: 5, 788: 6, 506: 7, 1387: 4, 495: 9, 1442: 4, 659: 8, 586: 6, 1270: 5, 704: 7, 1157: 6, 1482: 6, 1252: 6, 1304: 5, 528: 8, 880: 7, 905: 4, 1574: 5, 2: 14, 1472: 4, 1518: 4, 611: 8, 954: 7, 390: 8, 1504: 6, 1193: 6, 1926: 4, 240: 8, 234: 7, 497: 9, 162: 9, 1405: 4, 219: 6, 741: 6, 1257: 5, 913: 5, 978: 6, 706: 8, 131: 11, 161: 11, 202: 7, 909: 6, 395: 6, 1576: 5, 72: 13, 1736: 5, 264: 8, 647: 9, 731: 6, 336: 9, 1465: 5, 1161: 5, 707: 7, 239: 8, 1029: 5, 1957: 4, 484: 8, 643: 7, 725: 7, 809: 5, 1324: 4, 808: 8, 1404: 5, 1981: 6, 1689: 4, 646: 7, 22: 10, 472: 7, 169: 7, 914: 7, 889: 2, 455: 7, 569: 8, 258: 10, 770: 6, 172: 9, 610: 6, 1944: 4, 127: 7, 39: 10, 75: 10, 423: 7, 1327: 4, 1183: 6, 163: 9, 883: 7, 1383: 6, 1036: 6, 514: 7, 210: 10, 238: 8, 278: 7, 805: 6, 844: 5, 787: 7, 486: 7, 677: 8, 555: 6, 1924: 3, 139: 8, 1: 15, 414: 8, 1561: 5, 1979: 2, 988: 6, 1676: 4, 1124: 6, 1135: 5, 120: 11, 249: 10, 1335: 5, 522: 6, 175: 7, 471: 8, 995: 4, 353: 10, 436: 8, 1326: 5, 48: 13, 14: 16, 450: 6, 818: 5, 107: 11, 171: 11, 1679: 4, 1412: 5, 365: 7, 1501: 4, 326: 6, 476: 6, 1568: 6, 60: 10, 1087: 6, 371: 8, 1098: 5, 1086: 6, 146: 7, 385: 6, 822: 6, 1476: 4, 1709: 4, 412: 7, 696: 6, 1787: 4, 1572: 5, 566: 6, 664: 7, 323: 6, 1312: 5, 515: 6, 1861: 4, 1512: 5, 376: 9, 160: 8, 263: 5, 767: 5, 1877: 3, 384: 8, 493: 6, 602: 7, 409: 8, 699: 3, 270: 7, 54: 12, 288: 7, 1272: 5, 374: 6, 1851: 5, 856: 5, 1114: 6, 1211: 6, 500: 7, 1014: 5, 1249: 6, 1810: 3, 451: 10, 142: 7, 185: 9, 345: 9, 1423: 5, 1234: 6, 994: 7, 800: 5, 710: 6, 848: 7, 1208: 5, 87: 7, 929: 7, 295: 7, 1443: 3, 1133: 5, 1893: 5, 755: 6, 933: 7, 1647: 3, 1865: 4, 884: 5, 1134: 5, 1885: 3, 137: 10, 1237: 6, 1737: 4, 223: 7, 322: 6, 1388: 5, 726: 7, 1460: 6, 1734: 5, 1894: 4, 548: 7, 771: 5, 112: 8, 698: 5, 1546: 6, 795: 7, 921: 6, 1644: 4, 773: 6, 182: 8, 1457: 4, 1555: 4, 1019: 7, 1075: 6, 1708: 4, 272: 10, 154: 9, 110: 9, 729: 7, 43: 10, 834: 7, 1907: 4, 1571: 5, 1180: 5, 1308: 4, 1968: 4, 798: 5, 1575: 6, 1916: 4, 703: 6, 1613: 4, 1295: 5, 1814: 4, 912: 6, 1528: 5, 1368: 4, 1396: 4, 668: 8, 1580: 5, 1714: 5, 1271: 5, 191: 9, 218: 8, 1196: 6, 63: 7, 656: 7, 587: 5, 559: 7, 1099: 4, 257: 9, 310: 6, 1084: 5, 1639: 3, 1588: 5, 1919: 3, 456: 8, 1149: 5, 1917: 4, 1259: 5, 603: 6, 1600: 5, 1177: 6, 1082: 6, 1703: 4, 1637: 4, 507: 6, 793: 7, 388: 5, 964: 5, 1539: 4, 1982: 3, 604: 8, 1106: 4, 1799: 5, 1132: 5, 508: 5, 538: 7, 108: 9, 1407: 5, 1834: 5, 1479: 4, 474: 9, 128: 9, 1330: 4, 496: 7, 47: 10, 1434: 5, 251: 9, 917: 6, 950: 6, 1247: 4, 918: 6, 671: 7, 488: 6, 1882: 4, 229: 8, 1425: 5, 1004: 6, 1591: 2, 1395: 6, 1879: 5, 1118: 7, 1242: 6, 1747: 3, 1619: 4, 7: 14, 324: 10, 877: 6, 1381: 5, 543: 9, 199: 9, 1563: 7, 1863: 4, 1761: 6, 1620: 4, 1310: 5, 642: 7, 212: 7, 1819: 4, 1089: 4, 951: 6, 892: 6, 1108: 5, 1254: 5, 1353: 4, 383: 9, 670: 7, 158: 7, 1741: 4, 1077: 7, 774: 8, 944: 5, 758: 6, 1534: 6, 183: 10, 1428: 4, 1296: 4, 351: 7, 1245: 6, 573: 6, 1300: 6, 1692: 4, 244: 8, 1517: 4, 992: 5, 1363: 5, 1094: 4, 854: 6, 875: 5, 1414: 4, 405: 8, 989: 5, 829: 5, 196: 10, 720: 7, 1469: 6, 693: 6, 361: 8, 1349: 6, 613: 7, 1984: 4, 1113: 7, 1267: 5, 651: 6, 1538: 5, 287: 8, 1854: 5, 1949: 3, 1844: 3, 627: 6, 1848: 4, 1275: 6, 1473: 5, 379: 8, 692: 5, 1233: 5, 130: 10, 1508: 5, 106: 11, 619: 7, 1334: 5, 1826: 4, 397: 8, 516: 8, 1840: 4, 511: 5, 65: 12, 1765: 5, 675: 7, 1908: 4, 850: 6, 1954: 5, 231: 9, 105: 8, 339: 5, 184: 9, 248: 7, 1103: 5, 1698: 4, 1112: 6, 40: 9, 1088: 4, 1258: 6, 1278: 5, 1913: 5, 1638: 4, 103: 8, 769: 9, 1067: 6, 10: 11, 461: 5, 955: 6, 349: 8, 235: 9, 1724: 4, 1202: 5, 1078: 5, 1693: 4, 1389: 5, 370: 9, 1581: 4, 838: 5, 260: 7, 1533: 5, 1586: 5, 1001: 6, 1192: 5, 86: 9, 742: 7, 97: 10, 1976: 5, 1500: 5, 600: 7, 799: 6, 466: 6, 215: 7, 739: 6, 502: 7, 953: 7, 723: 5, 1735: 5, 934: 8, 1342: 5, 1565: 5, 201: 8, 1549: 5, 1822: 4, 623: 7, 84: 9, 309: 7, 1209: 5, 534: 6, 100: 9, 653: 8, 940: 7, 332: 8, 1841: 4, 222: 8, 893: 6, 1682: 4, 341: 9, 33: 8, 1801: 5, 840: 6, 70: 9, 594: 8, 986: 5, 271: 11, 1427: 6, 1268: 4, 791: 5, 781: 5, 307: 6, 825: 5, 1140: 5, 1490: 6, 749: 6, 874: 5, 246: 7, 1248: 6, 1717: 3, 1035: 7, 1606: 5, 56: 12, 1965: 5, 1043: 4, 1990: 5, 1250: 5, 431: 5, 205: 7, 1494: 3, 304: 6, 811: 6, 198: 9, 628: 5, 398: 9, 930: 6, 1933: 4, 1511: 4, 1373: 6, 1127: 6, 1829: 4, 1750: 5, 140: 10, 1083: 4, 1828: 4, 1884: 4, 415: 7, 1901: 4, 1918: 5, 377: 8, 694: 6, 453: 8, 690: 7, 242: 9, 891: 5, 1125: 7, 593: 7, 1862: 6, 129: 8, 1728: 5, 843: 5, 1169: 5, 479: 5, 784: 4, 1643: 4, 1301: 5, 869: 6, 990: 6, 1654: 5, 539: 6, 368: 7, 1939: 4, 952: 7, 501: 6, 1213: 4, 716: 7, 550: 8, 606: 8, 957: 6, 135: 11, 1263: 5, 1306: 5, 1201: 5, 813: 6, 1959: 4, 399: 7, 487: 8, 919: 6, 449: 7, 1360: 4, 1878: 3, 835: 6, 1207: 7, 663: 6, 418: 9, 1241: 8, 1960: 4, 969: 6, 616: 6, 941: 5, 683: 7, 1650: 4, 145: 12, 701: 7, 1771: 5, 1921: 3, 552: 8, 1446: 6, 45: 12, 828: 6, 1274: 6, 1749: 5, 4: 7, 1376: 7, 1906: 5, 585: 6, 997: 7, 1972: 4, 618: 7, 1385: 4, 459: 9, 1498: 4, 1400: 4, 1214: 5, 1978: 4, 78: 6, 305: 6, 481: 7, 1673: 5, 1992: 4, 780: 7, 1231: 6, 1265: 5, 1558: 4, 1366: 5, 1943: 4, 537: 9, 1624: 4, 532: 6, 458: 6, 1130: 6, 1870: 5, 596: 6, 1163: 6, 1510: 5, 1873: 6, 27: 10, 1318: 7, 1040: 5, 1964: 3, 979: 6, 626: 8, 344: 8, 545: 9, 1323: 4, 1070: 7, 1871: 4, 1895: 5, 763: 5, 1284: 5, 59: 12, 1331: 5, 1386: 5, 948: 6, 1994: 4, 156: 10, 1633: 5, 695: 7, 996: 7, 1977: 5, 1514: 5, 1952: 4, 1824: 3, 621: 7, 1377: 6, 1147: 5, 908: 5, 1974: 4, 1723: 5, 1240: 6, 582: 7, 1164: 4, 117: 9, 1430: 5, 203: 9, 1986: 4, 503: 8, 674: 8, 1820: 4, 1269: 5, 159: 8, 1928: 3, 570: 9, 743: 5, 512: 8, 761: 5, 113: 7, 1545: 5, 605: 6, 1235: 5, 1678: 5, 1155: 5, 150: 7, 1319: 7, 1206: 6, 1128: 5, 526: 7, 1983: 4, 419: 8, 931: 5, 491: 9, 1194: 5, 1911: 4, 1813: 4, 1823: 4, 1774: 5, 1085: 5, 756: 5, 1409: 4, 750: 5, 1176: 5, 1189: 4, 562: 7, 360: 5, 382: 8, 1492: 5, 321: 8, 779: 5, 1570: 5, 114: 7, 352: 9, 1293: 4, 1845: 5, 673: 6, 676: 6, 1006: 4, 684: 6, 1314: 5, 1705: 5, 518: 7, 1866: 5, 1470: 5, 1910: 3, 1806: 5, 1092: 7, 282: 7, 1033: 5, 1589: 6, 1148: 5, 207: 9, 1003: 5, 1687: 4, 1632: 5, 1336: 4, 1629: 5, 1914: 5, 1559: 3, 1792: 5, 35: 9, 15: 11, 1438: 5, 1005: 6, 178: 6, 1153: 5, 505: 7, 193: 8, 104: 8, 293: 6, 216: 10, 887: 6, 155: 7, 1817: 4, 241: 10, 1160: 5, 679: 6, 1793: 4, 578: 6, 338: 7, 1912: 4, 1038: 6, 942: 6, 910: 6, 1607: 4, 1807: 4, 1000: 6, 347: 6, 1889: 4, 1857: 4, 277: 6, 1059: 6, 536: 5, 1351: 6, 1350: 6, 631: 9, 1832: 3, 902: 5, 290: 7, 1648: 4, 252: 9, 1440: 4, 498: 6, 465: 6, 1091: 7, 300: 7, 1455: 5, 1216: 5, 1141: 5, 1026: 6, 728: 6, 1515: 5, 1770: 4, 1503: 5, 1338: 6, 1184: 5, 1095: 8, 857: 7, 590: 5, 1564: 4, 1789: 4, 1079: 5, 672: 5, 124: 6, 1729: 4, 1522: 4, 1611: 5, 1448: 4, 993: 6, 1392: 4, 1111: 6, 928: 5, 777: 7, 860: 5, 462: 7, 904: 7, 1205: 4, 520: 7, 1374: 4, 1299: 5, 776: 8, 1998: 4, 1874: 4, 1126: 5, 1557: 5, 489: 8, 1904: 5, 291: 9, 1229: 6, 827: 7, 1055: 6, 636: 5, 861: 7, 279: 11, 865: 6, 1683: 3, 794: 9, 19: 10, 1775: 4, 807: 5, 1179: 5, 1651: 6, 1666: 5, 598: 8, 422: 6, 176: 13, 859: 6, 148: 7, 1688: 4, 1530: 5, 523: 6, 1662: 4, 482: 4, 378: 7, 983: 5, 245: 7, 151: 10, 1843: 5, 88: 11, 789: 7, 920: 6, 1109: 6, 30: 12, 1325: 5, 1046: 5, 1435: 5, 577: 6, 330: 7, 281: 9, 971: 5, 1010: 6, 1733: 5, 1390: 4, 872: 7, 748: 5, 1222: 5, 1174: 4, 429: 6, 1210: 8, 1110: 8, 1652: 5, 408: 7, 1995: 5, 712: 4, 1156: 7, 1018: 7, 1354: 6, 1025: 5, 801: 6, 1044: 4, 1401: 6, 1117: 5, 1732: 5, 574: 8, 318: 7, 998: 7, 1603: 4, 1794: 4, 387: 7, 1220: 5, 1185: 5, 509: 9, 1290: 6, 639: 7, 1743: 4, 1641: 4, 1485: 5, 1973: 4, 1162: 5, 583: 7, 949: 8, 174: 8, 1054: 6, 650: 7, 1608: 4, 1744: 3, 1980: 4, 473: 7, 1762: 4, 76: 9, 845: 6, 1480: 5, 1031: 6, 812: 6, 1415: 4, 1898: 4, 1645: 5, 1971: 4, 477: 7, 228: 10, 517: 6, 460: 10, 714: 6, 1631: 3, 1115: 4, 1080: 5, 837: 7, 1764: 5, 963: 5, 1970: 5, 1958: 6, 1543: 5, 965: 7, 961: 5, 1146: 7, 316: 8, 1175: 6, 1120: 3, 1772: 5, 499: 6, 926: 5, 564: 7, 1584: 5, 691: 6, 1578: 5, 1320: 4, 1406: 6, 1642: 4, 1540: 5, 301: 7, 439: 10, 302: 10, 936: 5, 1461: 4, 1101: 5, 1707: 3, 1372: 5, 1462: 6, 786: 6, 243: 8, 1930: 4, 836: 6, 1497: 5, 1649: 5, 1856: 3, 101: 10, 90: 6, 1297: 5, 1256: 4, 1102: 5, 1441: 5, 614: 6, 1694: 4, 785: 7, 1903: 4, 1397: 4, 1459: 5, 46: 12, 297: 8, 1634: 6, 1015: 6, 907: 5, 607: 7, 1221: 6, 1072: 5, 1347: 4, 924: 4, 18: 8, 1850: 5, 666: 6, 1956: 4, 1437: 5, 1627: 4, 1855: 7, 1831: 4, 1853: 4, 970: 4, 443: 11, 1675: 3, 1516: 4, 982: 6, 1303: 5, 665: 8, 401: 6, 702: 5, 1696: 5, 624: 7, 900: 7, 1028: 6, 1779: 4, 1100: 7, 1017: 6, 1525: 6, 285: 9, 1677: 4, 734: 7, 1888: 4, 1413: 5, 1076: 5, 1337: 2, 402: 4, 1474: 5, 1524: 4, 1605: 5, 13: 11, 1456: 6, 629: 9, 187: 8, 1623: 4, 686: 5, 897: 7, 1955: 4, 1837: 6, 1410: 4, 1756: 5, 1665: 5, 968: 7, 274: 6, 1034: 6, 126: 11, 1529: 4, 1451: 4, 1292: 5, 1604: 4, 1251: 4, 119: 6, 682: 5, 797: 5, 727: 6, 181: 8, 446: 6, 164: 6, 1097: 6, 195: 8, 1199: 6, 1243: 5, 273: 7, 26: 9, 1355: 3, 687: 6, 1002: 4, 947: 6, 152: 11, 1674: 4, 873: 6, 1052: 5, 1013: 5, 1321: 4, 1204: 7, 762: 7, 1367: 5, 111: 10, 179: 8, 878: 5, 417: 6, 824: 5, 80: 7, 1625: 4, 375: 8, 1023: 6, 1630: 4, 984: 6, 967: 6, 342: 8, 192: 7, 1788: 4, 985: 6, 1520: 5, 1481: 4, 366: 7, 1509: 5, 1282: 7, 868: 5, 560: 7, 1230: 5, 557: 6, 1935: 4, 705: 7, 211: 9, 882: 7, 1049: 5, 1039: 5, 1253: 5, 1601: 5, 1803: 5, 1537: 6, 1609: 6, 609: 6, 738: 6, 1902: 6, 1535: 5, 595: 7, 652: 6, 1773: 3, 1785: 5, 1464: 5, 975: 6, 513: 7, 1020: 7, 464: 8, 1922: 6, 1345: 4, 413: 6, 1068: 5, 1260: 5, 678: 7, 435: 6, 266: 8, 28: 5, 1467: 5, 1489: 4, 1739: 4, 1987: 5, 220: 9, 1058: 5, 1007: 6, 452: 7, 1391: 4, 331: 8, 1152: 6, 1712: 4, 1375: 4, 1107: 5, 1244: 5, 1569: 4, 733: 5, 1466: 5, 855: 7, 1808: 3, 1402: 4, 1362: 5, 1550: 5, 393: 7, 1499: 7, 1064: 5, 454: 7, 932: 5, 1011: 6, 396: 6, 1791: 4, 1786: 4, 1261: 6, 1186: 5, 1686: 5, 617: 6, 876: 7, 1105: 3, 1065: 5, 1411: 7, 1452: 5, 1309: 5, 204: 10, 81: 10, 188: 7, 1763: 4, 1142: 5, 644: 7, 858: 6, 1847: 3, 1358: 5, 1212: 5, 237: 7, 83: 8, 1069: 4, 533: 5, 1966: 3, 747: 5, 1948: 2, 1541: 5, 864: 6, 842: 5, 1616: 5, 1394: 5, 886: 7, 121: 8, 1887: 6, 1131: 5, 358: 7, 1436: 5, 1228: 5, 123: 8, 444: 7, 335: 7, 1449: 4, 563: 5, 1264: 5, 1582: 5, 697: 7, 1417: 4, 1768: 4, 1333: 5, 209: 9, 1223: 6, 662: 5, 442: 7, 1361: 5, 732: 5, 1800: 4, 764: 6, 1045: 5, 1418: 4, 956: 5, 1836: 4, 1050: 5, 1818: 3, 1950: 4, 504: 7, 1742: 4, 572: 7, 1313: 5, 1225: 3, 1288: 5, 1305: 5, 1809: 3, 823: 6, 768: 8, 1226: 5, 1701: 4, 1298: 5, 1137: 5, 620: 7, 1379: 4, 1195: 6, 269: 6, 1154: 6, 1129: 4, 1283: 5, 483: 7, 359: 7, 612: 4, 820: 5, 1597: 5, 1628: 3, 724: 7, 1997: 3, 1671: 4, 1190: 5, 976: 6, 1821: 3, 1883: 2, 1720: 4, 1755: 4, 1445: 6, 1706: 3, 386: 6, 1592: 6, 911: 6, 1805: 4, 1453: 5, 1096: 7, 1123: 6, 1166: 7, 1315: 4, 317: 8, 966: 7, 1291: 5, 1969: 3, 1329: 5, 115: 9, 1066: 6, 1348: 5, 1554: 5, 1393: 6, 814: 6, 1357: 6, 1548: 5, 1746: 4, 1371: 5, 1475: 4, 426: 4, 958: 6, 775: 7, 1502: 4, 792: 8, 1700: 4, 1121: 4, 1041: 5, 389: 8, 946: 6, 1352: 5, 1778: 4, 1227: 6, 980: 7, 540: 8, 1622: 4, 1937: 4, 363: 6, 1892: 4, 190: 7, 1167: 5, 1663: 4, 746: 7, 1838: 5, 1531: 4, 922: 5, 1062: 5, 713: 5, 1030: 7, 357: 6, 1975: 5, 1431: 5, 870: 6, 1573: 4, 708: 6, 1833: 4, 262: 7, 1447: 4, 1868: 5, 490: 7, 1864: 4, 468: 6, 597: 6, 1811: 2, 362: 7, 1364: 6, 1144: 6, 1281: 4, 987: 6, 1661: 3, 189: 9, 1715: 4, 1138: 5, 1776: 5, 1081: 5, 1232: 4, 881: 5, 1612: 5, 1487: 5, 1577: 5, 1640: 4, 1869: 2, 1795: 5, 1399: 5, 1279: 6, 1104: 5, 1150: 6, 1718: 3, 1759: 4, 1621: 4, 709: 4, 133: 8, 1754: 5, 1346: 5, 688: 5, 832: 7, 1670: 5, 1680: 4, 783: 5, 445: 7, 1846: 3, 1815: 2, 1507: 5, 1056: 5, 1598: 5, 715: 7, 888: 6, 1962: 3, 1063: 8, 1672: 5, 1585: 3, 730: 5, 116: 6, 1311: 5, 434: 9, 1783: 4, 1165: 6, 1727: 3, 1725: 4, 255: 6, 1421: 3, 1587: 3, 1419: 3, 525: 5, 1684: 5, 1825: 4, 1556: 5, 1602: 6, 1200: 5, 1356: 4, 638: 7, 959: 6, 1796: 5, 867: 6, 1797: 5, 1182: 4, 1593: 6, 1996: 5, 1872: 5, 1745: 4, 1798: 2, 635: 8, 1702: 4, 1881: 4, 214: 7, 1897: 4, 1927: 3, 1595: 5, 810: 5, 1626: 3, 1991: 5, 863: 5, 1777: 5, 735: 5, 1685: 4, 589: 6, 830: 5, 1691: 2, 1544: 3, 1940: 4, 1860: 3, 1748: 3, 1495: 3, 1932: 2, 1365: 4, 1896: 4, 1758: 4, 1289: 4, 1690: 3, 510: 6, 1322: 5, 1961: 5, 1752: 5, 194: 5, 1713: 4, 1760: 5, 1477: 5, 711: 8, 1317: 4, 1667: 5, 1116: 4, 1875: 3, 751: 6, 1656: 3, 1929: 4, 1731: 4, 1024: 6, 1753: 5, 1246: 4, 157: 8, 1802: 3, 1239: 5, 369: 5, 1523: 4, 1804: 4, 1816: 5, 766: 4, 826: 4}\n",
      "count => 11980\n"
     ]
    }
   ],
   "source": [
    "# for wlasl dataset \n",
    "\n",
    "import csv\n",
    "\n",
    "def read_csv(file_path):\n",
    "    with open(file_path, 'r', newline='') as file:\n",
    "        reader = csv.reader(file)\n",
    "        return [row for row in reader]\n",
    "\n",
    "def write_csv(file_path, data):\n",
    "    with open(file_path, 'w', newline='') as file:\n",
    "        writer = csv.writer(file)\n",
    "        writer.writerows(data)\n",
    "\n",
    "result_data = []\n",
    "\n",
    "# # when the labal is class name\n",
    "# for dirname, _, filenames in os.walk('/kaggle/input/wlasl-mediapipe-csv'):\n",
    "#     for filename in filenames:\n",
    "#         file = os.path.join(dirname, filename)\n",
    "#         temp_data = read_csv(file)\n",
    "#         print(len(temp_data))\n",
    "#         result_data += temp_data\n",
    "\n",
    "for i in range(1,13):\n",
    "    file = '/kaggle/input/wlasl-mediapipe-csv/wlasl-tr-matrix_file_'+str(i)+'_new.csv'\n",
    "    temp_data = read_csv(file)\n",
    "    print(len(temp_data))\n",
    "    result_data += temp_data\n",
    "        \n",
    "result_data = replace_label(result_data)\n",
    "# Save the concatenated data to a new CSV file\n",
    "result_file = '/kaggle/working/wlasl-matrix_file.csv'\n",
    "write_csv(result_file, result_data)"
   ]
  },
  {
   "cell_type": "code",
   "execution_count": 6,
   "id": "361e189a",
   "metadata": {
    "execution": {
     "iopub.execute_input": "2024-01-03T09:23:30.557369Z",
     "iopub.status.busy": "2024-01-03T09:23:30.557000Z",
     "iopub.status.idle": "2024-01-03T09:23:39.307957Z",
     "shell.execute_reply": "2024-01-03T09:23:39.306022Z"
    },
    "papermill": {
     "duration": 8.75984,
     "end_time": "2024-01-03T09:23:39.311077",
     "exception": false,
     "start_time": "2024-01-03T09:23:30.551237",
     "status": "completed"
    },
    "tags": []
   },
   "outputs": [
    {
     "name": "stdout",
     "output_type": "stream",
     "text": [
      "Max length video -  234\n"
     ]
    }
   ],
   "source": [
    "import csv\n",
    "# Specify the input and output file paths\n",
    "input_path = '/kaggle/working/wlasl-matrix_file.csv'\n",
    "# input_path = result_file\n",
    "\n",
    "\n",
    "max_length_video = 0\n",
    "\n",
    "# Open the input CSV file and the output CSV file\n",
    "with open(input_path, 'r') as input_file:\n",
    "\n",
    "    # Create a CSV reader object and a CSV writer object\n",
    "    reader = csv.reader(input_file)\n",
    "\n",
    "    # Iterate over each row in the input CSV file\n",
    "    for row in reader:\n",
    "        if(len(row) > max_length_video):\n",
    "            max_length_video = len(row)\n",
    "            \n",
    "print(\"Max length video - \", max_length_video)"
   ]
  },
  {
   "cell_type": "code",
   "execution_count": 7,
   "id": "bff63262",
   "metadata": {
    "execution": {
     "iopub.execute_input": "2024-01-03T09:23:39.322247Z",
     "iopub.status.busy": "2024-01-03T09:23:39.321777Z",
     "iopub.status.idle": "2024-01-03T09:24:53.791002Z",
     "shell.execute_reply": "2024-01-03T09:24:53.789565Z"
    },
    "papermill": {
     "duration": 74.481214,
     "end_time": "2024-01-03T09:24:53.796991",
     "exception": false,
     "start_time": "2024-01-03T09:23:39.315777",
     "status": "completed"
    },
    "tags": []
   },
   "outputs": [
    {
     "name": "stdout",
     "output_type": "stream",
     "text": [
      "Final Matrix Creation Successful. Download - padded_matrix_file.csv \n"
     ]
    }
   ],
   "source": [
    "# Padding with additional 0's\n",
    "\n",
    "\n",
    "# Specify the input and output file paths\n",
    "input_path = '/kaggle/working/wlasl-matrix_file.csv'\n",
    "output_path = '/kaggle/working/wlasl-padded_matrix_file.csv'\n",
    "\n",
    "# input_path = result_file\n",
    "# output_path = '/kaggle/working/lsa-padded_matrix_file.csv'\n",
    "\n",
    "# Open the input CSV file and the output CSV file\n",
    "with open(input_path, 'r') as input_file, open(output_path, 'w', newline='') as output_file:\n",
    "\n",
    "    # Create a CSV reader object and a CSV writer object\n",
    "    reader = csv.reader(input_file)\n",
    "    writer = csv.writer(output_file)\n",
    "\n",
    "    # Iterate over each row in the input CSV file\n",
    "    for row in reader:\n",
    "        \n",
    "        if( len(row)<max_length_video ):\n",
    "           \n",
    "            pad_item = len(eval(row[1]))*[0]\n",
    "            \n",
    "            add_list = (max_length_video-len(row))*[pad_item]\n",
    "            \n",
    "            row = row + add_list\n",
    "\n",
    "        # Write the two values to a new row in the output CSV file\n",
    "        \n",
    "        row = row[1:] + [row[0]]\n",
    "        \n",
    "        writer.writerow(row)\n",
    "        \n",
    "print(\"Final Matrix Creation Successful. Download - padded_matrix_file.csv \")\n"
   ]
  }
 ],
 "metadata": {
  "kaggle": {
   "accelerator": "none",
   "dataSources": [
    {
     "databundleVersionId": 7417883,
     "datasetId": 4116518,
     "sourceId": 7327759,
     "sourceType": "datasetVersion"
    },
    {
     "databundleVersionId": 7418595,
     "datasetId": 4251684,
     "sourceId": 7328469,
     "sourceType": "datasetVersion"
    }
   ],
   "dockerImageVersionId": 30626,
   "isGpuEnabled": false,
   "isInternetEnabled": true,
   "language": "python",
   "sourceType": "notebook"
  },
  "kernelspec": {
   "display_name": "Python 3",
   "language": "python",
   "name": "python3"
  },
  "language_info": {
   "codemirror_mode": {
    "name": "ipython",
    "version": 3
   },
   "file_extension": ".py",
   "mimetype": "text/x-python",
   "name": "python",
   "nbconvert_exporter": "python",
   "pygments_lexer": "ipython3",
   "version": "3.10.12"
  },
  "papermill": {
   "default_parameters": {},
   "duration": 139.528329,
   "end_time": "2024-01-03T09:24:54.524026",
   "environment_variables": {},
   "exception": null,
   "input_path": "__notebook__.ipynb",
   "output_path": "__notebook__.ipynb",
   "parameters": {},
   "start_time": "2024-01-03T09:22:34.995697",
   "version": "2.4.0"
  }
 },
 "nbformat": 4,
 "nbformat_minor": 5
}
